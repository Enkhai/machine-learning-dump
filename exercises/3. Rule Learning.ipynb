{
 "cells": [
  {
   "cell_type": "markdown",
   "metadata": {},
   "source": [
    "# Part 3: Rule Learning\n",
    "\n",
    "We use the CN2 Learner of the Orange Python API to predict wine Proline class."
   ]
  },
  {
   "cell_type": "markdown",
   "metadata": {},
   "source": [
    "We begin by importing needed libraries. This time we are only going to need Orange to work with"
   ]
  },
  {
   "cell_type": "code",
   "execution_count": 1,
   "metadata": {},
   "outputs": [],
   "source": [
    "import Orange"
   ]
  },
  {
   "cell_type": "markdown",
   "metadata": {},
   "source": [
    "We load our data from the `wine.csv` file"
   ]
  },
  {
   "cell_type": "code",
   "execution_count": 2,
   "metadata": {},
   "outputs": [],
   "source": [
    "data = Orange.data.Table(\"wine\")"
   ]
  },
  {
   "cell_type": "markdown",
   "metadata": {},
   "source": [
    "Let's take a look at the shape of our features and targets"
   ]
  },
  {
   "cell_type": "code",
   "execution_count": 3,
   "metadata": {},
   "outputs": [
    {
     "data": {
      "text/plain": [
       "((178, 13), (178,))"
      ]
     },
     "execution_count": 3,
     "metadata": {},
     "output_type": "execute_result"
    }
   ],
   "source": [
    "data.X.shape, data.Y.shape"
   ]
  },
  {
   "cell_type": "markdown",
   "metadata": {},
   "source": [
    "What are the feature names?"
   ]
  },
  {
   "cell_type": "code",
   "execution_count": 4,
   "metadata": {},
   "outputs": [
    {
     "data": {
      "text/plain": [
       "[Alcohol, Malic Acid, Ash, Alcalinity of ash, Magnesium, Total phenols, Flavanoids, Nonflavanoid phenols, Proanthocyanins, Color intensity, Hue, OD280/OD315 of diluted wines, Proline | Wine]"
      ]
     },
     "execution_count": 4,
     "metadata": {},
     "output_type": "execute_result"
    }
   ],
   "source": [
    "data.domain"
   ]
  },
  {
   "cell_type": "markdown",
   "metadata": {},
   "source": [
    "We will use these hyperparameters to train 3 different learners.\n",
    "\n",
    "The values below are the optimal values."
   ]
  },
  {
   "cell_type": "code",
   "execution_count": 5,
   "metadata": {},
   "outputs": [],
   "source": [
    "ordered_learner_optimal = {'beam_width':4,\n",
    "                          'min_rule_cvg':15,\n",
    "                          'max_rule_length':3}\n",
    "unordered_learner_optimal = {'beam_width':2,\n",
    "                            'min_rule_cvg':5,\n",
    "                            'max_rule_length':3}\n",
    "ordered_laplace_learner_optimal = {'beam_width':11,\n",
    "                                  'min_rule_cvg':8,\n",
    "                                  'max_rule_length':3}"
   ]
  },
  {
   "cell_type": "markdown",
   "metadata": {},
   "source": [
    "We build our learners"
   ]
  },
  {
   "cell_type": "code",
   "execution_count": 6,
   "metadata": {},
   "outputs": [],
   "source": [
    "ordered_learner = Orange.classification.CN2Learner()\n",
    "ordered_learner.rule_finder.search_algorithm.beam_width = ordered_learner_optimal['beam_width']\n",
    "ordered_learner.rule_finder.general_validator.min_covered_examples = ordered_learner_optimal['min_rule_cvg']\n",
    "ordered_learner.rule_finder.general_validator.max_rule_length = ordered_learner_optimal['max_rule_length']\n",
    "\n",
    "unordered_learner = Orange.classification.CN2UnorderedLearner()\n",
    "unordered_learner.rule_finder.search_algorithm.beam_width = unordered_learner_optimal['beam_width']\n",
    "unordered_learner.rule_finder.general_validator.min_covered_examples = unordered_learner_optimal['min_rule_cvg']\n",
    "unordered_learner.rule_finder.general_validator.max_rule_length = unordered_learner_optimal['max_rule_length']\n",
    "            \n",
    "ordered_laplace_learner = Orange.classification.CN2Learner()\n",
    "ordered_laplace_learner.rule_finder.quality_evaluator = Orange.classification.rules.LaplaceAccuracyEvaluator()\n",
    "ordered_laplace_learner.rule_finder.search_algorithm.beam_width = ordered_laplace_learner_optimal['beam_width']\n",
    "ordered_laplace_learner.rule_finder.general_validator.min_covered_examples = ordered_laplace_learner_optimal['min_rule_cvg']\n",
    "ordered_laplace_learner.rule_finder.general_validator.max_rule_length = ordered_laplace_learner_optimal['max_rule_length']"
   ]
  },
  {
   "cell_type": "markdown",
   "metadata": {},
   "source": [
    "We will use a dictionary to manage training of the three different models"
   ]
  },
  {
   "cell_type": "code",
   "execution_count": 7,
   "metadata": {},
   "outputs": [],
   "source": [
    "learners = {'ordered learner':ordered_learner,\n",
    "            'unordered learner':unordered_learner,\n",
    "            'ordered laplace':ordered_laplace_learner}"
   ]
  },
  {
   "cell_type": "markdown",
   "metadata": {},
   "source": [
    "We create our cross-validator. We will use this to evaluate our models.\n",
    "\n",
    "For number of folds we will use the default setting, which is 10."
   ]
  },
  {
   "cell_type": "code",
   "execution_count": 8,
   "metadata": {},
   "outputs": [],
   "source": [
    "cv = Orange.evaluation.CrossValidation(stratified=True)"
   ]
  },
  {
   "cell_type": "markdown",
   "metadata": {},
   "source": [
    "We proceed to train our models with the cross-validator and gain some results."
   ]
  },
  {
   "cell_type": "code",
   "execution_count": 9,
   "metadata": {},
   "outputs": [],
   "source": [
    "results = cv(data, learners.values())"
   ]
  },
  {
   "cell_type": "markdown",
   "metadata": {},
   "source": [
    "We compute the accuracy, recall, precision and F1 scores of our models"
   ]
  },
  {
   "cell_type": "code",
   "execution_count": 10,
   "metadata": {},
   "outputs": [],
   "source": [
    "accuracy = Orange.evaluation.scoring.CA(results)\n",
    "recall = Orange.evaluation.scoring.Recall(results, average='macro')\n",
    "precision = Orange.evaluation.scoring.Precision(results, average='macro')\n",
    "f1 = Orange.evaluation.scoring.F1(results, average='macro')"
   ]
  },
  {
   "cell_type": "markdown",
   "metadata": {},
   "source": [
    "And proceed to display them"
   ]
  },
  {
   "cell_type": "code",
   "execution_count": 11,
   "metadata": {
    "scrolled": true
   },
   "outputs": [
    {
     "name": "stdout",
     "output_type": "stream",
     "text": [
      "\n",
      "ordered learner\n",
      "Accuracy: 0.9325842696629213\n",
      "Precision: 0.9340485000397868\n",
      "Recall: 0.9340485000397868\n",
      "F1: 0.9354243665301502\n",
      "\n",
      "unordered learner\n",
      "Accuracy: 0.9269662921348315\n",
      "Precision: 0.9229446831649027\n",
      "Recall: 0.9229446831649027\n",
      "F1: 0.9282453367910639\n",
      "\n",
      "ordered laplace\n",
      "Accuracy: 0.9269662921348315\n",
      "Precision: 0.924854446831649\n",
      "Recall: 0.924854446831649\n",
      "F1: 0.9275011339574802\n"
     ]
    }
   ],
   "source": [
    "for learner, acc, rec, prec, f1_score in zip(learners.keys(), accuracy, recall, precision, f1):\n",
    "    print(\"\\n\" + learner)\n",
    "    print(\"Accuracy: \" + str(acc))\n",
    "    print(\"Precision: \" + str(rec))\n",
    "    print(\"Recall: \" + str(rec))\n",
    "    print(\"F1: \" + str(f1_score))"
   ]
  },
  {
   "cell_type": "markdown",
   "metadata": {},
   "source": [
    "We will now extract some rules by training our models again and making new classifiers out of them"
   ]
  },
  {
   "cell_type": "code",
   "execution_count": 12,
   "metadata": {},
   "outputs": [],
   "source": [
    "classifiers = dict([(learner[0], learner[1](data)) for learner in learners.items()])"
   ]
  },
  {
   "cell_type": "markdown",
   "metadata": {},
   "source": [
    "We display the rules of those classifiers"
   ]
  },
  {
   "cell_type": "code",
   "execution_count": 13,
   "metadata": {
    "scrolled": true
   },
   "outputs": [
    {
     "name": "stdout",
     "output_type": "stream",
     "text": [
      "\n",
      "ordered learner\n",
      "IF Proline>=990.0 THEN Wine=1 \n",
      "IF Color intensity>=6.62 THEN Wine=3 \n",
      "IF Color intensity<=3.52 AND Alcalinity of ash>=20.4 THEN Wine=2 \n",
      "IF Ash<=2.1 AND Hue>=0.93 THEN Wine=2 \n",
      "IF Flavanoids<=1.3 AND Color intensity>=3.85 THEN Wine=3 \n",
      "IF Alcohol<=12.93 AND Nonflavanoid phenols>=0.26 THEN Wine=2 \n",
      "IF Proline>=680.0 AND Flavanoids>=2.41 THEN Wine=1 \n",
      "IF TRUE THEN Wine=2 \n",
      "\n",
      "unordered learner\n",
      "IF Proline>=760.0 AND Alcohol>=13.39 THEN Wine=1 \n",
      "IF Proline>=1015.0 THEN Wine=1 \n",
      "IF Alcohol>=12.77 AND OD280/OD315 of diluted wines>=2.48 AND Magnesium>=102.0 THEN Wine=1 \n",
      "IF Color intensity<=3.52 AND Nonflavanoid phenols>=0.29 THEN Wine=2 \n",
      "IF Alcohol<=12.2 AND Total phenols>=1.45 THEN Wine=2 \n",
      "IF Malic Acid<=1.35 AND Hue>=1.04 THEN Wine=2 \n",
      "IF Proline<=480.0 AND Flavanoids>=1.41 THEN Wine=2 \n",
      "IF Flavanoids<=0.99 AND Color intensity>=3.85 THEN Wine=3 \n",
      "IF Hue<=0.79 AND Color intensity>=4.1 THEN Wine=3 \n",
      "IF TRUE THEN Wine=2 \n",
      "\n",
      "ordered laplace\n",
      "IF Proline>=760.0 AND Alcohol>=13.39 THEN Wine=1 \n",
      "IF Alcohol<=12.79 AND OD280/OD315 of diluted wines>=2.06 THEN Wine=2 \n",
      "IF Flavanoids<=1.59 AND Malic Acid>=1.67 AND Magnesium>=86.0 THEN Wine=3 \n",
      "IF Proline>=680.0 AND Color intensity>=3.58 THEN Wine=1 \n",
      "IF OD280/OD315 of diluted wines>=1.59 THEN Wine=2 \n",
      "IF TRUE THEN Wine=2 \n"
     ]
    }
   ],
   "source": [
    "for classifier in classifiers.items():\n",
    "    print(\"\\n\" + classifier[0])\n",
    "    for rule in classifier[1].rule_list:\n",
    "        print(rule)"
   ]
  }
 ],
 "metadata": {
  "kernelspec": {
   "display_name": "Python 3",
   "language": "python",
   "name": "python3"
  },
  "language_info": {
   "codemirror_mode": {
    "name": "ipython",
    "version": 3
   },
   "file_extension": ".py",
   "mimetype": "text/x-python",
   "name": "python",
   "nbconvert_exporter": "python",
   "pygments_lexer": "ipython3",
   "version": "3.8.5"
  }
 },
 "nbformat": 4,
 "nbformat_minor": 4
}
