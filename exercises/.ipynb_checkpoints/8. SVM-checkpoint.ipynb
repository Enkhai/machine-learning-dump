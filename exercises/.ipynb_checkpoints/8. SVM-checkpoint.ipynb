{
 "cells": [
  {
   "cell_type": "markdown",
   "metadata": {
    "id": "Vmh2wKJiNRZX"
   },
   "source": [
    "# Part 8: SVM\n",
    "\n",
    "Evaluating different SVM models on the [Credit Card dataset](https://www.kaggle.com/mlg-ulb/creditcardfraud)\n",
    "\n",
    "\\*Note: We suggest running the notebook in a Google Colab environment"
   ]
  },
  {
   "cell_type": "markdown",
   "metadata": {
    "id": "jAI3jZv9A6fW"
   },
   "source": [
    "## Preparing the environment"
   ]
  },
  {
   "cell_type": "markdown",
   "metadata": {
    "id": "066CG7F-JpTH"
   },
   "source": [
    "For this exercise, we are going to use a Google Colab notebook and make use of GPU parallelization, since SVMs can take a lot of training time.\n",
    "\n",
    "For this purpose, we are going to use the `thundersvm` module which can help us utilize a graphics card to drastically reduce training time.\n",
    "\n",
    "We install CUDA on our Colab environment and `thundersvm`."
   ]
  },
  {
   "cell_type": "code",
   "execution_count": 1,
   "metadata": {
    "colab": {
     "base_uri": "https://localhost:8080/"
    },
    "id": "vMAtFhoiNrkC",
    "outputId": "9d449117-9661-4dcd-bc47-77edb62c56a1"
   },
   "outputs": [
    {
     "name": "stdout",
     "output_type": "stream",
     "text": [
      "--2020-12-15 21:08:22--  https://developer.nvidia.com/compute/cuda/9.0/Prod/local_installers/cuda-repo-ubuntu1704-9-0-local_9.0.176-1_amd64-deb\n",
      "Resolving developer.nvidia.com (developer.nvidia.com)... 152.199.0.24\n",
      "Connecting to developer.nvidia.com (developer.nvidia.com)|152.199.0.24|:443... connected.\n",
      "HTTP request sent, awaiting response... 302 Found\n",
      "Location: https://developer.download.nvidia.com/compute/cuda/9.0/secure/Prod/local_installers/cuda-repo-ubuntu1704-9-0-local_9.0.176-1_amd64.deb?Pw3d-laPfGotIMjiX0EzT5uTgKaSUtBLX5Gmag40Njb-mfY6OXPW-yZpNqrOMQ5mRYK8Tnx5p2bHCPh3IBi8hg6l7TsWGoW7UnnpfeWVpQgGBOwz8L3Q8f_tirPszMbYaZmRdsw8Nu5E4w07T82lfbTkDAH18SJCPILHYYITIU9Dw7jRnD-oTUMlqj345K8GaD77Z-yDbyKkQgsWkmkK [following]\n",
      "--2020-12-15 21:08:22--  https://developer.download.nvidia.com/compute/cuda/9.0/secure/Prod/local_installers/cuda-repo-ubuntu1704-9-0-local_9.0.176-1_amd64.deb?Pw3d-laPfGotIMjiX0EzT5uTgKaSUtBLX5Gmag40Njb-mfY6OXPW-yZpNqrOMQ5mRYK8Tnx5p2bHCPh3IBi8hg6l7TsWGoW7UnnpfeWVpQgGBOwz8L3Q8f_tirPszMbYaZmRdsw8Nu5E4w07T82lfbTkDAH18SJCPILHYYITIU9Dw7jRnD-oTUMlqj345K8GaD77Z-yDbyKkQgsWkmkK\n",
      "Resolving developer.download.nvidia.com (developer.download.nvidia.com)... 152.195.19.142\n",
      "Connecting to developer.download.nvidia.com (developer.download.nvidia.com)|152.195.19.142|:443... connected.\n",
      "HTTP request sent, awaiting response... 200 OK\n",
      "Length: 1216133170 (1.1G) [application/x-deb]\n",
      "Saving to: ‘cuda-repo-ubuntu1704-9-0-local_9.0.176-1_amd64-deb’\n",
      "\n",
      "cuda-repo-ubuntu170 100%[===================>]   1.13G   218MB/s    in 5.5s    \n",
      "\n",
      "2020-12-15 21:08:28 (209 MB/s) - ‘cuda-repo-ubuntu1704-9-0-local_9.0.176-1_amd64-deb’ saved [1216133170/1216133170]\n",
      "\n",
      "Selecting previously unselected package cuda-repo-ubuntu1704-9-0-local.\n",
      "(Reading database ... 144865 files and directories currently installed.)\n",
      "Preparing to unpack cuda-repo-ubuntu1704-9-0-local_9.0.176-1_amd64-deb ...\n",
      "Unpacking cuda-repo-ubuntu1704-9-0-local (9.0.176-1) ...\n",
      "Setting up cuda-repo-ubuntu1704-9-0-local (9.0.176-1) ...\n",
      "OK\n",
      "Get:1 file:/var/cuda-repo-9-0-local  InRelease\n",
      "Ign:1 file:/var/cuda-repo-9-0-local  InRelease\n",
      "Get:2 file:/var/cuda-repo-9-0-local  Release [574 B]\n",
      "Get:2 file:/var/cuda-repo-9-0-local  Release [574 B]\n",
      "Get:3 file:/var/cuda-repo-9-0-local  Release.gpg [819 B]\n",
      "Get:3 file:/var/cuda-repo-9-0-local  Release.gpg [819 B]\n",
      "Ign:4 https://developer.download.nvidia.com/compute/cuda/repos/ubuntu1804/x86_64  InRelease\n",
      "Ign:5 https://developer.download.nvidia.com/compute/machine-learning/repos/ubuntu1804/x86_64  InRelease\n",
      "Get:6 https://cloud.r-project.org/bin/linux/ubuntu bionic-cran40/ InRelease [3,626 B]\n",
      "Get:7 https://developer.download.nvidia.com/compute/cuda/repos/ubuntu1804/x86_64  Release [697 B]\n",
      "Hit:8 https://developer.download.nvidia.com/compute/machine-learning/repos/ubuntu1804/x86_64  Release\n",
      "Get:9 http://security.ubuntu.com/ubuntu bionic-security InRelease [88.7 kB]\n",
      "Get:10 https://developer.download.nvidia.com/compute/cuda/repos/ubuntu1804/x86_64  Release.gpg [836 B]\n",
      "Get:11 file:/var/cuda-repo-9-0-local  Packages [15.8 kB]\n",
      "Hit:12 http://archive.ubuntu.com/ubuntu bionic InRelease\n",
      "Get:13 http://ppa.launchpad.net/c2d4u.team/c2d4u4.0+/ubuntu bionic InRelease [15.9 kB]\n",
      "Get:14 https://cloud.r-project.org/bin/linux/ubuntu bionic-cran40/ Packages [40.7 kB]\n",
      "Get:15 http://archive.ubuntu.com/ubuntu bionic-updates InRelease [88.7 kB]\n",
      "Ign:17 https://developer.download.nvidia.com/compute/cuda/repos/ubuntu1804/x86_64  Packages\n",
      "Get:17 https://developer.download.nvidia.com/compute/cuda/repos/ubuntu1804/x86_64  Packages [506 kB]\n",
      "Get:18 http://ppa.launchpad.net/graphics-drivers/ppa/ubuntu bionic InRelease [21.3 kB]\n",
      "Get:19 http://archive.ubuntu.com/ubuntu bionic-backports InRelease [74.6 kB]\n",
      "Get:20 http://security.ubuntu.com/ubuntu bionic-security/restricted amd64 Packages [237 kB]\n",
      "Get:21 http://security.ubuntu.com/ubuntu bionic-security/multiverse amd64 Packages [15.3 kB]\n",
      "Get:22 http://security.ubuntu.com/ubuntu bionic-security/main amd64 Packages [1,816 kB]\n",
      "Get:23 http://ppa.launchpad.net/c2d4u.team/c2d4u4.0+/ubuntu bionic/main Sources [1,698 kB]\n",
      "Get:24 http://archive.ubuntu.com/ubuntu bionic-updates/universe amd64 Packages [2,136 kB]\n",
      "Get:25 http://security.ubuntu.com/ubuntu bionic-security/universe amd64 Packages [1,372 kB]\n",
      "Get:26 http://archive.ubuntu.com/ubuntu bionic-updates/main amd64 Packages [2,244 kB]\n",
      "Get:27 http://archive.ubuntu.com/ubuntu bionic-updates/restricted amd64 Packages [266 kB]\n",
      "Get:28 http://archive.ubuntu.com/ubuntu bionic-updates/multiverse amd64 Packages [53.8 kB]\n",
      "Get:29 http://ppa.launchpad.net/c2d4u.team/c2d4u4.0+/ubuntu bionic/main amd64 Packages [870 kB]\n",
      "Get:30 http://ppa.launchpad.net/graphics-drivers/ppa/ubuntu bionic/main amd64 Packages [46.5 kB]\n",
      "Fetched 11.6 MB in 4s (3,014 kB/s)\n",
      "Reading package lists... Done\n",
      "Reading package lists... Done\n",
      "Building dependency tree       \n",
      "Reading state information... Done\n",
      "Note, selecting 'cuda-9-0' for regex 'cuda-9.0'\n",
      "Note, selecting 'libcuda-9.0-1' for regex 'cuda-9.0'\n",
      "The following additional packages will be installed:\n",
      "  cuda-command-line-tools-9-0 cuda-core-9-0 cuda-cublas-9-0\n",
      "  cuda-cublas-dev-9-0 cuda-cudart-9-0 cuda-cudart-dev-9-0 cuda-cufft-9-0\n",
      "  cuda-cufft-dev-9-0 cuda-curand-9-0 cuda-curand-dev-9-0 cuda-cusolver-9-0\n",
      "  cuda-cusolver-dev-9-0 cuda-cusparse-9-0 cuda-cusparse-dev-9-0\n",
      "  cuda-demo-suite-9-0 cuda-documentation-9-0 cuda-driver-dev-9-0\n",
      "  cuda-libraries-9-0 cuda-libraries-dev-9-0 cuda-license-9-0\n",
      "  cuda-misc-headers-9-0 cuda-npp-9-0 cuda-npp-dev-9-0 cuda-nvgraph-9-0\n",
      "  cuda-nvgraph-dev-9-0 cuda-nvml-dev-9-0 cuda-nvrtc-9-0 cuda-nvrtc-dev-9-0\n",
      "  cuda-runtime-9-0 cuda-samples-9-0 cuda-toolkit-9-0 cuda-visual-tools-9-0\n",
      "The following NEW packages will be installed:\n",
      "  cuda-9-0 cuda-command-line-tools-9-0 cuda-core-9-0 cuda-cublas-9-0\n",
      "  cuda-cublas-dev-9-0 cuda-cudart-9-0 cuda-cudart-dev-9-0 cuda-cufft-9-0\n",
      "  cuda-cufft-dev-9-0 cuda-curand-9-0 cuda-curand-dev-9-0 cuda-cusolver-9-0\n",
      "  cuda-cusolver-dev-9-0 cuda-cusparse-9-0 cuda-cusparse-dev-9-0\n",
      "  cuda-demo-suite-9-0 cuda-documentation-9-0 cuda-driver-dev-9-0\n",
      "  cuda-libraries-9-0 cuda-libraries-dev-9-0 cuda-license-9-0\n",
      "  cuda-misc-headers-9-0 cuda-npp-9-0 cuda-npp-dev-9-0 cuda-nvgraph-9-0\n",
      "  cuda-nvgraph-dev-9-0 cuda-nvml-dev-9-0 cuda-nvrtc-9-0 cuda-nvrtc-dev-9-0\n",
      "  cuda-runtime-9-0 cuda-samples-9-0 cuda-toolkit-9-0 cuda-visual-tools-9-0\n",
      "0 upgraded, 33 newly installed, 0 to remove and 47 not upgraded.\n",
      "Need to get 0 B/1,097 MB of archives.\n",
      "After this operation, 2,315 MB of additional disk space will be used.\n",
      "Get:1 file:/var/cuda-repo-9-0-local  cuda-license-9-0 9.0.176-1 [22.0 kB]\n",
      "Get:2 file:/var/cuda-repo-9-0-local  cuda-misc-headers-9-0 9.0.176-1 [684 kB]\n",
      "Get:3 file:/var/cuda-repo-9-0-local  cuda-core-9-0 9.0.176-1 [16.9 MB]\n",
      "Get:4 file:/var/cuda-repo-9-0-local  cuda-cudart-9-0 9.0.176-1 [106 kB]\n",
      "Get:5 file:/var/cuda-repo-9-0-local  cuda-driver-dev-9-0 9.0.176-1 [10.9 kB]\n",
      "Get:6 file:/var/cuda-repo-9-0-local  cuda-cudart-dev-9-0 9.0.176-1 [767 kB]\n",
      "Get:7 file:/var/cuda-repo-9-0-local  cuda-command-line-tools-9-0 9.0.176-1 [25.4 MB]\n",
      "Get:8 file:/var/cuda-repo-9-0-local  cuda-nvrtc-9-0 9.0.176-1 [6,348 kB]\n",
      "Get:9 file:/var/cuda-repo-9-0-local  cuda-nvrtc-dev-9-0 9.0.176-1 [9,334 B]\n",
      "Get:10 file:/var/cuda-repo-9-0-local  cuda-cusolver-9-0 9.0.176-1 [26.2 MB]\n",
      "Get:11 file:/var/cuda-repo-9-0-local  cuda-cusolver-dev-9-0 9.0.176-1 [5,317 kB]\n",
      "Get:12 file:/var/cuda-repo-9-0-local  cuda-cublas-9-0 9.0.176-1 [25.0 MB]\n",
      "Get:13 file:/var/cuda-repo-9-0-local  cuda-cublas-dev-9-0 9.0.176-1 [49.4 MB]\n",
      "Get:14 file:/var/cuda-repo-9-0-local  cuda-cufft-9-0 9.0.176-1 [84.1 MB]\n",
      "Get:15 file:/var/cuda-repo-9-0-local  cuda-cufft-dev-9-0 9.0.176-1 [73.7 MB]\n",
      "Get:16 file:/var/cuda-repo-9-0-local  cuda-curand-9-0 9.0.176-1 [38.8 MB]\n",
      "Get:17 file:/var/cuda-repo-9-0-local  cuda-curand-dev-9-0 9.0.176-1 [57.9 MB]\n",
      "Get:18 file:/var/cuda-repo-9-0-local  cuda-cusparse-9-0 9.0.176-1 [25.2 MB]\n",
      "Get:19 file:/var/cuda-repo-9-0-local  cuda-cusparse-dev-9-0 9.0.176-1 [25.3 MB]\n",
      "Get:20 file:/var/cuda-repo-9-0-local  cuda-npp-9-0 9.0.176-1 [46.6 MB]\n",
      "Get:21 file:/var/cuda-repo-9-0-local  cuda-npp-dev-9-0 9.0.176-1 [46.6 MB]\n",
      "Get:22 file:/var/cuda-repo-9-0-local  cuda-nvgraph-9-0 9.0.176-1 [6,081 kB]\n",
      "Get:23 file:/var/cuda-repo-9-0-local  cuda-nvgraph-dev-9-0 9.0.176-1 [5,658 kB]\n",
      "Get:24 file:/var/cuda-repo-9-0-local  cuda-samples-9-0 9.0.176-1 [75.9 MB]\n",
      "Get:25 file:/var/cuda-repo-9-0-local  cuda-documentation-9-0 9.0.176-1 [53.1 MB]\n",
      "Get:26 file:/var/cuda-repo-9-0-local  cuda-libraries-dev-9-0 9.0.176-1 [2,596 B]\n",
      "Get:27 file:/var/cuda-repo-9-0-local  cuda-nvml-dev-9-0 9.0.176-1 [47.6 kB]\n",
      "Get:28 file:/var/cuda-repo-9-0-local  cuda-visual-tools-9-0 9.0.176-1 [398 MB]\n",
      "Get:29 file:/var/cuda-repo-9-0-local  cuda-toolkit-9-0 9.0.176-1 [2,836 B]\n",
      "Get:30 file:/var/cuda-repo-9-0-local  cuda-libraries-9-0 9.0.176-1 [2,566 B]\n",
      "Get:31 file:/var/cuda-repo-9-0-local  cuda-runtime-9-0 9.0.176-1 [2,526 B]\n",
      "Get:32 file:/var/cuda-repo-9-0-local  cuda-demo-suite-9-0 9.0.176-1 [3,880 kB]\n",
      "Get:33 file:/var/cuda-repo-9-0-local  cuda-9-0 9.0.176-1 [2,552 B]\n",
      "debconf: unable to initialize frontend: Dialog\n",
      "debconf: (No usable dialog-like program is installed, so the dialog based frontend cannot be used. at /usr/share/perl5/Debconf/FrontEnd/Dialog.pm line 76, <> line 33.)\n",
      "debconf: falling back to frontend: Readline\n",
      "debconf: unable to initialize frontend: Readline\n",
      "debconf: (This frontend requires a controlling tty.)\n",
      "debconf: falling back to frontend: Teletype\n",
      "dpkg-preconfigure: unable to re-open stdin: \n",
      "Selecting previously unselected package cuda-license-9-0.\n",
      "(Reading database ... 144924 files and directories currently installed.)\n",
      "Preparing to unpack .../00-cuda-license-9-0_9.0.176-1_amd64.deb ...\n",
      "Unpacking cuda-license-9-0 (9.0.176-1) ...\n",
      "Selecting previously unselected package cuda-misc-headers-9-0.\n",
      "Preparing to unpack .../01-cuda-misc-headers-9-0_9.0.176-1_amd64.deb ...\n",
      "Unpacking cuda-misc-headers-9-0 (9.0.176-1) ...\n",
      "Selecting previously unselected package cuda-core-9-0.\n",
      "Preparing to unpack .../02-cuda-core-9-0_9.0.176-1_amd64.deb ...\n",
      "Unpacking cuda-core-9-0 (9.0.176-1) ...\n",
      "Selecting previously unselected package cuda-cudart-9-0.\n",
      "Preparing to unpack .../03-cuda-cudart-9-0_9.0.176-1_amd64.deb ...\n",
      "Unpacking cuda-cudart-9-0 (9.0.176-1) ...\n",
      "Selecting previously unselected package cuda-driver-dev-9-0.\n",
      "Preparing to unpack .../04-cuda-driver-dev-9-0_9.0.176-1_amd64.deb ...\n",
      "Unpacking cuda-driver-dev-9-0 (9.0.176-1) ...\n",
      "Selecting previously unselected package cuda-cudart-dev-9-0.\n",
      "Preparing to unpack .../05-cuda-cudart-dev-9-0_9.0.176-1_amd64.deb ...\n",
      "Unpacking cuda-cudart-dev-9-0 (9.0.176-1) ...\n",
      "Selecting previously unselected package cuda-command-line-tools-9-0.\n",
      "Preparing to unpack .../06-cuda-command-line-tools-9-0_9.0.176-1_amd64.deb ...\n",
      "Unpacking cuda-command-line-tools-9-0 (9.0.176-1) ...\n",
      "Selecting previously unselected package cuda-nvrtc-9-0.\n",
      "Preparing to unpack .../07-cuda-nvrtc-9-0_9.0.176-1_amd64.deb ...\n",
      "Unpacking cuda-nvrtc-9-0 (9.0.176-1) ...\n",
      "Selecting previously unselected package cuda-nvrtc-dev-9-0.\n",
      "Preparing to unpack .../08-cuda-nvrtc-dev-9-0_9.0.176-1_amd64.deb ...\n",
      "Unpacking cuda-nvrtc-dev-9-0 (9.0.176-1) ...\n",
      "Selecting previously unselected package cuda-cusolver-9-0.\n",
      "Preparing to unpack .../09-cuda-cusolver-9-0_9.0.176-1_amd64.deb ...\n",
      "Unpacking cuda-cusolver-9-0 (9.0.176-1) ...\n",
      "Selecting previously unselected package cuda-cusolver-dev-9-0.\n",
      "Preparing to unpack .../10-cuda-cusolver-dev-9-0_9.0.176-1_amd64.deb ...\n",
      "Unpacking cuda-cusolver-dev-9-0 (9.0.176-1) ...\n",
      "Selecting previously unselected package cuda-cublas-9-0.\n",
      "Preparing to unpack .../11-cuda-cublas-9-0_9.0.176-1_amd64.deb ...\n",
      "Unpacking cuda-cublas-9-0 (9.0.176-1) ...\n",
      "Selecting previously unselected package cuda-cublas-dev-9-0.\n",
      "Preparing to unpack .../12-cuda-cublas-dev-9-0_9.0.176-1_amd64.deb ...\n",
      "Unpacking cuda-cublas-dev-9-0 (9.0.176-1) ...\n",
      "Selecting previously unselected package cuda-cufft-9-0.\n",
      "Preparing to unpack .../13-cuda-cufft-9-0_9.0.176-1_amd64.deb ...\n",
      "Unpacking cuda-cufft-9-0 (9.0.176-1) ...\n",
      "Selecting previously unselected package cuda-cufft-dev-9-0.\n",
      "Preparing to unpack .../14-cuda-cufft-dev-9-0_9.0.176-1_amd64.deb ...\n",
      "Unpacking cuda-cufft-dev-9-0 (9.0.176-1) ...\n",
      "Selecting previously unselected package cuda-curand-9-0.\n",
      "Preparing to unpack .../15-cuda-curand-9-0_9.0.176-1_amd64.deb ...\n",
      "Unpacking cuda-curand-9-0 (9.0.176-1) ...\n",
      "Selecting previously unselected package cuda-curand-dev-9-0.\n",
      "Preparing to unpack .../16-cuda-curand-dev-9-0_9.0.176-1_amd64.deb ...\n",
      "Unpacking cuda-curand-dev-9-0 (9.0.176-1) ...\n",
      "Selecting previously unselected package cuda-cusparse-9-0.\n",
      "Preparing to unpack .../17-cuda-cusparse-9-0_9.0.176-1_amd64.deb ...\n",
      "Unpacking cuda-cusparse-9-0 (9.0.176-1) ...\n",
      "Selecting previously unselected package cuda-cusparse-dev-9-0.\n",
      "Preparing to unpack .../18-cuda-cusparse-dev-9-0_9.0.176-1_amd64.deb ...\n",
      "Unpacking cuda-cusparse-dev-9-0 (9.0.176-1) ...\n",
      "Selecting previously unselected package cuda-npp-9-0.\n",
      "Preparing to unpack .../19-cuda-npp-9-0_9.0.176-1_amd64.deb ...\n",
      "Unpacking cuda-npp-9-0 (9.0.176-1) ...\n",
      "Selecting previously unselected package cuda-npp-dev-9-0.\n",
      "Preparing to unpack .../20-cuda-npp-dev-9-0_9.0.176-1_amd64.deb ...\n",
      "Unpacking cuda-npp-dev-9-0 (9.0.176-1) ...\n",
      "Selecting previously unselected package cuda-nvgraph-9-0.\n",
      "Preparing to unpack .../21-cuda-nvgraph-9-0_9.0.176-1_amd64.deb ...\n",
      "Unpacking cuda-nvgraph-9-0 (9.0.176-1) ...\n",
      "Selecting previously unselected package cuda-nvgraph-dev-9-0.\n",
      "Preparing to unpack .../22-cuda-nvgraph-dev-9-0_9.0.176-1_amd64.deb ...\n",
      "Unpacking cuda-nvgraph-dev-9-0 (9.0.176-1) ...\n",
      "Selecting previously unselected package cuda-samples-9-0.\n",
      "Preparing to unpack .../23-cuda-samples-9-0_9.0.176-1_amd64.deb ...\n",
      "Unpacking cuda-samples-9-0 (9.0.176-1) ...\n",
      "Selecting previously unselected package cuda-documentation-9-0.\n",
      "Preparing to unpack .../24-cuda-documentation-9-0_9.0.176-1_amd64.deb ...\n",
      "Unpacking cuda-documentation-9-0 (9.0.176-1) ...\n",
      "Selecting previously unselected package cuda-libraries-dev-9-0.\n",
      "Preparing to unpack .../25-cuda-libraries-dev-9-0_9.0.176-1_amd64.deb ...\n",
      "Unpacking cuda-libraries-dev-9-0 (9.0.176-1) ...\n",
      "Selecting previously unselected package cuda-nvml-dev-9-0.\n",
      "Preparing to unpack .../26-cuda-nvml-dev-9-0_9.0.176-1_amd64.deb ...\n",
      "Unpacking cuda-nvml-dev-9-0 (9.0.176-1) ...\n",
      "Selecting previously unselected package cuda-visual-tools-9-0.\n",
      "Preparing to unpack .../27-cuda-visual-tools-9-0_9.0.176-1_amd64.deb ...\n",
      "Unpacking cuda-visual-tools-9-0 (9.0.176-1) ...\n",
      "Selecting previously unselected package cuda-toolkit-9-0.\n",
      "Preparing to unpack .../28-cuda-toolkit-9-0_9.0.176-1_amd64.deb ...\n",
      "Unpacking cuda-toolkit-9-0 (9.0.176-1) ...\n",
      "Selecting previously unselected package cuda-libraries-9-0.\n",
      "Preparing to unpack .../29-cuda-libraries-9-0_9.0.176-1_amd64.deb ...\n",
      "Unpacking cuda-libraries-9-0 (9.0.176-1) ...\n",
      "Selecting previously unselected package cuda-runtime-9-0.\n",
      "Preparing to unpack .../30-cuda-runtime-9-0_9.0.176-1_amd64.deb ...\n",
      "Unpacking cuda-runtime-9-0 (9.0.176-1) ...\n",
      "Selecting previously unselected package cuda-demo-suite-9-0.\n",
      "Preparing to unpack .../31-cuda-demo-suite-9-0_9.0.176-1_amd64.deb ...\n",
      "Unpacking cuda-demo-suite-9-0 (9.0.176-1) ...\n",
      "Selecting previously unselected package cuda-9-0.\n",
      "Preparing to unpack .../32-cuda-9-0_9.0.176-1_amd64.deb ...\n",
      "Unpacking cuda-9-0 (9.0.176-1) ...\n",
      "Setting up cuda-license-9-0 (9.0.176-1) ...\n",
      "*** LICENSE AGREEMENT ***\n",
      "By using this software you agree to fully comply with the terms and \n",
      "conditions of the EULA (End User License Agreement). The EULA is located\n",
      "at /usr/local/cuda-9.0/doc/EULA.txt. The EULA can also be found at\n",
      "http://docs.nvidia.com/cuda/eula/index.html. If you do not agree to the\n",
      "terms and conditions of the EULA, do not use the software.\n",
      "\n",
      "Setting up cuda-cusparse-9-0 (9.0.176-1) ...\n",
      "Setting up cuda-cudart-9-0 (9.0.176-1) ...\n",
      "Setting up cuda-nvrtc-9-0 (9.0.176-1) ...\n",
      "Setting up cuda-cusparse-dev-9-0 (9.0.176-1) ...\n",
      "Setting up cuda-cufft-9-0 (9.0.176-1) ...\n",
      "Setting up cuda-cusolver-9-0 (9.0.176-1) ...\n",
      "Setting up cuda-nvml-dev-9-0 (9.0.176-1) ...\n",
      "Setting up cuda-npp-9-0 (9.0.176-1) ...\n",
      "Setting up cuda-cusolver-dev-9-0 (9.0.176-1) ...\n",
      "Setting up cuda-misc-headers-9-0 (9.0.176-1) ...\n",
      "Setting up cuda-cublas-9-0 (9.0.176-1) ...\n",
      "Setting up cuda-nvrtc-dev-9-0 (9.0.176-1) ...\n",
      "Setting up cuda-driver-dev-9-0 (9.0.176-1) ...\n",
      "Setting up cuda-curand-9-0 (9.0.176-1) ...\n",
      "Setting up cuda-nvgraph-9-0 (9.0.176-1) ...\n",
      "Setting up cuda-core-9-0 (9.0.176-1) ...\n",
      "Setting up cuda-libraries-9-0 (9.0.176-1) ...\n",
      "Setting up cuda-runtime-9-0 (9.0.176-1) ...\n",
      "Setting up cuda-cudart-dev-9-0 (9.0.176-1) ...\n",
      "Setting up cuda-cufft-dev-9-0 (9.0.176-1) ...\n",
      "Setting up cuda-npp-dev-9-0 (9.0.176-1) ...\n",
      "Setting up cuda-curand-dev-9-0 (9.0.176-1) ...\n",
      "Setting up cuda-cublas-dev-9-0 (9.0.176-1) ...\n",
      "Setting up cuda-nvgraph-dev-9-0 (9.0.176-1) ...\n",
      "Setting up cuda-command-line-tools-9-0 (9.0.176-1) ...\n",
      "Setting up cuda-demo-suite-9-0 (9.0.176-1) ...\n",
      "Setting up cuda-visual-tools-9-0 (9.0.176-1) ...\n",
      "Setting up cuda-samples-9-0 (9.0.176-1) ...\n",
      "Setting up cuda-libraries-dev-9-0 (9.0.176-1) ...\n",
      "Setting up cuda-documentation-9-0 (9.0.176-1) ...\n",
      "Setting up cuda-toolkit-9-0 (9.0.176-1) ...\n",
      "Setting up cuda-9-0 (9.0.176-1) ...\n",
      "Processing triggers for libc-bin (2.27-3ubuntu1.2) ...\n",
      "/sbin/ldconfig.real: /usr/local/lib/python3.6/dist-packages/ideep4py/lib/libmkldnn.so.0 is not a symbolic link\n",
      "\n",
      "nvcc: NVIDIA (R) Cuda compiler driver\n",
      "Copyright (c) 2005-2017 NVIDIA Corporation\n",
      "Built on Fri_Sep__1_21:08:03_CDT_2017\n",
      "Cuda compilation tools, release 9.0, V9.0.176\n",
      "Collecting thundersvm\n",
      "\u001b[?25l  Downloading https://files.pythonhosted.org/packages/7d/16/281a54f6d1f70c59df242f2f93e5cc04daf01b9c9809c2b154d15ea6a346/thundersvm-0.3.12-py3-none-any.whl (507kB)\n",
      "\u001b[K     |████████████████████████████████| 512kB 8.1MB/s \n",
      "\u001b[?25hRequirement already satisfied: scipy in /usr/local/lib/python3.6/dist-packages (from thundersvm) (1.4.1)\n",
      "Requirement already satisfied: scikit-learn in /usr/local/lib/python3.6/dist-packages (from thundersvm) (0.22.2.post1)\n",
      "Requirement already satisfied: numpy in /usr/local/lib/python3.6/dist-packages (from thundersvm) (1.18.5)\n",
      "Requirement already satisfied: joblib>=0.11 in /usr/local/lib/python3.6/dist-packages (from scikit-learn->thundersvm) (0.17.0)\n",
      "Installing collected packages: thundersvm\n",
      "Successfully installed thundersvm-0.3.12\n"
     ]
    }
   ],
   "source": [
    "!wget https://developer.nvidia.com/compute/cuda/9.0/Prod/local_installers/cuda-repo-ubuntu1704-9-0-local_9.0.176-1_amd64-deb\n",
    "!dpkg -i cuda-repo-ubuntu1704-9-0-local_9.0.176-1_amd64-deb\n",
    "!apt-key add /var/cuda-repo-9-0-local/7fa2af80.pub\n",
    "!apt-get update\n",
    "!sudo apt-get install cuda-9.0\n",
    "!nvcc --version\n",
    "!pip install thundersvm"
   ]
  },
  {
   "cell_type": "markdown",
   "metadata": {
    "id": "yXjMGiIwKgMi"
   },
   "source": [
    "We also going to mount our Google Drive, which contains the credit card dataset we are going to use."
   ]
  },
  {
   "cell_type": "code",
   "execution_count": 2,
   "metadata": {
    "colab": {
     "base_uri": "https://localhost:8080/"
    },
    "id": "s3hO5Fs_onRZ",
    "outputId": "21650773-10fc-46ba-e4a6-56ff60c40167"
   },
   "outputs": [
    {
     "name": "stdout",
     "output_type": "stream",
     "text": [
      "Mounted at /content/drive\n"
     ]
    }
   ],
   "source": [
    "from google.colab import drive\n",
    "drive.mount('/content/drive')"
   ]
  },
  {
   "cell_type": "markdown",
   "metadata": {
    "id": "RBCDfSVZKryH"
   },
   "source": [
    "We import all needed libraries, including `thundersvm` for our SVM model, and over- and under-sampling techniques from `imblearn`, which will help us with our imbalanced dataset.\n",
    "\n",
    "We will also use `sklearn` for model evaluation, train-test split and dataset values standardization.\n",
    "\n",
    "We are going to need pandas for managing our data and tqdm to visualize model training progress with a progress bar."
   ]
  },
  {
   "cell_type": "code",
   "execution_count": 3,
   "metadata": {
    "colab": {
     "base_uri": "https://localhost:8080/"
    },
    "id": "lHuY3xzpNRZf",
    "outputId": "a7a617a9-025c-4e41-f948-ff728aea9428"
   },
   "outputs": [
    {
     "name": "stderr",
     "output_type": "stream",
     "text": [
      "/usr/local/lib/python3.6/dist-packages/sklearn/externals/six.py:31: FutureWarning: The module is deprecated in version 0.21 and will be removed in version 0.23 since we've dropped support for Python 2.7. Please rely on the official version of six (https://pypi.org/project/six/).\n",
      "  \"(https://pypi.org/project/six/).\", FutureWarning)\n",
      "/usr/local/lib/python3.6/dist-packages/sklearn/utils/deprecation.py:144: FutureWarning: The sklearn.neighbors.base module is  deprecated in version 0.22 and will be removed in version 0.24. The corresponding classes / functions should instead be imported from sklearn.neighbors. Anything that cannot be imported from sklearn.neighbors is now part of the private API.\n",
      "  warnings.warn(message, FutureWarning)\n"
     ]
    }
   ],
   "source": [
    "from sklearn import metrics\n",
    "from sklearn.model_selection import train_test_split\n",
    "from sklearn.preprocessing import StandardScaler\n",
    "from thundersvm import SVC\n",
    "# from sklearn.svm import SVC\n",
    "from imblearn.over_sampling import SMOTE\n",
    "from imblearn.under_sampling import RandomUnderSampler\n",
    "from imblearn.pipeline import Pipeline\n",
    "import pandas as pd\n",
    "from tqdm import tqdm"
   ]
  },
  {
   "cell_type": "markdown",
   "metadata": {
    "id": "27RbrwLqNRZi"
   },
   "source": [
    "## Data preparation"
   ]
  },
  {
   "cell_type": "markdown",
   "metadata": {
    "id": "MNE3umlRLxd_"
   },
   "source": [
    "We load our data from Google Drive"
   ]
  },
  {
   "cell_type": "code",
   "execution_count": 4,
   "metadata": {
    "colab": {
     "base_uri": "https://localhost:8080/",
     "height": 439
    },
    "id": "_yLP3fYWNRZj",
    "outputId": "21a8be96-50f2-4400-9bf5-202c2e2c13ed"
   },
   "outputs": [
    {
     "data": {
      "text/html": [
       "<div>\n",
       "<style scoped>\n",
       "    .dataframe tbody tr th:only-of-type {\n",
       "        vertical-align: middle;\n",
       "    }\n",
       "\n",
       "    .dataframe tbody tr th {\n",
       "        vertical-align: top;\n",
       "    }\n",
       "\n",
       "    .dataframe thead th {\n",
       "        text-align: right;\n",
       "    }\n",
       "</style>\n",
       "<table border=\"1\" class=\"dataframe\">\n",
       "  <thead>\n",
       "    <tr style=\"text-align: right;\">\n",
       "      <th></th>\n",
       "      <th>Time</th>\n",
       "      <th>V1</th>\n",
       "      <th>V2</th>\n",
       "      <th>V3</th>\n",
       "      <th>V4</th>\n",
       "      <th>V5</th>\n",
       "      <th>V6</th>\n",
       "      <th>V7</th>\n",
       "      <th>V8</th>\n",
       "      <th>V9</th>\n",
       "      <th>V10</th>\n",
       "      <th>V11</th>\n",
       "      <th>V12</th>\n",
       "      <th>V13</th>\n",
       "      <th>V14</th>\n",
       "      <th>V15</th>\n",
       "      <th>V16</th>\n",
       "      <th>V17</th>\n",
       "      <th>V18</th>\n",
       "      <th>V19</th>\n",
       "      <th>V20</th>\n",
       "      <th>V21</th>\n",
       "      <th>V22</th>\n",
       "      <th>V23</th>\n",
       "      <th>V24</th>\n",
       "      <th>V25</th>\n",
       "      <th>V26</th>\n",
       "      <th>V27</th>\n",
       "      <th>V28</th>\n",
       "      <th>Amount</th>\n",
       "      <th>Class</th>\n",
       "    </tr>\n",
       "  </thead>\n",
       "  <tbody>\n",
       "    <tr>\n",
       "      <th>0</th>\n",
       "      <td>0.0</td>\n",
       "      <td>-1.359807</td>\n",
       "      <td>-0.072781</td>\n",
       "      <td>2.536347</td>\n",
       "      <td>1.378155</td>\n",
       "      <td>-0.338321</td>\n",
       "      <td>0.462388</td>\n",
       "      <td>0.239599</td>\n",
       "      <td>0.098698</td>\n",
       "      <td>0.363787</td>\n",
       "      <td>0.090794</td>\n",
       "      <td>-0.551600</td>\n",
       "      <td>-0.617801</td>\n",
       "      <td>-0.991390</td>\n",
       "      <td>-0.311169</td>\n",
       "      <td>1.468177</td>\n",
       "      <td>-0.470401</td>\n",
       "      <td>0.207971</td>\n",
       "      <td>0.025791</td>\n",
       "      <td>0.403993</td>\n",
       "      <td>0.251412</td>\n",
       "      <td>-0.018307</td>\n",
       "      <td>0.277838</td>\n",
       "      <td>-0.110474</td>\n",
       "      <td>0.066928</td>\n",
       "      <td>0.128539</td>\n",
       "      <td>-0.189115</td>\n",
       "      <td>0.133558</td>\n",
       "      <td>-0.021053</td>\n",
       "      <td>149.62</td>\n",
       "      <td>0</td>\n",
       "    </tr>\n",
       "    <tr>\n",
       "      <th>1</th>\n",
       "      <td>0.0</td>\n",
       "      <td>1.191857</td>\n",
       "      <td>0.266151</td>\n",
       "      <td>0.166480</td>\n",
       "      <td>0.448154</td>\n",
       "      <td>0.060018</td>\n",
       "      <td>-0.082361</td>\n",
       "      <td>-0.078803</td>\n",
       "      <td>0.085102</td>\n",
       "      <td>-0.255425</td>\n",
       "      <td>-0.166974</td>\n",
       "      <td>1.612727</td>\n",
       "      <td>1.065235</td>\n",
       "      <td>0.489095</td>\n",
       "      <td>-0.143772</td>\n",
       "      <td>0.635558</td>\n",
       "      <td>0.463917</td>\n",
       "      <td>-0.114805</td>\n",
       "      <td>-0.183361</td>\n",
       "      <td>-0.145783</td>\n",
       "      <td>-0.069083</td>\n",
       "      <td>-0.225775</td>\n",
       "      <td>-0.638672</td>\n",
       "      <td>0.101288</td>\n",
       "      <td>-0.339846</td>\n",
       "      <td>0.167170</td>\n",
       "      <td>0.125895</td>\n",
       "      <td>-0.008983</td>\n",
       "      <td>0.014724</td>\n",
       "      <td>2.69</td>\n",
       "      <td>0</td>\n",
       "    </tr>\n",
       "    <tr>\n",
       "      <th>2</th>\n",
       "      <td>1.0</td>\n",
       "      <td>-1.358354</td>\n",
       "      <td>-1.340163</td>\n",
       "      <td>1.773209</td>\n",
       "      <td>0.379780</td>\n",
       "      <td>-0.503198</td>\n",
       "      <td>1.800499</td>\n",
       "      <td>0.791461</td>\n",
       "      <td>0.247676</td>\n",
       "      <td>-1.514654</td>\n",
       "      <td>0.207643</td>\n",
       "      <td>0.624501</td>\n",
       "      <td>0.066084</td>\n",
       "      <td>0.717293</td>\n",
       "      <td>-0.165946</td>\n",
       "      <td>2.345865</td>\n",
       "      <td>-2.890083</td>\n",
       "      <td>1.109969</td>\n",
       "      <td>-0.121359</td>\n",
       "      <td>-2.261857</td>\n",
       "      <td>0.524980</td>\n",
       "      <td>0.247998</td>\n",
       "      <td>0.771679</td>\n",
       "      <td>0.909412</td>\n",
       "      <td>-0.689281</td>\n",
       "      <td>-0.327642</td>\n",
       "      <td>-0.139097</td>\n",
       "      <td>-0.055353</td>\n",
       "      <td>-0.059752</td>\n",
       "      <td>378.66</td>\n",
       "      <td>0</td>\n",
       "    </tr>\n",
       "    <tr>\n",
       "      <th>3</th>\n",
       "      <td>1.0</td>\n",
       "      <td>-0.966272</td>\n",
       "      <td>-0.185226</td>\n",
       "      <td>1.792993</td>\n",
       "      <td>-0.863291</td>\n",
       "      <td>-0.010309</td>\n",
       "      <td>1.247203</td>\n",
       "      <td>0.237609</td>\n",
       "      <td>0.377436</td>\n",
       "      <td>-1.387024</td>\n",
       "      <td>-0.054952</td>\n",
       "      <td>-0.226487</td>\n",
       "      <td>0.178228</td>\n",
       "      <td>0.507757</td>\n",
       "      <td>-0.287924</td>\n",
       "      <td>-0.631418</td>\n",
       "      <td>-1.059647</td>\n",
       "      <td>-0.684093</td>\n",
       "      <td>1.965775</td>\n",
       "      <td>-1.232622</td>\n",
       "      <td>-0.208038</td>\n",
       "      <td>-0.108300</td>\n",
       "      <td>0.005274</td>\n",
       "      <td>-0.190321</td>\n",
       "      <td>-1.175575</td>\n",
       "      <td>0.647376</td>\n",
       "      <td>-0.221929</td>\n",
       "      <td>0.062723</td>\n",
       "      <td>0.061458</td>\n",
       "      <td>123.50</td>\n",
       "      <td>0</td>\n",
       "    </tr>\n",
       "    <tr>\n",
       "      <th>4</th>\n",
       "      <td>2.0</td>\n",
       "      <td>-1.158233</td>\n",
       "      <td>0.877737</td>\n",
       "      <td>1.548718</td>\n",
       "      <td>0.403034</td>\n",
       "      <td>-0.407193</td>\n",
       "      <td>0.095921</td>\n",
       "      <td>0.592941</td>\n",
       "      <td>-0.270533</td>\n",
       "      <td>0.817739</td>\n",
       "      <td>0.753074</td>\n",
       "      <td>-0.822843</td>\n",
       "      <td>0.538196</td>\n",
       "      <td>1.345852</td>\n",
       "      <td>-1.119670</td>\n",
       "      <td>0.175121</td>\n",
       "      <td>-0.451449</td>\n",
       "      <td>-0.237033</td>\n",
       "      <td>-0.038195</td>\n",
       "      <td>0.803487</td>\n",
       "      <td>0.408542</td>\n",
       "      <td>-0.009431</td>\n",
       "      <td>0.798278</td>\n",
       "      <td>-0.137458</td>\n",
       "      <td>0.141267</td>\n",
       "      <td>-0.206010</td>\n",
       "      <td>0.502292</td>\n",
       "      <td>0.219422</td>\n",
       "      <td>0.215153</td>\n",
       "      <td>69.99</td>\n",
       "      <td>0</td>\n",
       "    </tr>\n",
       "    <tr>\n",
       "      <th>...</th>\n",
       "      <td>...</td>\n",
       "      <td>...</td>\n",
       "      <td>...</td>\n",
       "      <td>...</td>\n",
       "      <td>...</td>\n",
       "      <td>...</td>\n",
       "      <td>...</td>\n",
       "      <td>...</td>\n",
       "      <td>...</td>\n",
       "      <td>...</td>\n",
       "      <td>...</td>\n",
       "      <td>...</td>\n",
       "      <td>...</td>\n",
       "      <td>...</td>\n",
       "      <td>...</td>\n",
       "      <td>...</td>\n",
       "      <td>...</td>\n",
       "      <td>...</td>\n",
       "      <td>...</td>\n",
       "      <td>...</td>\n",
       "      <td>...</td>\n",
       "      <td>...</td>\n",
       "      <td>...</td>\n",
       "      <td>...</td>\n",
       "      <td>...</td>\n",
       "      <td>...</td>\n",
       "      <td>...</td>\n",
       "      <td>...</td>\n",
       "      <td>...</td>\n",
       "      <td>...</td>\n",
       "      <td>...</td>\n",
       "    </tr>\n",
       "    <tr>\n",
       "      <th>284802</th>\n",
       "      <td>172786.0</td>\n",
       "      <td>-11.881118</td>\n",
       "      <td>10.071785</td>\n",
       "      <td>-9.834783</td>\n",
       "      <td>-2.066656</td>\n",
       "      <td>-5.364473</td>\n",
       "      <td>-2.606837</td>\n",
       "      <td>-4.918215</td>\n",
       "      <td>7.305334</td>\n",
       "      <td>1.914428</td>\n",
       "      <td>4.356170</td>\n",
       "      <td>-1.593105</td>\n",
       "      <td>2.711941</td>\n",
       "      <td>-0.689256</td>\n",
       "      <td>4.626942</td>\n",
       "      <td>-0.924459</td>\n",
       "      <td>1.107641</td>\n",
       "      <td>1.991691</td>\n",
       "      <td>0.510632</td>\n",
       "      <td>-0.682920</td>\n",
       "      <td>1.475829</td>\n",
       "      <td>0.213454</td>\n",
       "      <td>0.111864</td>\n",
       "      <td>1.014480</td>\n",
       "      <td>-0.509348</td>\n",
       "      <td>1.436807</td>\n",
       "      <td>0.250034</td>\n",
       "      <td>0.943651</td>\n",
       "      <td>0.823731</td>\n",
       "      <td>0.77</td>\n",
       "      <td>0</td>\n",
       "    </tr>\n",
       "    <tr>\n",
       "      <th>284803</th>\n",
       "      <td>172787.0</td>\n",
       "      <td>-0.732789</td>\n",
       "      <td>-0.055080</td>\n",
       "      <td>2.035030</td>\n",
       "      <td>-0.738589</td>\n",
       "      <td>0.868229</td>\n",
       "      <td>1.058415</td>\n",
       "      <td>0.024330</td>\n",
       "      <td>0.294869</td>\n",
       "      <td>0.584800</td>\n",
       "      <td>-0.975926</td>\n",
       "      <td>-0.150189</td>\n",
       "      <td>0.915802</td>\n",
       "      <td>1.214756</td>\n",
       "      <td>-0.675143</td>\n",
       "      <td>1.164931</td>\n",
       "      <td>-0.711757</td>\n",
       "      <td>-0.025693</td>\n",
       "      <td>-1.221179</td>\n",
       "      <td>-1.545556</td>\n",
       "      <td>0.059616</td>\n",
       "      <td>0.214205</td>\n",
       "      <td>0.924384</td>\n",
       "      <td>0.012463</td>\n",
       "      <td>-1.016226</td>\n",
       "      <td>-0.606624</td>\n",
       "      <td>-0.395255</td>\n",
       "      <td>0.068472</td>\n",
       "      <td>-0.053527</td>\n",
       "      <td>24.79</td>\n",
       "      <td>0</td>\n",
       "    </tr>\n",
       "    <tr>\n",
       "      <th>284804</th>\n",
       "      <td>172788.0</td>\n",
       "      <td>1.919565</td>\n",
       "      <td>-0.301254</td>\n",
       "      <td>-3.249640</td>\n",
       "      <td>-0.557828</td>\n",
       "      <td>2.630515</td>\n",
       "      <td>3.031260</td>\n",
       "      <td>-0.296827</td>\n",
       "      <td>0.708417</td>\n",
       "      <td>0.432454</td>\n",
       "      <td>-0.484782</td>\n",
       "      <td>0.411614</td>\n",
       "      <td>0.063119</td>\n",
       "      <td>-0.183699</td>\n",
       "      <td>-0.510602</td>\n",
       "      <td>1.329284</td>\n",
       "      <td>0.140716</td>\n",
       "      <td>0.313502</td>\n",
       "      <td>0.395652</td>\n",
       "      <td>-0.577252</td>\n",
       "      <td>0.001396</td>\n",
       "      <td>0.232045</td>\n",
       "      <td>0.578229</td>\n",
       "      <td>-0.037501</td>\n",
       "      <td>0.640134</td>\n",
       "      <td>0.265745</td>\n",
       "      <td>-0.087371</td>\n",
       "      <td>0.004455</td>\n",
       "      <td>-0.026561</td>\n",
       "      <td>67.88</td>\n",
       "      <td>0</td>\n",
       "    </tr>\n",
       "    <tr>\n",
       "      <th>284805</th>\n",
       "      <td>172788.0</td>\n",
       "      <td>-0.240440</td>\n",
       "      <td>0.530483</td>\n",
       "      <td>0.702510</td>\n",
       "      <td>0.689799</td>\n",
       "      <td>-0.377961</td>\n",
       "      <td>0.623708</td>\n",
       "      <td>-0.686180</td>\n",
       "      <td>0.679145</td>\n",
       "      <td>0.392087</td>\n",
       "      <td>-0.399126</td>\n",
       "      <td>-1.933849</td>\n",
       "      <td>-0.962886</td>\n",
       "      <td>-1.042082</td>\n",
       "      <td>0.449624</td>\n",
       "      <td>1.962563</td>\n",
       "      <td>-0.608577</td>\n",
       "      <td>0.509928</td>\n",
       "      <td>1.113981</td>\n",
       "      <td>2.897849</td>\n",
       "      <td>0.127434</td>\n",
       "      <td>0.265245</td>\n",
       "      <td>0.800049</td>\n",
       "      <td>-0.163298</td>\n",
       "      <td>0.123205</td>\n",
       "      <td>-0.569159</td>\n",
       "      <td>0.546668</td>\n",
       "      <td>0.108821</td>\n",
       "      <td>0.104533</td>\n",
       "      <td>10.00</td>\n",
       "      <td>0</td>\n",
       "    </tr>\n",
       "    <tr>\n",
       "      <th>284806</th>\n",
       "      <td>172792.0</td>\n",
       "      <td>-0.533413</td>\n",
       "      <td>-0.189733</td>\n",
       "      <td>0.703337</td>\n",
       "      <td>-0.506271</td>\n",
       "      <td>-0.012546</td>\n",
       "      <td>-0.649617</td>\n",
       "      <td>1.577006</td>\n",
       "      <td>-0.414650</td>\n",
       "      <td>0.486180</td>\n",
       "      <td>-0.915427</td>\n",
       "      <td>-1.040458</td>\n",
       "      <td>-0.031513</td>\n",
       "      <td>-0.188093</td>\n",
       "      <td>-0.084316</td>\n",
       "      <td>0.041333</td>\n",
       "      <td>-0.302620</td>\n",
       "      <td>-0.660377</td>\n",
       "      <td>0.167430</td>\n",
       "      <td>-0.256117</td>\n",
       "      <td>0.382948</td>\n",
       "      <td>0.261057</td>\n",
       "      <td>0.643078</td>\n",
       "      <td>0.376777</td>\n",
       "      <td>0.008797</td>\n",
       "      <td>-0.473649</td>\n",
       "      <td>-0.818267</td>\n",
       "      <td>-0.002415</td>\n",
       "      <td>0.013649</td>\n",
       "      <td>217.00</td>\n",
       "      <td>0</td>\n",
       "    </tr>\n",
       "  </tbody>\n",
       "</table>\n",
       "<p>284807 rows × 31 columns</p>\n",
       "</div>"
      ],
      "text/plain": [
       "            Time         V1         V2  ...       V28  Amount  Class\n",
       "0            0.0  -1.359807  -0.072781  ... -0.021053  149.62      0\n",
       "1            0.0   1.191857   0.266151  ...  0.014724    2.69      0\n",
       "2            1.0  -1.358354  -1.340163  ... -0.059752  378.66      0\n",
       "3            1.0  -0.966272  -0.185226  ...  0.061458  123.50      0\n",
       "4            2.0  -1.158233   0.877737  ...  0.215153   69.99      0\n",
       "...          ...        ...        ...  ...       ...     ...    ...\n",
       "284802  172786.0 -11.881118  10.071785  ...  0.823731    0.77      0\n",
       "284803  172787.0  -0.732789  -0.055080  ... -0.053527   24.79      0\n",
       "284804  172788.0   1.919565  -0.301254  ... -0.026561   67.88      0\n",
       "284805  172788.0  -0.240440   0.530483  ...  0.104533   10.00      0\n",
       "284806  172792.0  -0.533413  -0.189733  ...  0.013649  217.00      0\n",
       "\n",
       "[284807 rows x 31 columns]"
      ]
     },
     "execution_count": 4,
     "metadata": {
      "tags": []
     },
     "output_type": "execute_result"
    }
   ],
   "source": [
    "# creditcard_df = pd.read_csv('creditcard.csv')\n",
    "creditcard_df = pd.read_csv('/content/drive/MyDrive/creditcard.csv')\n",
    "creditcard_df"
   ]
  },
  {
   "cell_type": "markdown",
   "metadata": {
    "id": "pV1NVl6WL2v-"
   },
   "source": [
    "As you can see, the dataset is extremely imbalanced, with less than 0.1% of our data being the fraudulent class."
   ]
  },
  {
   "cell_type": "code",
   "execution_count": 5,
   "metadata": {
    "colab": {
     "base_uri": "https://localhost:8080/"
    },
    "id": "YeRuYpwmpsLE",
    "outputId": "f197ea9a-ac09-49c8-f461-5d9da7d1ae97"
   },
   "outputs": [
    {
     "data": {
      "text/plain": [
       "Class\n",
       "0        284315\n",
       "1           492\n",
       "dtype: int64"
      ]
     },
     "execution_count": 5,
     "metadata": {
      "tags": []
     },
     "output_type": "execute_result"
    }
   ],
   "source": [
    "creditcard_df.value_counts(['Class'])"
   ]
  },
  {
   "cell_type": "markdown",
   "metadata": {
    "id": "LEqfMZ27MIeS"
   },
   "source": [
    "We are going to standardize the `Amount` column, since compared to other columns its values have a much greater range.\n",
    "\n",
    "This will help our SVM perform much better."
   ]
  },
  {
   "cell_type": "code",
   "execution_count": 6,
   "metadata": {
    "id": "NozNCn_Jp8vW"
   },
   "outputs": [],
   "source": [
    "creditcard_df.Amount = StandardScaler().fit_transform(creditcard_df.Amount.values.reshape((-1,1)))"
   ]
  },
  {
   "cell_type": "markdown",
   "metadata": {
    "id": "-y1tDGo0NRZm"
   },
   "source": [
    "## Modeling, Training and Evaluation"
   ]
  },
  {
   "cell_type": "markdown",
   "metadata": {
    "id": "pLlG95-bMWn4"
   },
   "source": [
    "We start by using the data we have in our hands. In a next step we are going to use SMOTE to oversample the fraudulent minority class and undersample the majority class.\n",
    "\n",
    "We split into features and targets."
   ]
  },
  {
   "cell_type": "code",
   "execution_count": 7,
   "metadata": {
    "id": "PUAUaOLxNRZk"
   },
   "outputs": [],
   "source": [
    "features = creditcard_df.drop(columns=['Time', 'Class'])\n",
    "targets = creditcard_df.Class"
   ]
  },
  {
   "cell_type": "markdown",
   "metadata": {
    "id": "KOeoGNS-MsqH"
   },
   "source": [
    "We then split our data into training and test set."
   ]
  },
  {
   "cell_type": "code",
   "execution_count": 8,
   "metadata": {
    "id": "dX7LoW6aNRZl",
    "scrolled": false
   },
   "outputs": [],
   "source": [
    "x_train, x_test, y_train, y_test = train_test_split(features, targets, stratify=targets)"
   ]
  },
  {
   "cell_type": "markdown",
   "metadata": {
    "id": "l72elG-JAItt"
   },
   "source": [
    "### Using regular features"
   ]
  },
  {
   "cell_type": "markdown",
   "metadata": {
    "id": "1tWQOk2-AlmB"
   },
   "source": [
    "#### Modeling"
   ]
  },
  {
   "cell_type": "markdown",
   "metadata": {
    "id": "_QA3EUutMvxW"
   },
   "source": [
    "The following are our model parameters."
   ]
  },
  {
   "cell_type": "code",
   "execution_count": 9,
   "metadata": {
    "id": "WK16Ra1jNRZm"
   },
   "outputs": [],
   "source": [
    "parameter_list = [\n",
    "    # [0.1, 'poly', 0.2, 2],\n",
    "    # [10, 'poly', 6, 5],\n",
    "    [0.1, 'polynomial', 0.2, 2],\n",
    "    [10, 'polynomial', 6, 5],\n",
    "    [0.1, 'rbf', 0.3],\n",
    "    [10, 'rbf', 5],\n",
    "    [0.1, 'sigmoid', 0.5],\n",
    "    [10, 'sigmoid', 2],\n",
    "    [100, 'sigmoid', 5]\n",
    "]"
   ]
  },
  {
   "cell_type": "markdown",
   "metadata": {
    "id": "HM1wiKg_Mye5"
   },
   "source": [
    "We create a function which will help us make a dictionary object with our models."
   ]
  },
  {
   "cell_type": "code",
   "execution_count": 10,
   "metadata": {
    "id": "Wk_JY1DgNRZn"
   },
   "outputs": [],
   "source": [
    "def make_models(param_list):\n",
    "    models = dict()\n",
    "    for params in param_list:\n",
    "        try: \n",
    "            degree = params[3]\n",
    "        except IndexError:\n",
    "            degree = 3\n",
    "        key = '_'.join([str(i) for i in params])\n",
    "        models[key] = SVC(C=params[0], \n",
    "                             kernel=params[1], \n",
    "                             gamma=params[2],\n",
    "                             degree=degree)\n",
    "    return models"
   ]
  },
  {
   "cell_type": "markdown",
   "metadata": {
    "id": "TZFdGfJTOWip"
   },
   "source": [
    "We create our models."
   ]
  },
  {
   "cell_type": "code",
   "execution_count": 11,
   "metadata": {
    "colab": {
     "base_uri": "https://localhost:8080/"
    },
    "id": "Qggrv0OVNRZo",
    "outputId": "42dca840-4db3-4ad5-f7c0-9729c42c8cd7"
   },
   "outputs": [
    {
     "data": {
      "text/plain": [
       "{'0.1_polynomial_0.2_2': SVC(C=0.1, cache_size=None, class_weight=None, coef0=0.0,\n",
       "     decision_function_shape='ovo', degree=2, gamma=0.2, gpu_id=0,\n",
       "     kernel='polynomial', max_iter=-1, max_mem_size=-1, n_jobs=-1,\n",
       "     probability=False, random_state=None, shrinking=False, tol=0.001,\n",
       "     verbose=False),\n",
       " '0.1_rbf_0.3': SVC(C=0.1, cache_size=None, class_weight=None, coef0=0.0,\n",
       "     decision_function_shape='ovo', degree=3, gamma=0.3, gpu_id=0, kernel='rbf',\n",
       "     max_iter=-1, max_mem_size=-1, n_jobs=-1, probability=False,\n",
       "     random_state=None, shrinking=False, tol=0.001, verbose=False),\n",
       " '0.1_sigmoid_0.5': SVC(C=0.1, cache_size=None, class_weight=None, coef0=0.0,\n",
       "     decision_function_shape='ovo', degree=3, gamma=0.5, gpu_id=0,\n",
       "     kernel='sigmoid', max_iter=-1, max_mem_size=-1, n_jobs=-1,\n",
       "     probability=False, random_state=None, shrinking=False, tol=0.001,\n",
       "     verbose=False),\n",
       " '100_sigmoid_5': SVC(C=100, cache_size=None, class_weight=None, coef0=0.0,\n",
       "     decision_function_shape='ovo', degree=3, gamma=5, gpu_id=0,\n",
       "     kernel='sigmoid', max_iter=-1, max_mem_size=-1, n_jobs=-1,\n",
       "     probability=False, random_state=None, shrinking=False, tol=0.001,\n",
       "     verbose=False),\n",
       " '10_polynomial_6_5': SVC(C=10, cache_size=None, class_weight=None, coef0=0.0,\n",
       "     decision_function_shape='ovo', degree=5, gamma=6, gpu_id=0,\n",
       "     kernel='polynomial', max_iter=-1, max_mem_size=-1, n_jobs=-1,\n",
       "     probability=False, random_state=None, shrinking=False, tol=0.001,\n",
       "     verbose=False),\n",
       " '10_rbf_5': SVC(C=10, cache_size=None, class_weight=None, coef0=0.0,\n",
       "     decision_function_shape='ovo', degree=3, gamma=5, gpu_id=0, kernel='rbf',\n",
       "     max_iter=-1, max_mem_size=-1, n_jobs=-1, probability=False,\n",
       "     random_state=None, shrinking=False, tol=0.001, verbose=False),\n",
       " '10_sigmoid_2': SVC(C=10, cache_size=None, class_weight=None, coef0=0.0,\n",
       "     decision_function_shape='ovo', degree=3, gamma=2, gpu_id=0,\n",
       "     kernel='sigmoid', max_iter=-1, max_mem_size=-1, n_jobs=-1,\n",
       "     probability=False, random_state=None, shrinking=False, tol=0.001,\n",
       "     verbose=False)}"
      ]
     },
     "execution_count": 11,
     "metadata": {
      "tags": []
     },
     "output_type": "execute_result"
    }
   ],
   "source": [
    "models = make_models(parameter_list)\n",
    "models"
   ]
  },
  {
   "cell_type": "markdown",
   "metadata": {
    "id": "tJHh7HBJM-Vc"
   },
   "source": [
    "And train them."
   ]
  },
  {
   "cell_type": "code",
   "execution_count": 12,
   "metadata": {
    "colab": {
     "base_uri": "https://localhost:8080/"
    },
    "id": "r6pX32CuNRZo",
    "outputId": "2661b085-1b5b-4ec1-c3d9-99dc39fa9a97"
   },
   "outputs": [
    {
     "name": "stderr",
     "output_type": "stream",
     "text": [
      "100%|██████████| 7/7 [00:49<00:00,  7.06s/it]\n"
     ]
    },
    {
     "data": {
      "text/plain": [
       "[SVC(C=0.1, cache_size=None, class_weight={}, coef0=0.0,\n",
       "     decision_function_shape='ovo', degree=2, gamma=0.2, gpu_id=0,\n",
       "     kernel='polynomial', max_iter=-1, max_mem_size=-1, n_jobs=-1,\n",
       "     probability=False, random_state=None, shrinking=False, tol=0.001,\n",
       "     verbose=False), SVC(C=10, cache_size=None, class_weight={}, coef0=0.0,\n",
       "     decision_function_shape='ovo', degree=5, gamma=6, gpu_id=0,\n",
       "     kernel='polynomial', max_iter=-1, max_mem_size=-1, n_jobs=-1,\n",
       "     probability=False, random_state=None, shrinking=False, tol=0.001,\n",
       "     verbose=False), SVC(C=0.1, cache_size=None, class_weight={}, coef0=0.0,\n",
       "     decision_function_shape='ovo', degree=3, gamma=0.3, gpu_id=0, kernel='rbf',\n",
       "     max_iter=-1, max_mem_size=-1, n_jobs=-1, probability=False,\n",
       "     random_state=None, shrinking=False, tol=0.001, verbose=False), SVC(C=10, cache_size=None, class_weight={}, coef0=0.0,\n",
       "     decision_function_shape='ovo', degree=3, gamma=5, gpu_id=0, kernel='rbf',\n",
       "     max_iter=-1, max_mem_size=-1, n_jobs=-1, probability=False,\n",
       "     random_state=None, shrinking=False, tol=0.001, verbose=False), SVC(C=0.1, cache_size=None, class_weight={}, coef0=0.0,\n",
       "     decision_function_shape='ovo', degree=3, gamma=0.5, gpu_id=0,\n",
       "     kernel='sigmoid', max_iter=-1, max_mem_size=-1, n_jobs=-1,\n",
       "     probability=False, random_state=None, shrinking=False, tol=0.001,\n",
       "     verbose=False), SVC(C=10, cache_size=None, class_weight={}, coef0=0.0,\n",
       "     decision_function_shape='ovo', degree=3, gamma=2, gpu_id=0,\n",
       "     kernel='sigmoid', max_iter=-1, max_mem_size=-1, n_jobs=-1,\n",
       "     probability=False, random_state=None, shrinking=False, tol=0.001,\n",
       "     verbose=False), SVC(C=100, cache_size=None, class_weight={}, coef0=0.0,\n",
       "     decision_function_shape='ovo', degree=3, gamma=5, gpu_id=0,\n",
       "     kernel='sigmoid', max_iter=-1, max_mem_size=-1, n_jobs=-1,\n",
       "     probability=False, random_state=None, shrinking=False, tol=0.001,\n",
       "     verbose=False)]"
      ]
     },
     "execution_count": 12,
     "metadata": {
      "tags": []
     },
     "output_type": "execute_result"
    }
   ],
   "source": [
    "[model.fit(x_train, y_train) for model in tqdm(models.values())]"
   ]
  },
  {
   "cell_type": "markdown",
   "metadata": {
    "id": "G_YCFS4nNRZr"
   },
   "source": [
    "#### Evaluation"
   ]
  },
  {
   "cell_type": "markdown",
   "metadata": {
    "id": "5NMV0LssNAgm"
   },
   "source": [
    "We proceed to evaluate. We want to test test accuracy, precision, recall and f1 score."
   ]
  },
  {
   "cell_type": "code",
   "execution_count": 13,
   "metadata": {
    "id": "Uihv1vlmNRZr"
   },
   "outputs": [],
   "source": [
    "y_predicted = [model.predict(x_test) for model in models.values()]"
   ]
  },
  {
   "cell_type": "markdown",
   "metadata": {
    "id": "5CMTKweqNMc1"
   },
   "source": [
    "Our polynomial models seem to have performed decently."
   ]
  },
  {
   "cell_type": "code",
   "execution_count": 14,
   "metadata": {
    "colab": {
     "base_uri": "https://localhost:8080/"
    },
    "id": "mtf7NzRZuCIj",
    "outputId": "74e68c04-967e-4e6c-a57f-82749777fc7a"
   },
   "outputs": [
    {
     "name": "stderr",
     "output_type": "stream",
     "text": [
      "/usr/local/lib/python3.6/dist-packages/sklearn/metrics/_classification.py:1272: UndefinedMetricWarning: Precision is ill-defined and being set to 0.0 due to no predicted samples. Use `zero_division` parameter to control this behavior.\n",
      "  _warn_prf(average, modifier, msg_start, len(result))\n"
     ]
    },
    {
     "name": "stdout",
     "output_type": "stream",
     "text": [
      "0.1_polynomial_0.2_2 Accuracy: 0.9995505744220669 Precision: 0.9099099099099099 Recall: 0.8211382113821138 F1: 0.8632478632478633\n",
      "10_polynomial_6_5 Accuracy: 0.9965450408696385 Precision: 0.308411214953271 Recall: 0.8048780487804879 F1: 0.44594594594594594\n",
      "0.1_rbf_0.3 Accuracy: 0.9982725204348193 Precision: 0.0 Recall: 0.0 F1: 0.0\n",
      "10_rbf_5 Accuracy: 0.9984550995758547 Precision: 1.0 Recall: 0.10569105691056911 F1: 0.1911764705882353\n",
      "0.1_sigmoid_0.5 Accuracy: 0.9974438920255049 Precision: 0.12658227848101267 Recall: 0.08130081300813008 F1: 0.09900990099009901\n",
      "10_sigmoid_2 Accuracy: 0.9965731299682593 Precision: 0.05185185185185185 Recall: 0.056910569105691054 F1: 0.05426356589147286\n",
      "100_sigmoid_5 Accuracy: 0.9969944664475717 Precision: 0.11764705882352941 Recall: 0.11382113821138211 F1: 0.11570247933884298\n"
     ]
    }
   ],
   "source": [
    "accuracies = [metrics.accuracy_score(y_test, pred) for pred in y_predicted]\n",
    "precisions = [metrics.precision_score(y_test, pred) for pred in y_predicted]\n",
    "recalls = [metrics.recall_score(y_test, pred) for pred in y_predicted]\n",
    "f1s = [metrics.f1_score(y_test, pred) for pred in y_predicted]\n",
    "\n",
    "for key, acc, prec, rec, f1 in zip(models.keys(), accuracies, precisions, recalls, f1s):\n",
    "  print(key, 'Accuracy:', acc, 'Precision:', prec, 'Recall:', rec, 'F1:', f1)"
   ]
  },
  {
   "cell_type": "markdown",
   "metadata": {
    "id": "etEzuVKGAgtT"
   },
   "source": [
    "### Using SMOTE"
   ]
  },
  {
   "cell_type": "markdown",
   "metadata": {
    "id": "OH0uNXaSNIaz"
   },
   "source": [
    "We repeat the same procedure using SMOTE.\n",
    "\n",
    "We create a processing pipeline with over- and under-sampling as steps. We then make our new synthetic data."
   ]
  },
  {
   "cell_type": "code",
   "execution_count": 15,
   "metadata": {
    "colab": {
     "base_uri": "https://localhost:8080/"
    },
    "id": "VT-gHreCAid5",
    "outputId": "ebd75e89-8b28-49ca-c544-ac381e4d5b2d"
   },
   "outputs": [
    {
     "name": "stderr",
     "output_type": "stream",
     "text": [
      "/usr/local/lib/python3.6/dist-packages/sklearn/utils/deprecation.py:87: FutureWarning: Function safe_indexing is deprecated; safe_indexing is deprecated in version 0.22 and will be removed in version 0.24.\n",
      "  warnings.warn(msg, category=FutureWarning)\n",
      "/usr/local/lib/python3.6/dist-packages/sklearn/utils/deprecation.py:87: FutureWarning: Function safe_indexing is deprecated; safe_indexing is deprecated in version 0.22 and will be removed in version 0.24.\n",
      "  warnings.warn(msg, category=FutureWarning)\n"
     ]
    }
   ],
   "source": [
    "over = SMOTE(sampling_strategy=0.1)\n",
    "under = RandomUnderSampler(sampling_strategy=0.5)\n",
    "steps = [('o', over), ('u', under)]\n",
    "pipeline = Pipeline(steps)\n",
    "smote_features, smote_targets = pipeline.fit_resample(features, targets)"
   ]
  },
  {
   "cell_type": "markdown",
   "metadata": {
    "id": "zLmnAvtENiMt"
   },
   "source": [
    "We split into training and test set."
   ]
  },
  {
   "cell_type": "code",
   "execution_count": 16,
   "metadata": {
    "id": "isGVkFLjCC_G",
    "scrolled": false
   },
   "outputs": [],
   "source": [
    "x_train, x_test, y_train, y_test = train_test_split(smote_features, smote_targets, stratify=smote_targets)"
   ]
  },
  {
   "cell_type": "markdown",
   "metadata": {
    "id": "ct7zpQZVBVzv"
   },
   "source": [
    "#### Modeling"
   ]
  },
  {
   "cell_type": "markdown",
   "metadata": {
    "id": "zua9TaytNlYF"
   },
   "source": [
    "And build our models once more."
   ]
  },
  {
   "cell_type": "code",
   "execution_count": 17,
   "metadata": {
    "colab": {
     "base_uri": "https://localhost:8080/"
    },
    "id": "r6Sv-5qfAxE8",
    "outputId": "11c66d0b-61fc-48a4-a6b1-6118057b72e4"
   },
   "outputs": [
    {
     "data": {
      "text/plain": [
       "{'0.1_polynomial_0.2_2': SVC(C=0.1, cache_size=None, class_weight=None, coef0=0.0,\n",
       "     decision_function_shape='ovo', degree=2, gamma=0.2, gpu_id=0,\n",
       "     kernel='polynomial', max_iter=-1, max_mem_size=-1, n_jobs=-1,\n",
       "     probability=False, random_state=None, shrinking=False, tol=0.001,\n",
       "     verbose=False),\n",
       " '0.1_rbf_0.3': SVC(C=0.1, cache_size=None, class_weight=None, coef0=0.0,\n",
       "     decision_function_shape='ovo', degree=3, gamma=0.3, gpu_id=0, kernel='rbf',\n",
       "     max_iter=-1, max_mem_size=-1, n_jobs=-1, probability=False,\n",
       "     random_state=None, shrinking=False, tol=0.001, verbose=False),\n",
       " '0.1_sigmoid_0.5': SVC(C=0.1, cache_size=None, class_weight=None, coef0=0.0,\n",
       "     decision_function_shape='ovo', degree=3, gamma=0.5, gpu_id=0,\n",
       "     kernel='sigmoid', max_iter=-1, max_mem_size=-1, n_jobs=-1,\n",
       "     probability=False, random_state=None, shrinking=False, tol=0.001,\n",
       "     verbose=False),\n",
       " '100_sigmoid_5': SVC(C=100, cache_size=None, class_weight=None, coef0=0.0,\n",
       "     decision_function_shape='ovo', degree=3, gamma=5, gpu_id=0,\n",
       "     kernel='sigmoid', max_iter=-1, max_mem_size=-1, n_jobs=-1,\n",
       "     probability=False, random_state=None, shrinking=False, tol=0.001,\n",
       "     verbose=False),\n",
       " '10_polynomial_6_5': SVC(C=10, cache_size=None, class_weight=None, coef0=0.0,\n",
       "     decision_function_shape='ovo', degree=5, gamma=6, gpu_id=0,\n",
       "     kernel='polynomial', max_iter=-1, max_mem_size=-1, n_jobs=-1,\n",
       "     probability=False, random_state=None, shrinking=False, tol=0.001,\n",
       "     verbose=False),\n",
       " '10_rbf_5': SVC(C=10, cache_size=None, class_weight=None, coef0=0.0,\n",
       "     decision_function_shape='ovo', degree=3, gamma=5, gpu_id=0, kernel='rbf',\n",
       "     max_iter=-1, max_mem_size=-1, n_jobs=-1, probability=False,\n",
       "     random_state=None, shrinking=False, tol=0.001, verbose=False),\n",
       " '10_sigmoid_2': SVC(C=10, cache_size=None, class_weight=None, coef0=0.0,\n",
       "     decision_function_shape='ovo', degree=3, gamma=2, gpu_id=0,\n",
       "     kernel='sigmoid', max_iter=-1, max_mem_size=-1, n_jobs=-1,\n",
       "     probability=False, random_state=None, shrinking=False, tol=0.001,\n",
       "     verbose=False)}"
      ]
     },
     "execution_count": 17,
     "metadata": {
      "tags": []
     },
     "output_type": "execute_result"
    }
   ],
   "source": [
    "models = make_models(parameter_list)\n",
    "models"
   ]
  },
  {
   "cell_type": "markdown",
   "metadata": {
    "id": "9MCZUpaWNnzm"
   },
   "source": [
    "We train."
   ]
  },
  {
   "cell_type": "code",
   "execution_count": 18,
   "metadata": {
    "colab": {
     "base_uri": "https://localhost:8080/"
    },
    "id": "PWOAMESVAxE-",
    "outputId": "fba3a386-82e2-419b-8009-e5c01b13f72d"
   },
   "outputs": [
    {
     "name": "stderr",
     "output_type": "stream",
     "text": [
      "100%|██████████| 7/7 [01:15<00:00, 10.83s/it]\n"
     ]
    },
    {
     "data": {
      "text/plain": [
       "[SVC(C=0.1, cache_size=None, class_weight={}, coef0=0.0,\n",
       "     decision_function_shape='ovo', degree=2, gamma=0.2, gpu_id=0,\n",
       "     kernel='polynomial', max_iter=-1, max_mem_size=-1, n_jobs=-1,\n",
       "     probability=False, random_state=None, shrinking=False, tol=0.001,\n",
       "     verbose=False), SVC(C=10, cache_size=None, class_weight={}, coef0=0.0,\n",
       "     decision_function_shape='ovo', degree=5, gamma=6, gpu_id=0,\n",
       "     kernel='polynomial', max_iter=-1, max_mem_size=-1, n_jobs=-1,\n",
       "     probability=False, random_state=None, shrinking=False, tol=0.001,\n",
       "     verbose=False), SVC(C=0.1, cache_size=None, class_weight={}, coef0=0.0,\n",
       "     decision_function_shape='ovo', degree=3, gamma=0.3, gpu_id=0, kernel='rbf',\n",
       "     max_iter=-1, max_mem_size=-1, n_jobs=-1, probability=False,\n",
       "     random_state=None, shrinking=False, tol=0.001, verbose=False), SVC(C=10, cache_size=None, class_weight={}, coef0=0.0,\n",
       "     decision_function_shape='ovo', degree=3, gamma=5, gpu_id=0, kernel='rbf',\n",
       "     max_iter=-1, max_mem_size=-1, n_jobs=-1, probability=False,\n",
       "     random_state=None, shrinking=False, tol=0.001, verbose=False), SVC(C=0.1, cache_size=None, class_weight={}, coef0=0.0,\n",
       "     decision_function_shape='ovo', degree=3, gamma=0.5, gpu_id=0,\n",
       "     kernel='sigmoid', max_iter=-1, max_mem_size=-1, n_jobs=-1,\n",
       "     probability=False, random_state=None, shrinking=False, tol=0.001,\n",
       "     verbose=False), SVC(C=10, cache_size=None, class_weight={}, coef0=0.0,\n",
       "     decision_function_shape='ovo', degree=3, gamma=2, gpu_id=0,\n",
       "     kernel='sigmoid', max_iter=-1, max_mem_size=-1, n_jobs=-1,\n",
       "     probability=False, random_state=None, shrinking=False, tol=0.001,\n",
       "     verbose=False), SVC(C=100, cache_size=None, class_weight={}, coef0=0.0,\n",
       "     decision_function_shape='ovo', degree=3, gamma=5, gpu_id=0,\n",
       "     kernel='sigmoid', max_iter=-1, max_mem_size=-1, n_jobs=-1,\n",
       "     probability=False, random_state=None, shrinking=False, tol=0.001,\n",
       "     verbose=False)]"
      ]
     },
     "execution_count": 18,
     "metadata": {
      "tags": []
     },
     "output_type": "execute_result"
    }
   ],
   "source": [
    "[model.fit(x_train, y_train) for model in tqdm(models.values())]"
   ]
  },
  {
   "cell_type": "markdown",
   "metadata": {
    "id": "i_SvMgzfAxE_"
   },
   "source": [
    "#### Evaluation"
   ]
  },
  {
   "cell_type": "markdown",
   "metadata": {
    "id": "c4WGcQPzNqBW"
   },
   "source": [
    "And evaluate."
   ]
  },
  {
   "cell_type": "code",
   "execution_count": 19,
   "metadata": {
    "id": "-CVWKZImAxE_"
   },
   "outputs": [],
   "source": [
    "y_predicted = [model.predict(x_test) for model in models.values()]"
   ]
  },
  {
   "cell_type": "markdown",
   "metadata": {
    "id": "t8vjO09fNrar"
   },
   "source": [
    "Our models seem to have performed much better on our synthetic data."
   ]
  },
  {
   "cell_type": "code",
   "execution_count": 20,
   "metadata": {
    "colab": {
     "base_uri": "https://localhost:8080/"
    },
    "id": "ZFZbjy1oAxE_",
    "outputId": "aec2bd8e-70d5-4c1c-c84f-4fcffd47185d"
   },
   "outputs": [
    {
     "name": "stdout",
     "output_type": "stream",
     "text": [
      "0.1_polynomial_0.2_2 Accuracy: 0.9905740011254924 Precision: 0.9902058197303052 Recall: 0.9814293753517164 F1: 0.9857980640146965\n",
      "10_polynomial_6_5 Accuracy: 0.9915588069780529 Precision: 0.9772664645907964 Recall: 0.9978897017445132 F1: 0.9874704162606153\n",
      "0.1_rbf_0.3 Accuracy: 0.9732226599137123 Precision: 0.9981710105166895 Recall: 0.9213562183455262 F1: 0.9582266442314726\n",
      "10_rbf_5 Accuracy: 0.9648283624085537 Precision: 0.9998427672955975 Recall: 0.894625773776027 F1: 0.9443124443124443\n",
      "0.1_sigmoid_0.5 Accuracy: 0.27541737009941847 Precision: 0.23676405628825645 Recall: 0.5278559369724254 F1: 0.3269004574166848\n",
      "10_sigmoid_2 Accuracy: 0.687816544738323 Precision: 0.5168774792305965 Recall: 0.9715813168261114 F1: 0.6747764912794958\n",
      "100_sigmoid_5 Accuracy: 0.6874413806040143 Precision: 0.5165607476635514 Recall: 0.9720033764772088 F1: 0.6746082116877411\n"
     ]
    }
   ],
   "source": [
    "accuracies = [metrics.accuracy_score(y_test, pred) for pred in y_predicted]\n",
    "precisions = [metrics.precision_score(y_test, pred) for pred in y_predicted]\n",
    "recalls = [metrics.recall_score(y_test, pred) for pred in y_predicted]\n",
    "f1s = [metrics.f1_score(y_test, pred) for pred in y_predicted]\n",
    "\n",
    "for key, acc, prec, rec, f1 in zip(models.keys(), accuracies, precisions, recalls, f1s):\n",
    "  print(key, 'Accuracy:', acc, 'Precision:', prec, 'Recall:', rec, 'F1:', f1)"
   ]
  }
 ],
 "metadata": {
  "accelerator": "GPU",
  "colab": {
   "collapsed_sections": [],
   "name": "Exercise_8.ipynb",
   "provenance": [],
   "toc_visible": true
  },
  "kernelspec": {
   "display_name": "Python 3",
   "language": "python",
   "name": "python3"
  },
  "language_info": {
   "codemirror_mode": {
    "name": "ipython",
    "version": 3
   },
   "file_extension": ".py",
   "mimetype": "text/x-python",
   "name": "python",
   "nbconvert_exporter": "python",
   "pygments_lexer": "ipython3",
   "version": "3.8.5"
  }
 },
 "nbformat": 4,
 "nbformat_minor": 1
}
