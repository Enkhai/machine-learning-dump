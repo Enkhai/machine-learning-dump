{
 "cells": [
  {
   "cell_type": "markdown",
   "metadata": {},
   "source": [
    "# Part 7: Feature Filtering and Dimensionality Reduction\n",
    "\n",
    "We examine the performance of a Logistic Regression and a Random Forest model on filtered features, as well as PCA-transformed features"
   ]
  },
  {
   "cell_type": "markdown",
   "metadata": {},
   "source": [
    "We begin by importing all needed libraries. We will use pandas and arff from scipy.io to load and process our data.\n",
    "\n",
    "We will also use sklearn to split our data, standardize, rank feature importance using the logistic regression and random forest classifiers, perform PCA and evaluate our models.\n",
    "\n",
    "Matplotlib will be used for plotting and gaining insights.\n",
    "\n",
    "The numpy and os modules will be used for miscellaneous operations."
   ]
  },
  {
   "cell_type": "code",
   "execution_count": 1,
   "metadata": {},
   "outputs": [],
   "source": [
    "import numpy as np\n",
    "from sklearn import metrics\n",
    "from sklearn.linear_model import LogisticRegression\n",
    "from sklearn.ensemble import RandomForestClassifier\n",
    "from sklearn.model_selection import train_test_split\n",
    "from sklearn.preprocessing import StandardScaler\n",
    "from sklearn.decomposition import PCA\n",
    "import matplotlib.pyplot as plt\n",
    "from scipy.io import arff\n",
    "import pandas as pd\n",
    "import os"
   ]
  },
  {
   "cell_type": "markdown",
   "metadata": {},
   "source": [
    "## Data preparation"
   ]
  },
  {
   "cell_type": "markdown",
   "metadata": {},
   "source": [
    "Our data is stored in the HTRU2 folder. Let's take a look at its contents."
   ]
  },
  {
   "cell_type": "code",
   "execution_count": 2,
   "metadata": {},
   "outputs": [
    {
     "data": {
      "text/plain": [
       "['HTRU_2.arff', 'HTRU_2.csv', 'Readme.txt']"
      ]
     },
     "execution_count": 2,
     "metadata": {},
     "output_type": "execute_result"
    }
   ],
   "source": [
    "data_dir = 'HTRU2/'\n",
    "os.listdir(data_dir)"
   ]
  },
  {
   "cell_type": "markdown",
   "metadata": {},
   "source": [
    "The Readme file contains some useful information for our dataset and is worth reading."
   ]
  },
  {
   "cell_type": "code",
   "execution_count": 3,
   "metadata": {},
   "outputs": [
    {
     "name": "stdout",
     "output_type": "stream",
     "text": [
      "******************************************************************************************\n",
      "\n",
      "# HTRU2\n",
      "\n",
      "Author: Rob Lyon, School of Computer Science & Jodrell Bank Centre for Astrophysics,\n",
      "\t\tUniversity of Manchester, Kilburn Building, Oxford Road, Manchester M13 9PL.\n",
      "\n",
      "Contact:\trob@scienceguyrob.com or robert.lyon@.manchester.ac.uk\n",
      "Web:\t\thttp://www.scienceguyrob.com or http://www.cs.manchester.ac.uk\n",
      "\t\t\tor alternatively http://www.jb.man.ac.uk\n",
      "******************************************************************************************\n",
      "\n",
      "1. Overview\n",
      "\n",
      "\tHTRU2 is a data set which describes a sample of pulsar candidates collected during the\n",
      "\tHigh Time Resolution Universe Survey (South) [1]. \n",
      "\t\n",
      "\tPulsars are a rare type of Neutron star that produce radio emission detectable here on\n",
      "\tEarth. They are of considerable scientific interest as probes of space-time, the inter-\n",
      "\tstellar medium, and states of matter (see [2] for more uses). \n",
      "\t\n",
      "\tAs pulsars rotate, their emission beam sweeps across the sky, and when this crosses\n",
      "\tour line of sight, produces a detectable pattern of broadband radio emission. As pulsars\n",
      "\trotate rapidly, this pattern repeats periodically. Thus pulsar search involves looking\n",
      "\tfor periodic radio signals with large radio telescopes.\n",
      "\t\n",
      "\tEach pulsar produces a slightly different emission pattern, which varies slightly with each\n",
      "\trotation (see [2] for an introduction to pulsar astrophysics to find out why). Thus a \n",
      "\tpotential signal detection known as a 'candidate', is averaged over many rotations of the\n",
      "\tpulsar, as determined by the length of an observation. In the absence of additional info,\n",
      "\teach candidate could potentially describe a real pulsar. However in practice almost all\n",
      "\tdetections are caused by radio frequency interference (RFI) and noise, making legitimate\n",
      "\tsignals hard to find.\n",
      "\t\n",
      "\tMachine learning tools are now being used to automatically label pulsar candidates to\n",
      "\tfacilitate rapid analysis. Classification systems in particular are being widely adopted,\n",
      "\t(see [4,5,6,7,8,9]) which treat the candidate data sets  as binary classification problems.\n",
      "\tHere the legitimate pulsar examples are a minority positive class, and spurious examples\n",
      "\tthe majority negative class. At present multi-class labels are unavailable, given the\n",
      "\tcosts associated with data annotation.\n",
      "\t\n",
      "\tThe data set shared here contains 16,259 spurious examples caused by RFI/noise, and 1,639\n",
      "\treal pulsar examples. These examples have all been checked by human annotators. Each\n",
      "\tcandidate is described by 8 continuous variables. The first four are simple statistics\n",
      "\tobtained from the integrated pulse profile (folded profile). This is an array of continuous\n",
      "\tvariables that describe a longitude-resolved version of the signal that has been averaged\n",
      "\tin both time and frequency (see [3] for more details). The remaining four variables are\n",
      "\tsimilarly obtained from the DM-SNR curve (again see [3] for more details). These are \n",
      "\tsummarised below:\n",
      "\t\n",
      "\t1. Mean of the integrated profile.\n",
      "\t2. Standard deviation of the integrated profile.\n",
      "\t3. Excess kurtosis of the integrated profile.\n",
      "\t4. Skewness of the integrated profile.\n",
      "\t5. Mean of the DM-SNR curve.\n",
      "\t6. Standard deviation of the DM-SNR curve.\n",
      "\t7. Excess kurtosis of the DM-SNR curve.\n",
      "\t8. Skewness of the DM-SNR curve.\n",
      "\t\n",
      "\tHTRU 2 Summary\n",
      "\t\n",
      "\t17,898 total examples.\n",
      "\t1,639 positive examples.\n",
      "\t16,259 negative examples.\n",
      "\t\n",
      "\t\n",
      "\tThe data is presented in two formats: CSV and ARFF (used by the WEKA data mining tool).\n",
      "\tCandidates are stored in both files in separate rows. Each row lists the variables first,\n",
      "\tand the class label is the final entry. The class labels used are 0 (negative) and 1 \n",
      "\t(positive).\n",
      "\t\n",
      "\tPlease not that the data contains no positional information or other astronomical details. It is \n",
      "\tsimply feature data extracted from candidate files using the PulsarFeatureLab tool (see [10]).\n",
      "\n",
      "2. Citing our work\t\n",
      "\t\n",
      "\tIf you use the dataset in your work please cite us using the DOI of the dataset, and the paper:\n",
      "\t\n",
      "\tR. J. Lyon, B. W. Stappers, S. Cooper, J. M. Brooke, J. D. Knowles, Fifty Years of Pulsar\n",
      "\tCandidate Selection: From simple filters to a new principled real-time classification approach\n",
      "\tMNRAS, 2016.\n",
      "\t\n",
      "3. Acknowledgements\n",
      "\n",
      "\tThis data was obtained with the support of grant EP/I028099/1 for the University of Manchester \n",
      "\tCentre for Doctoral Training in Computer Science, from the UK Engineering and Physical Sciences\n",
      "\tResearch Council (EPSRC). The raw observational data was collected by the High Time Resolution\n",
      "\tUniverse Collaboration using the Parkes Observatory, funded by the Commonwealth of Australia and\n",
      "\tmanaged by the CSIRO.\n",
      "\t\n",
      "4. References\n",
      "\n",
      "\t[1] M.~J. Keith et al., \"The High Time Resolution Universe Pulsar Survey - I. System Configuration \n",
      "\t    and Initial Discoveries\",2010, Monthly Notices of the Royal Astronomical Society, vol. 409,\n",
      "\t    pp. 619-627. DOI: 10.1111/j.1365-2966.2010.17325.x\n",
      "\t\n",
      "\t[2] D. R. Lorimer and M. Kramer, \"Handbook of Pulsar Astronomy\", Cambridge University Press, 2005.\n",
      "\t\n",
      "\t[3] R. J. Lyon, \"Why Are Pulsars Hard To Find?\", PhD Thesis, University of Manchester, 2015.\n",
      "\t\n",
      "\t[4] R. J. Lyon et al., \"Fifty Years of Pulsar Candidate Selection: From simple filters to a new\n",
      "\t\tprincipled real-time classification approach\", Monthly Notices of the Royal Astronomical Society,\n",
      "\t\tsubmitted.\n",
      "\t\t\n",
      "\t[5] R. P. Eatough et al., \"Selection of radio pulsar candidates using artificial neural networks\",\n",
      "\t\tMonthly Notices of the Royal Astronomical Society, vol. 407, no. 4, pp. 2443-2450, 2010.\n",
      "\t\t\n",
      "\t[6] S. D. Bates et al., \"The high time resolution universe pulsar survey vi. an artificial neural\n",
      "\t\tnetwork and timing of 75 pulsars\", Monthly Notices of the Royal Astronomical Society, vol. 427,\n",
      "\t\tno. 2, pp. 1052-1065, 2012.\n",
      "\n",
      "\t[7] D. Thornton, \"The High Time Resolution Radio Sky\", PhD thesis, University of Manchester,\n",
      "\t\tJodrell Bank Centre for Astrophysics School of Physics and Astronomy, 2013.\n",
      "\t\t\n",
      "\t[8] K. J. Lee et al., \"PEACE: pulsar evaluation algorithm for candidate extraction a software package\n",
      "\t\tfor post-analysis processing of pulsar survey candidates\", Monthly Notices of the Royal Astronomical\n",
      "\t\tSociety, vol. 433, no. 1, pp. 688-694, 2013.\n",
      "\t\t\n",
      "\t[9] V. Morello et al., \"SPINN: a straightforward machine learning solution to the pulsar candidate\n",
      "\t\tselection problem\", Monthly Notices of the Royal Astronomical Society, vol. 443, no. 2,\n",
      "\t\tpp. 1651-1662, 2014.\n",
      "\t\t\n",
      "\t[10] R. J. Lyon, \"PulsarFeatureLab\", 2015, https://dx.doi.org/10.6084/m9.figshare.1536472.v1.\n",
      "\n"
     ]
    }
   ],
   "source": [
    "with open(data_dir + 'Readme.txt') as f:\n",
    "    print(f.read())"
   ]
  },
  {
   "cell_type": "markdown",
   "metadata": {},
   "source": [
    "This time, we will load our data using an arff file. The arff file in this case contains a bit more information and can help with the automatic labeling of our dataset columns."
   ]
  },
  {
   "cell_type": "code",
   "execution_count": 4,
   "metadata": {},
   "outputs": [
    {
     "data": {
      "text/html": [
       "<div>\n",
       "<style scoped>\n",
       "    .dataframe tbody tr th:only-of-type {\n",
       "        vertical-align: middle;\n",
       "    }\n",
       "\n",
       "    .dataframe tbody tr th {\n",
       "        vertical-align: top;\n",
       "    }\n",
       "\n",
       "    .dataframe thead th {\n",
       "        text-align: right;\n",
       "    }\n",
       "</style>\n",
       "<table border=\"1\" class=\"dataframe\">\n",
       "  <thead>\n",
       "    <tr style=\"text-align: right;\">\n",
       "      <th></th>\n",
       "      <th>Profile_mean</th>\n",
       "      <th>Profile_stdev</th>\n",
       "      <th>Profile_skewness</th>\n",
       "      <th>Profile_kurtosis</th>\n",
       "      <th>DM_mean</th>\n",
       "      <th>DM_stdev</th>\n",
       "      <th>DM_skewness</th>\n",
       "      <th>DM_kurtosis</th>\n",
       "      <th>class</th>\n",
       "    </tr>\n",
       "  </thead>\n",
       "  <tbody>\n",
       "    <tr>\n",
       "      <th>0</th>\n",
       "      <td>140.562500</td>\n",
       "      <td>55.683782</td>\n",
       "      <td>-0.234571</td>\n",
       "      <td>-0.699648</td>\n",
       "      <td>3.199833</td>\n",
       "      <td>19.110426</td>\n",
       "      <td>7.975532</td>\n",
       "      <td>74.242225</td>\n",
       "      <td>b'0'</td>\n",
       "    </tr>\n",
       "    <tr>\n",
       "      <th>1</th>\n",
       "      <td>102.507812</td>\n",
       "      <td>58.882430</td>\n",
       "      <td>0.465318</td>\n",
       "      <td>-0.515088</td>\n",
       "      <td>1.677258</td>\n",
       "      <td>14.860146</td>\n",
       "      <td>10.576487</td>\n",
       "      <td>127.393580</td>\n",
       "      <td>b'0'</td>\n",
       "    </tr>\n",
       "    <tr>\n",
       "      <th>2</th>\n",
       "      <td>103.015625</td>\n",
       "      <td>39.341649</td>\n",
       "      <td>0.323328</td>\n",
       "      <td>1.051164</td>\n",
       "      <td>3.121237</td>\n",
       "      <td>21.744669</td>\n",
       "      <td>7.735822</td>\n",
       "      <td>63.171909</td>\n",
       "      <td>b'0'</td>\n",
       "    </tr>\n",
       "    <tr>\n",
       "      <th>3</th>\n",
       "      <td>136.750000</td>\n",
       "      <td>57.178449</td>\n",
       "      <td>-0.068415</td>\n",
       "      <td>-0.636238</td>\n",
       "      <td>3.642977</td>\n",
       "      <td>20.959280</td>\n",
       "      <td>6.896499</td>\n",
       "      <td>53.593661</td>\n",
       "      <td>b'0'</td>\n",
       "    </tr>\n",
       "    <tr>\n",
       "      <th>4</th>\n",
       "      <td>88.726562</td>\n",
       "      <td>40.672225</td>\n",
       "      <td>0.600866</td>\n",
       "      <td>1.123492</td>\n",
       "      <td>1.178930</td>\n",
       "      <td>11.468720</td>\n",
       "      <td>14.269573</td>\n",
       "      <td>252.567306</td>\n",
       "      <td>b'0'</td>\n",
       "    </tr>\n",
       "    <tr>\n",
       "      <th>...</th>\n",
       "      <td>...</td>\n",
       "      <td>...</td>\n",
       "      <td>...</td>\n",
       "      <td>...</td>\n",
       "      <td>...</td>\n",
       "      <td>...</td>\n",
       "      <td>...</td>\n",
       "      <td>...</td>\n",
       "      <td>...</td>\n",
       "    </tr>\n",
       "    <tr>\n",
       "      <th>17893</th>\n",
       "      <td>136.429688</td>\n",
       "      <td>59.847421</td>\n",
       "      <td>-0.187846</td>\n",
       "      <td>-0.738123</td>\n",
       "      <td>1.296823</td>\n",
       "      <td>12.166062</td>\n",
       "      <td>15.450260</td>\n",
       "      <td>285.931022</td>\n",
       "      <td>b'0'</td>\n",
       "    </tr>\n",
       "    <tr>\n",
       "      <th>17894</th>\n",
       "      <td>122.554688</td>\n",
       "      <td>49.485605</td>\n",
       "      <td>0.127978</td>\n",
       "      <td>0.323061</td>\n",
       "      <td>16.409699</td>\n",
       "      <td>44.626893</td>\n",
       "      <td>2.945244</td>\n",
       "      <td>8.297092</td>\n",
       "      <td>b'0'</td>\n",
       "    </tr>\n",
       "    <tr>\n",
       "      <th>17895</th>\n",
       "      <td>119.335938</td>\n",
       "      <td>59.935939</td>\n",
       "      <td>0.159363</td>\n",
       "      <td>-0.743025</td>\n",
       "      <td>21.430602</td>\n",
       "      <td>58.872000</td>\n",
       "      <td>2.499517</td>\n",
       "      <td>4.595173</td>\n",
       "      <td>b'0'</td>\n",
       "    </tr>\n",
       "    <tr>\n",
       "      <th>17896</th>\n",
       "      <td>114.507812</td>\n",
       "      <td>53.902400</td>\n",
       "      <td>0.201161</td>\n",
       "      <td>-0.024789</td>\n",
       "      <td>1.946488</td>\n",
       "      <td>13.381731</td>\n",
       "      <td>10.007967</td>\n",
       "      <td>134.238910</td>\n",
       "      <td>b'0'</td>\n",
       "    </tr>\n",
       "    <tr>\n",
       "      <th>17897</th>\n",
       "      <td>57.062500</td>\n",
       "      <td>85.797340</td>\n",
       "      <td>1.406391</td>\n",
       "      <td>0.089520</td>\n",
       "      <td>188.306020</td>\n",
       "      <td>64.712562</td>\n",
       "      <td>-1.597527</td>\n",
       "      <td>1.429475</td>\n",
       "      <td>b'0'</td>\n",
       "    </tr>\n",
       "  </tbody>\n",
       "</table>\n",
       "<p>17898 rows × 9 columns</p>\n",
       "</div>"
      ],
      "text/plain": [
       "       Profile_mean  Profile_stdev  Profile_skewness  Profile_kurtosis  \\\n",
       "0        140.562500      55.683782         -0.234571         -0.699648   \n",
       "1        102.507812      58.882430          0.465318         -0.515088   \n",
       "2        103.015625      39.341649          0.323328          1.051164   \n",
       "3        136.750000      57.178449         -0.068415         -0.636238   \n",
       "4         88.726562      40.672225          0.600866          1.123492   \n",
       "...             ...            ...               ...               ...   \n",
       "17893    136.429688      59.847421         -0.187846         -0.738123   \n",
       "17894    122.554688      49.485605          0.127978          0.323061   \n",
       "17895    119.335938      59.935939          0.159363         -0.743025   \n",
       "17896    114.507812      53.902400          0.201161         -0.024789   \n",
       "17897     57.062500      85.797340          1.406391          0.089520   \n",
       "\n",
       "          DM_mean   DM_stdev  DM_skewness  DM_kurtosis class  \n",
       "0        3.199833  19.110426     7.975532    74.242225  b'0'  \n",
       "1        1.677258  14.860146    10.576487   127.393580  b'0'  \n",
       "2        3.121237  21.744669     7.735822    63.171909  b'0'  \n",
       "3        3.642977  20.959280     6.896499    53.593661  b'0'  \n",
       "4        1.178930  11.468720    14.269573   252.567306  b'0'  \n",
       "...           ...        ...          ...          ...   ...  \n",
       "17893    1.296823  12.166062    15.450260   285.931022  b'0'  \n",
       "17894   16.409699  44.626893     2.945244     8.297092  b'0'  \n",
       "17895   21.430602  58.872000     2.499517     4.595173  b'0'  \n",
       "17896    1.946488  13.381731    10.007967   134.238910  b'0'  \n",
       "17897  188.306020  64.712562    -1.597527     1.429475  b'0'  \n",
       "\n",
       "[17898 rows x 9 columns]"
      ]
     },
     "execution_count": 4,
     "metadata": {},
     "output_type": "execute_result"
    }
   ],
   "source": [
    "data = arff.loadarff(data_dir + 'HTRU_2.arff')\n",
    "htru2_df = pd.DataFrame(data[0])\n",
    "htru2_df"
   ]
  },
  {
   "cell_type": "markdown",
   "metadata": {},
   "source": [
    "We convert the class column into integer values to use as our targets."
   ]
  },
  {
   "cell_type": "code",
   "execution_count": 5,
   "metadata": {},
   "outputs": [],
   "source": [
    "htru2_df['class'] = htru2_df['class'].astype(int)"
   ]
  },
  {
   "cell_type": "markdown",
   "metadata": {},
   "source": [
    "Let's take a look at some dataset information."
   ]
  },
  {
   "cell_type": "code",
   "execution_count": 6,
   "metadata": {},
   "outputs": [
    {
     "name": "stdout",
     "output_type": "stream",
     "text": [
      "<class 'pandas.core.frame.DataFrame'>\n",
      "RangeIndex: 17898 entries, 0 to 17897\n",
      "Data columns (total 9 columns):\n",
      " #   Column            Non-Null Count  Dtype  \n",
      "---  ------            --------------  -----  \n",
      " 0   Profile_mean      17898 non-null  float64\n",
      " 1   Profile_stdev     17898 non-null  float64\n",
      " 2   Profile_skewness  17898 non-null  float64\n",
      " 3   Profile_kurtosis  17898 non-null  float64\n",
      " 4   DM_mean           17898 non-null  float64\n",
      " 5   DM_stdev          17898 non-null  float64\n",
      " 6   DM_skewness       17898 non-null  float64\n",
      " 7   DM_kurtosis       17898 non-null  float64\n",
      " 8   class             17898 non-null  int32  \n",
      "dtypes: float64(8), int32(1)\n",
      "memory usage: 1.2 MB\n"
     ]
    }
   ],
   "source": [
    "htru2_df.info()"
   ]
  },
  {
   "cell_type": "code",
   "execution_count": 7,
   "metadata": {},
   "outputs": [
    {
     "data": {
      "text/html": [
       "<div>\n",
       "<style scoped>\n",
       "    .dataframe tbody tr th:only-of-type {\n",
       "        vertical-align: middle;\n",
       "    }\n",
       "\n",
       "    .dataframe tbody tr th {\n",
       "        vertical-align: top;\n",
       "    }\n",
       "\n",
       "    .dataframe thead th {\n",
       "        text-align: right;\n",
       "    }\n",
       "</style>\n",
       "<table border=\"1\" class=\"dataframe\">\n",
       "  <thead>\n",
       "    <tr style=\"text-align: right;\">\n",
       "      <th></th>\n",
       "      <th>Profile_mean</th>\n",
       "      <th>Profile_stdev</th>\n",
       "      <th>Profile_skewness</th>\n",
       "      <th>Profile_kurtosis</th>\n",
       "      <th>DM_mean</th>\n",
       "      <th>DM_stdev</th>\n",
       "      <th>DM_skewness</th>\n",
       "      <th>DM_kurtosis</th>\n",
       "      <th>class</th>\n",
       "    </tr>\n",
       "  </thead>\n",
       "  <tbody>\n",
       "    <tr>\n",
       "      <th>count</th>\n",
       "      <td>17898.000000</td>\n",
       "      <td>17898.000000</td>\n",
       "      <td>17898.000000</td>\n",
       "      <td>17898.000000</td>\n",
       "      <td>17898.000000</td>\n",
       "      <td>17898.000000</td>\n",
       "      <td>17898.000000</td>\n",
       "      <td>17898.000000</td>\n",
       "      <td>17898.000000</td>\n",
       "    </tr>\n",
       "    <tr>\n",
       "      <th>mean</th>\n",
       "      <td>111.079968</td>\n",
       "      <td>46.549532</td>\n",
       "      <td>0.477857</td>\n",
       "      <td>1.770279</td>\n",
       "      <td>12.614400</td>\n",
       "      <td>26.326515</td>\n",
       "      <td>8.303556</td>\n",
       "      <td>104.857709</td>\n",
       "      <td>0.091574</td>\n",
       "    </tr>\n",
       "    <tr>\n",
       "      <th>std</th>\n",
       "      <td>25.652935</td>\n",
       "      <td>6.843189</td>\n",
       "      <td>1.064040</td>\n",
       "      <td>6.167913</td>\n",
       "      <td>29.472897</td>\n",
       "      <td>19.470572</td>\n",
       "      <td>4.506092</td>\n",
       "      <td>106.514540</td>\n",
       "      <td>0.288432</td>\n",
       "    </tr>\n",
       "    <tr>\n",
       "      <th>min</th>\n",
       "      <td>5.812500</td>\n",
       "      <td>24.772042</td>\n",
       "      <td>-1.876011</td>\n",
       "      <td>-1.791886</td>\n",
       "      <td>0.213211</td>\n",
       "      <td>7.370432</td>\n",
       "      <td>-3.139270</td>\n",
       "      <td>-1.976976</td>\n",
       "      <td>0.000000</td>\n",
       "    </tr>\n",
       "    <tr>\n",
       "      <th>25%</th>\n",
       "      <td>100.929688</td>\n",
       "      <td>42.376018</td>\n",
       "      <td>0.027098</td>\n",
       "      <td>-0.188572</td>\n",
       "      <td>1.923077</td>\n",
       "      <td>14.437332</td>\n",
       "      <td>5.781506</td>\n",
       "      <td>34.960504</td>\n",
       "      <td>0.000000</td>\n",
       "    </tr>\n",
       "    <tr>\n",
       "      <th>50%</th>\n",
       "      <td>115.078125</td>\n",
       "      <td>46.947479</td>\n",
       "      <td>0.223240</td>\n",
       "      <td>0.198710</td>\n",
       "      <td>2.801839</td>\n",
       "      <td>18.461316</td>\n",
       "      <td>8.433515</td>\n",
       "      <td>83.064556</td>\n",
       "      <td>0.000000</td>\n",
       "    </tr>\n",
       "    <tr>\n",
       "      <th>75%</th>\n",
       "      <td>127.085938</td>\n",
       "      <td>51.023202</td>\n",
       "      <td>0.473325</td>\n",
       "      <td>0.927783</td>\n",
       "      <td>5.464256</td>\n",
       "      <td>28.428104</td>\n",
       "      <td>10.702959</td>\n",
       "      <td>139.309330</td>\n",
       "      <td>0.000000</td>\n",
       "    </tr>\n",
       "    <tr>\n",
       "      <th>max</th>\n",
       "      <td>192.617188</td>\n",
       "      <td>98.778911</td>\n",
       "      <td>8.069522</td>\n",
       "      <td>68.101622</td>\n",
       "      <td>223.392141</td>\n",
       "      <td>110.642211</td>\n",
       "      <td>34.539844</td>\n",
       "      <td>1191.000837</td>\n",
       "      <td>1.000000</td>\n",
       "    </tr>\n",
       "  </tbody>\n",
       "</table>\n",
       "</div>"
      ],
      "text/plain": [
       "       Profile_mean  Profile_stdev  Profile_skewness  Profile_kurtosis  \\\n",
       "count  17898.000000   17898.000000      17898.000000      17898.000000   \n",
       "mean     111.079968      46.549532          0.477857          1.770279   \n",
       "std       25.652935       6.843189          1.064040          6.167913   \n",
       "min        5.812500      24.772042         -1.876011         -1.791886   \n",
       "25%      100.929688      42.376018          0.027098         -0.188572   \n",
       "50%      115.078125      46.947479          0.223240          0.198710   \n",
       "75%      127.085938      51.023202          0.473325          0.927783   \n",
       "max      192.617188      98.778911          8.069522         68.101622   \n",
       "\n",
       "            DM_mean      DM_stdev   DM_skewness   DM_kurtosis         class  \n",
       "count  17898.000000  17898.000000  17898.000000  17898.000000  17898.000000  \n",
       "mean      12.614400     26.326515      8.303556    104.857709      0.091574  \n",
       "std       29.472897     19.470572      4.506092    106.514540      0.288432  \n",
       "min        0.213211      7.370432     -3.139270     -1.976976      0.000000  \n",
       "25%        1.923077     14.437332      5.781506     34.960504      0.000000  \n",
       "50%        2.801839     18.461316      8.433515     83.064556      0.000000  \n",
       "75%        5.464256     28.428104     10.702959    139.309330      0.000000  \n",
       "max      223.392141    110.642211     34.539844   1191.000837      1.000000  "
      ]
     },
     "execution_count": 7,
     "metadata": {},
     "output_type": "execute_result"
    }
   ],
   "source": [
    "htru2_df.describe()"
   ]
  },
  {
   "cell_type": "markdown",
   "metadata": {},
   "source": [
    "## Training"
   ]
  },
  {
   "cell_type": "markdown",
   "metadata": {},
   "source": [
    "In this section, we will train a logistic regression and a random forest classifier.\n",
    "\n",
    "Our goal is to examine differences with plain features and by applying PCA, extract feature importance by examining our classifiers, rank those features, and use the top 4 features as a next step in classification."
   ]
  },
  {
   "cell_type": "markdown",
   "metadata": {},
   "source": [
    "### Without PCA"
   ]
  },
  {
   "cell_type": "markdown",
   "metadata": {},
   "source": [
    "We begin by standardizing our features, an important step when PCA is involved.\n",
    "We also extract targets."
   ]
  },
  {
   "cell_type": "code",
   "execution_count": 8,
   "metadata": {},
   "outputs": [],
   "source": [
    "features = StandardScaler().fit_transform(htru2_df.drop(columns='class'))\n",
    "targets = htru2_df['class']"
   ]
  },
  {
   "cell_type": "markdown",
   "metadata": {},
   "source": [
    "We split our data."
   ]
  },
  {
   "cell_type": "code",
   "execution_count": 9,
   "metadata": {},
   "outputs": [],
   "source": [
    "x_train, x_test, y_train, y_test = train_test_split(features, targets, stratify=targets)"
   ]
  },
  {
   "cell_type": "markdown",
   "metadata": {},
   "source": [
    "#### Logistic regression"
   ]
  },
  {
   "cell_type": "markdown",
   "metadata": {},
   "source": [
    "And start with the logistic regression classifier."
   ]
  },
  {
   "cell_type": "code",
   "execution_count": 10,
   "metadata": {},
   "outputs": [],
   "source": [
    "lr_clf = LogisticRegression().fit(x_train, y_train)"
   ]
  },
  {
   "cell_type": "markdown",
   "metadata": {},
   "source": [
    "We predict labels"
   ]
  },
  {
   "cell_type": "code",
   "execution_count": 11,
   "metadata": {},
   "outputs": [],
   "source": [
    "y_predicted = lr_clf.predict(x_test)"
   ]
  },
  {
   "cell_type": "markdown",
   "metadata": {},
   "source": [
    "And evaluate"
   ]
  },
  {
   "cell_type": "code",
   "execution_count": 12,
   "metadata": {},
   "outputs": [
    {
     "name": "stdout",
     "output_type": "stream",
     "text": [
      "Accuracy: 0.9783240223463687\n",
      "Precision: 0.9335180055401662\n",
      "Recall: 0.8219512195121951\n",
      "F1: 0.8741893644617379\n"
     ]
    }
   ],
   "source": [
    "print('Accuracy:', metrics.accuracy_score(y_test, y_predicted))\n",
    "print('Precision:', metrics.precision_score(y_test, y_predicted))\n",
    "print('Recall:', metrics.recall_score(y_test, y_predicted))\n",
    "print('F1:', metrics.f1_score(y_test, y_predicted))"
   ]
  },
  {
   "cell_type": "code",
   "execution_count": 13,
   "metadata": {},
   "outputs": [
    {
     "data": {
      "image/png": "[encoded data removed]",
      "text/plain": [
       "<Figure size 720x504 with 1 Axes>"
      ]
     },
     "metadata": {
      "needs_background": "light"
     },
     "output_type": "display_data"
    }
   ],
   "source": [
    "fpr, tpr, _ = metrics.roc_curve(y_test, lr_clf.decision_function(x_test))\n",
    "roc_auc = metrics.auc(fpr, tpr)\n",
    "\n",
    "plt.figure(figsize=(10,7))\n",
    "plt.plot(fpr, tpr ,color='darkorange', lw=2, label='ROC curve (area = %0.2f)' % roc_auc)\n",
    "plt.plot([0, 1], [0, 1], lw=2, linestyle='--')\n",
    "plt.xlim([-0.01, 1.0])\n",
    "plt.ylim([-0.01, 1.05])\n",
    "plt.xlabel('False Positive Rate')\n",
    "plt.ylabel('True Positive Rate')\n",
    "plt.title('Receiver operating characteristic')\n",
    "plt.legend(loc='lower right');"
   ]
  },
  {
   "cell_type": "markdown",
   "metadata": {},
   "source": [
    "Let's now take a look at the most important features, based on our classifier."
   ]
  },
  {
   "cell_type": "code",
   "execution_count": 14,
   "metadata": {},
   "outputs": [
    {
     "data": {
      "text/plain": [
       "array([[ 0.40518678, -0.11764762,  5.9863921 , -3.03508912, -0.81498129,\n",
       "         1.00907673,  0.29264419, -0.78608814]])"
      ]
     },
     "execution_count": 14,
     "metadata": {},
     "output_type": "execute_result"
    }
   ],
   "source": [
    "lr_clf.coef_"
   ]
  },
  {
   "cell_type": "markdown",
   "metadata": {},
   "source": [
    "Profile skewness, profile kurtosis and DM standard deviation and mean seem to be ranked the highest."
   ]
  },
  {
   "cell_type": "code",
   "execution_count": 15,
   "metadata": {},
   "outputs": [
    {
     "data": {
      "text/plain": [
       "{'Profile_skewness': 5.986392099414634,\n",
       " 'Profile_kurtosis': 3.035089116286893,\n",
       " 'DM_stdev': 1.009076730773693,\n",
       " 'DM_mean': 0.8149812858127462,\n",
       " 'DM_kurtosis': 0.7860881365256552,\n",
       " 'Profile_mean': 0.4051867811407669,\n",
       " 'DM_skewness': 0.2926441926096504,\n",
       " 'Profile_stdev': 0.11764761567633004}"
      ]
     },
     "execution_count": 15,
     "metadata": {},
     "output_type": "execute_result"
    }
   ],
   "source": [
    "lr_feat_importance = {x[0]: x[1] for x in \n",
    " sorted(\n",
    "     zip(htru2_df.columns, np.abs(lr_clf.coef_[0])), \n",
    "     key= lambda x: x[1], \n",
    "     reverse=True\n",
    " )\n",
    "}\n",
    "lr_feat_importance"
   ]
  },
  {
   "cell_type": "markdown",
   "metadata": {},
   "source": [
    "#### Random Forest"
   ]
  },
  {
   "cell_type": "markdown",
   "metadata": {},
   "source": [
    "We perform the same procedure with a random forest classifier."
   ]
  },
  {
   "cell_type": "code",
   "execution_count": 16,
   "metadata": {},
   "outputs": [],
   "source": [
    "rf_clf = RandomForestClassifier().fit(x_train, y_train)"
   ]
  },
  {
   "cell_type": "code",
   "execution_count": 17,
   "metadata": {},
   "outputs": [],
   "source": [
    "y_predicted = rf_clf.predict(x_test)"
   ]
  },
  {
   "cell_type": "code",
   "execution_count": 18,
   "metadata": {},
   "outputs": [
    {
     "name": "stdout",
     "output_type": "stream",
     "text": [
      "Accuracy: 0.980782122905028\n",
      "Precision: 0.9378378378378378\n",
      "Recall: 0.8463414634146341\n",
      "F1: 0.8897435897435898\n"
     ]
    }
   ],
   "source": [
    "print('Accuracy:', metrics.accuracy_score(y_test, y_predicted))\n",
    "print('Precision:', metrics.precision_score(y_test, y_predicted))\n",
    "print('Recall:', metrics.recall_score(y_test, y_predicted))\n",
    "print('F1:', metrics.f1_score(y_test, y_predicted))"
   ]
  },
  {
   "cell_type": "code",
   "execution_count": 19,
   "metadata": {},
   "outputs": [
    {
     "data": {
      "image/png": "[encoded data removed]",
      "text/plain": [
       "<Figure size 720x504 with 1 Axes>"
      ]
     },
     "metadata": {
      "needs_background": "light"
     },
     "output_type": "display_data"
    }
   ],
   "source": [
    "fpr, tpr, _ = metrics.roc_curve(y_test, lr_clf.decision_function(x_test))\n",
    "roc_auc = metrics.auc(fpr, tpr)\n",
    "\n",
    "plt.figure(figsize=(10,7))\n",
    "plt.plot(fpr, tpr ,color='darkorange', lw=2, label='ROC curve (area = %0.2f)' % roc_auc)\n",
    "plt.plot([0, 1], [0, 1], lw=2, linestyle='--')\n",
    "plt.xlim([-0.01, 1.0])\n",
    "plt.ylim([-0.01, 1.05])\n",
    "plt.xlabel('False Positive Rate')\n",
    "plt.ylabel('True Positive Rate')\n",
    "plt.title('Receiver operating characteristic')\n",
    "plt.legend(loc='lower right');"
   ]
  },
  {
   "cell_type": "code",
   "execution_count": 20,
   "metadata": {},
   "outputs": [
    {
     "data": {
      "text/plain": [
       "array([0.12075666, 0.05751439, 0.36097481, 0.22930101, 0.06962814,\n",
       "       0.07281098, 0.05000377, 0.03901025])"
      ]
     },
     "execution_count": 20,
     "metadata": {},
     "output_type": "execute_result"
    }
   ],
   "source": [
    "rf_clf.feature_importances_"
   ]
  },
  {
   "cell_type": "code",
   "execution_count": 21,
   "metadata": {},
   "outputs": [
    {
     "data": {
      "text/plain": [
       "{'Profile_skewness': 0.36097480526468206,\n",
       " 'Profile_kurtosis': 0.22930100984937796,\n",
       " 'Profile_mean': 0.1207566605772503,\n",
       " 'DM_stdev': 0.07281098338771101,\n",
       " 'DM_mean': 0.06962814170481371,\n",
       " 'Profile_stdev': 0.05751438553668825,\n",
       " 'DM_skewness': 0.05000376825375834,\n",
       " 'DM_kurtosis': 0.03901024542571838}"
      ]
     },
     "execution_count": 21,
     "metadata": {},
     "output_type": "execute_result"
    }
   ],
   "source": [
    "rf_feat_importance = {x[0]: x[1] for x in \n",
    " sorted(\n",
    "     zip(htru2_df.columns, np.abs(rf_clf.feature_importances_)), \n",
    "     key= lambda x: x[1], \n",
    "     reverse=True\n",
    " )\n",
    "}\n",
    "rf_feat_importance"
   ]
  },
  {
   "cell_type": "markdown",
   "metadata": {},
   "source": [
    "### With PCA"
   ]
  },
  {
   "cell_type": "markdown",
   "metadata": {},
   "source": [
    "Now we want to examine model performance using PCA instead of our original features.\n",
    "We perform a similar procedure."
   ]
  },
  {
   "cell_type": "code",
   "execution_count": 22,
   "metadata": {},
   "outputs": [],
   "source": [
    "pca_features = PCA(n_components=4).fit_transform(features)"
   ]
  },
  {
   "cell_type": "code",
   "execution_count": 23,
   "metadata": {},
   "outputs": [],
   "source": [
    "x_train, x_test, y_train, y_test = train_test_split(pca_features, targets, stratify=targets)"
   ]
  },
  {
   "cell_type": "markdown",
   "metadata": {},
   "source": [
    "#### Logistic regression"
   ]
  },
  {
   "cell_type": "code",
   "execution_count": 24,
   "metadata": {},
   "outputs": [],
   "source": [
    "lr_clf = LogisticRegression().fit(x_train, y_train)"
   ]
  },
  {
   "cell_type": "code",
   "execution_count": 25,
   "metadata": {},
   "outputs": [],
   "source": [
    "y_predicted = lr_clf.predict(x_test)"
   ]
  },
  {
   "cell_type": "code",
   "execution_count": 26,
   "metadata": {},
   "outputs": [
    {
     "name": "stdout",
     "output_type": "stream",
     "text": [
      "Accuracy: 0.9776536312849162\n",
      "Precision: 0.9479768786127167\n",
      "Recall: 0.8\n",
      "F1: 0.8677248677248678\n"
     ]
    }
   ],
   "source": [
    "print('Accuracy:', metrics.accuracy_score(y_test, y_predicted))\n",
    "print('Precision:', metrics.precision_score(y_test, y_predicted))\n",
    "print('Recall:', metrics.recall_score(y_test, y_predicted))\n",
    "print('F1:', metrics.f1_score(y_test, y_predicted))"
   ]
  },
  {
   "cell_type": "code",
   "execution_count": 27,
   "metadata": {},
   "outputs": [
    {
     "data": {
      "image/png": "[encoded data removed]",
      "text/plain": [
       "<Figure size 720x504 with 1 Axes>"
      ]
     },
     "metadata": {
      "needs_background": "light"
     },
     "output_type": "display_data"
    }
   ],
   "source": [
    "fpr, tpr, _ = metrics.roc_curve(y_test, lr_clf.decision_function(x_test))\n",
    "roc_auc = metrics.auc(fpr, tpr)\n",
    "\n",
    "plt.figure(figsize=(10,7))\n",
    "plt.plot(fpr, tpr ,color='darkorange', lw=2, label='ROC curve (area = %0.2f)' % roc_auc)\n",
    "plt.plot([0, 1], [0, 1], lw=2, linestyle='--')\n",
    "plt.xlim([-0.01, 1.0])\n",
    "plt.ylim([-0.01, 1.05])\n",
    "plt.xlabel('False Positive Rate')\n",
    "plt.ylabel('True Positive Rate')\n",
    "plt.title('Receiver operating characteristic')\n",
    "plt.legend(loc='lower right');"
   ]
  },
  {
   "cell_type": "markdown",
   "metadata": {},
   "source": [
    "#### Random Forest"
   ]
  },
  {
   "cell_type": "code",
   "execution_count": 28,
   "metadata": {},
   "outputs": [],
   "source": [
    "rf_clf = RandomForestClassifier().fit(x_train, y_train)"
   ]
  },
  {
   "cell_type": "code",
   "execution_count": 29,
   "metadata": {},
   "outputs": [],
   "source": [
    "y_predicted = rf_clf.predict(x_test)"
   ]
  },
  {
   "cell_type": "code",
   "execution_count": 30,
   "metadata": {},
   "outputs": [
    {
     "name": "stdout",
     "output_type": "stream",
     "text": [
      "Accuracy: 0.9774301675977654\n",
      "Precision: 0.9164420485175202\n",
      "Recall: 0.8292682926829268\n",
      "F1: 0.8706786171574905\n"
     ]
    }
   ],
   "source": [
    "print('Accuracy:', metrics.accuracy_score(y_test, y_predicted))\n",
    "print('Precision:', metrics.precision_score(y_test, y_predicted))\n",
    "print('Recall:', metrics.recall_score(y_test, y_predicted))\n",
    "print('F1:', metrics.f1_score(y_test, y_predicted))"
   ]
  },
  {
   "cell_type": "code",
   "execution_count": 31,
   "metadata": {},
   "outputs": [
    {
     "data": {
      "image/png": "[encoded data removed]",
      "text/plain": [
       "<Figure size 720x504 with 1 Axes>"
      ]
     },
     "metadata": {
      "needs_background": "light"
     },
     "output_type": "display_data"
    }
   ],
   "source": [
    "fpr, tpr, _ = metrics.roc_curve(y_test, lr_clf.decision_function(x_test))\n",
    "roc_auc = metrics.auc(fpr, tpr)\n",
    "\n",
    "plt.figure(figsize=(10,7))\n",
    "plt.plot(fpr, tpr ,color='darkorange', lw=2, label='ROC curve (area = %0.2f)' % roc_auc)\n",
    "plt.plot([0, 1], [0, 1], lw=2, linestyle='--')\n",
    "plt.xlim([-0.01, 1.0])\n",
    "plt.ylim([-0.01, 1.05])\n",
    "plt.xlabel('False Positive Rate')\n",
    "plt.ylabel('True Positive Rate')\n",
    "plt.title('Receiver operating characteristic')\n",
    "plt.legend(loc='lower right');"
   ]
  },
  {
   "cell_type": "markdown",
   "metadata": {},
   "source": [
    "### Using most important features"
   ]
  },
  {
   "cell_type": "markdown",
   "metadata": {},
   "source": [
    "We will now take the top 4 features, as they were ranked by our classifiers.\n",
    "\n",
    "We will once again examine all cases, using ranked features from both classifiers, and using them with both logistic regression and random forest models."
   ]
  },
  {
   "cell_type": "markdown",
   "metadata": {},
   "source": [
    "#### Based on logistic regression"
   ]
  },
  {
   "cell_type": "code",
   "execution_count": 32,
   "metadata": {},
   "outputs": [],
   "source": [
    "column_idx = [htru2_df.columns.get_loc(c) for c in list(lr_feat_importance.keys())[:4]]"
   ]
  },
  {
   "cell_type": "code",
   "execution_count": 33,
   "metadata": {},
   "outputs": [],
   "source": [
    "top4_lr_features = features[:, column_idx]"
   ]
  },
  {
   "cell_type": "code",
   "execution_count": 34,
   "metadata": {},
   "outputs": [],
   "source": [
    "x_train, x_test, y_train, y_test = train_test_split(top4_lr_features, targets, stratify=targets)"
   ]
  },
  {
   "cell_type": "markdown",
   "metadata": {},
   "source": [
    "##### Logistic regression classifier"
   ]
  },
  {
   "cell_type": "code",
   "execution_count": 35,
   "metadata": {},
   "outputs": [],
   "source": [
    "lr_clf = LogisticRegression().fit(x_train, y_train)"
   ]
  },
  {
   "cell_type": "code",
   "execution_count": 36,
   "metadata": {},
   "outputs": [],
   "source": [
    "y_predicted = lr_clf.predict(x_test)"
   ]
  },
  {
   "cell_type": "code",
   "execution_count": 37,
   "metadata": {},
   "outputs": [
    {
     "name": "stdout",
     "output_type": "stream",
     "text": [
      "Accuracy: 0.9794413407821229\n",
      "Precision: 0.9274193548387096\n",
      "Recall: 0.8414634146341463\n",
      "F1: 0.8823529411764706\n"
     ]
    }
   ],
   "source": [
    "print('Accuracy:', metrics.accuracy_score(y_test, y_predicted))\n",
    "print('Precision:', metrics.precision_score(y_test, y_predicted))\n",
    "print('Recall:', metrics.recall_score(y_test, y_predicted))\n",
    "print('F1:', metrics.f1_score(y_test, y_predicted))"
   ]
  },
  {
   "cell_type": "code",
   "execution_count": 38,
   "metadata": {},
   "outputs": [
    {
     "data": {
      "image/png": "[encoded data removed]",
      "text/plain": [
       "<Figure size 720x504 with 1 Axes>"
      ]
     },
     "metadata": {
      "needs_background": "light"
     },
     "output_type": "display_data"
    }
   ],
   "source": [
    "fpr, tpr, _ = metrics.roc_curve(y_test, lr_clf.decision_function(x_test))\n",
    "roc_auc = metrics.auc(fpr, tpr)\n",
    "\n",
    "plt.figure(figsize=(10,7))\n",
    "plt.plot(fpr, tpr ,color='darkorange', lw=2, label='ROC curve (area = %0.2f)' % roc_auc)\n",
    "plt.plot([0, 1], [0, 1], lw=2, linestyle='--')\n",
    "plt.xlim([-0.01, 1.0])\n",
    "plt.ylim([-0.01, 1.05])\n",
    "plt.xlabel('False Positive Rate')\n",
    "plt.ylabel('True Positive Rate')\n",
    "plt.title('Receiver operating characteristic')\n",
    "plt.legend(loc='lower right');"
   ]
  },
  {
   "cell_type": "markdown",
   "metadata": {},
   "source": [
    "##### Random Forest classifier"
   ]
  },
  {
   "cell_type": "code",
   "execution_count": 39,
   "metadata": {},
   "outputs": [],
   "source": [
    "rf_clf = RandomForestClassifier().fit(x_train, y_train)"
   ]
  },
  {
   "cell_type": "code",
   "execution_count": 40,
   "metadata": {},
   "outputs": [],
   "source": [
    "y_predicted = rf_clf.predict(x_test)"
   ]
  },
  {
   "cell_type": "code",
   "execution_count": 41,
   "metadata": {},
   "outputs": [
    {
     "name": "stdout",
     "output_type": "stream",
     "text": [
      "Accuracy: 0.9801117318435755\n",
      "Precision: 0.9147286821705426\n",
      "Recall: 0.8634146341463415\n",
      "F1: 0.8883312421580929\n"
     ]
    }
   ],
   "source": [
    "print('Accuracy:', metrics.accuracy_score(y_test, y_predicted))\n",
    "print('Precision:', metrics.precision_score(y_test, y_predicted))\n",
    "print('Recall:', metrics.recall_score(y_test, y_predicted))\n",
    "print('F1:', metrics.f1_score(y_test, y_predicted))"
   ]
  },
  {
   "cell_type": "code",
   "execution_count": 42,
   "metadata": {},
   "outputs": [
    {
     "data": {
      "image/png": "[encoded data removed]",
      "text/plain": [
       "<Figure size 720x504 with 1 Axes>"
      ]
     },
     "metadata": {
      "needs_background": "light"
     },
     "output_type": "display_data"
    }
   ],
   "source": [
    "fpr, tpr, _ = metrics.roc_curve(y_test, lr_clf.decision_function(x_test))\n",
    "roc_auc = metrics.auc(fpr, tpr)\n",
    "\n",
    "plt.figure(figsize=(10,7))\n",
    "plt.plot(fpr, tpr ,color='darkorange', lw=2, label='ROC curve (area = %0.2f)' % roc_auc)\n",
    "plt.plot([0, 1], [0, 1], lw=2, linestyle='--')\n",
    "plt.xlim([-0.01, 1.0])\n",
    "plt.ylim([-0.01, 1.05])\n",
    "plt.xlabel('False Positive Rate')\n",
    "plt.ylabel('True Positive Rate')\n",
    "plt.title('Receiver operating characteristic')\n",
    "plt.legend(loc='lower right');"
   ]
  },
  {
   "cell_type": "markdown",
   "metadata": {},
   "source": [
    "#### Based on random forest"
   ]
  },
  {
   "cell_type": "code",
   "execution_count": 43,
   "metadata": {},
   "outputs": [],
   "source": [
    "column_idx = [htru2_df.columns.get_loc(c) for c in list(rf_feat_importance.keys())[:4]]"
   ]
  },
  {
   "cell_type": "code",
   "execution_count": 44,
   "metadata": {},
   "outputs": [],
   "source": [
    "top4_lr_features = features[:, column_idx]"
   ]
  },
  {
   "cell_type": "code",
   "execution_count": 45,
   "metadata": {},
   "outputs": [],
   "source": [
    "x_train, x_test, y_train, y_test = train_test_split(top4_lr_features, targets, stratify=targets)"
   ]
  },
  {
   "cell_type": "markdown",
   "metadata": {},
   "source": [
    "##### Logistic regression classifier"
   ]
  },
  {
   "cell_type": "code",
   "execution_count": 46,
   "metadata": {},
   "outputs": [],
   "source": [
    "lr_clf = LogisticRegression().fit(x_train, y_train)"
   ]
  },
  {
   "cell_type": "code",
   "execution_count": 47,
   "metadata": {},
   "outputs": [],
   "source": [
    "y_predicted = lr_clf.predict(x_test)"
   ]
  },
  {
   "cell_type": "code",
   "execution_count": 48,
   "metadata": {},
   "outputs": [
    {
     "name": "stdout",
     "output_type": "stream",
     "text": [
      "Accuracy: 0.9803351955307262\n",
      "Precision: 0.9573863636363636\n",
      "Recall: 0.8219512195121951\n",
      "F1: 0.884514435695538\n"
     ]
    }
   ],
   "source": [
    "print('Accuracy:', metrics.accuracy_score(y_test, y_predicted))\n",
    "print('Precision:', metrics.precision_score(y_test, y_predicted))\n",
    "print('Recall:', metrics.recall_score(y_test, y_predicted))\n",
    "print('F1:', metrics.f1_score(y_test, y_predicted))"
   ]
  },
  {
   "cell_type": "code",
   "execution_count": 49,
   "metadata": {},
   "outputs": [
    {
     "data": {
      "image/png": "[encoded data removed]",
      "text/plain": [
       "<Figure size 720x504 with 1 Axes>"
      ]
     },
     "metadata": {
      "needs_background": "light"
     },
     "output_type": "display_data"
    }
   ],
   "source": [
    "fpr, tpr, _ = metrics.roc_curve(y_test, lr_clf.decision_function(x_test))\n",
    "roc_auc = metrics.auc(fpr, tpr)\n",
    "\n",
    "plt.figure(figsize=(10,7))\n",
    "plt.plot(fpr, tpr ,color='darkorange', lw=2, label='ROC curve (area = %0.2f)' % roc_auc)\n",
    "plt.plot([0, 1], [0, 1], lw=2, linestyle='--')\n",
    "plt.xlim([-0.01, 1.0])\n",
    "plt.ylim([-0.01, 1.05])\n",
    "plt.xlabel('False Positive Rate')\n",
    "plt.ylabel('True Positive Rate')\n",
    "plt.title('Receiver operating characteristic')\n",
    "plt.legend(loc='lower right');"
   ]
  },
  {
   "cell_type": "markdown",
   "metadata": {},
   "source": [
    "##### Random Forest classifier"
   ]
  },
  {
   "cell_type": "code",
   "execution_count": 50,
   "metadata": {},
   "outputs": [],
   "source": [
    " rf_clf = RandomForestClassifier().fit(x_train, y_train)"
   ]
  },
  {
   "cell_type": "code",
   "execution_count": 51,
   "metadata": {},
   "outputs": [],
   "source": [
    "y_predicted = rf_clf.predict(x_test)"
   ]
  },
  {
   "cell_type": "code",
   "execution_count": 52,
   "metadata": {},
   "outputs": [
    {
     "name": "stdout",
     "output_type": "stream",
     "text": [
      "Accuracy: 0.9812290502793296\n",
      "Precision: 0.9335106382978723\n",
      "Recall: 0.8560975609756097\n",
      "F1: 0.8931297709923665\n"
     ]
    }
   ],
   "source": [
    "print('Accuracy:', metrics.accuracy_score(y_test, y_predicted))\n",
    "print('Precision:', metrics.precision_score(y_test, y_predicted))\n",
    "print('Recall:', metrics.recall_score(y_test, y_predicted))\n",
    "print('F1:', metrics.f1_score(y_test, y_predicted))"
   ]
  },
  {
   "cell_type": "code",
   "execution_count": 53,
   "metadata": {},
   "outputs": [
    {
     "data": {
      "image/png": "[encoded data removed]",
      "text/plain": [
       "<Figure size 720x504 with 1 Axes>"
      ]
     },
     "metadata": {
      "needs_background": "light"
     },
     "output_type": "display_data"
    }
   ],
   "source": [
    "fpr, tpr, _ = metrics.roc_curve(y_test, lr_clf.decision_function(x_test))\n",
    "roc_auc = metrics.auc(fpr, tpr)\n",
    "\n",
    "plt.figure(figsize=(10,7))\n",
    "plt.plot(fpr, tpr ,color='darkorange', lw=2, label='ROC curve (area = %0.2f)' % roc_auc)\n",
    "plt.plot([0, 1], [0, 1], lw=2, linestyle='--')\n",
    "plt.xlim([-0.01, 1.0])\n",
    "plt.ylim([-0.01, 1.05])\n",
    "plt.xlabel('False Positive Rate')\n",
    "plt.ylabel('True Positive Rate')\n",
    "plt.title('Receiver operating characteristic')\n",
    "plt.legend(loc='lower right');"
   ]
  },
  {
   "cell_type": "markdown",
   "metadata": {},
   "source": [
    "When comparing the performance of the algorithms with different features, the top 4 features ranked by logistic regression performed the best. Regular features follow, with the top 4 features ranked by random forest coming next and PCA features coming last.\n",
    "\n",
    "All features performed almost equally, with the exception of PCA, which produced the most noticeably worse results overall."
   ]
  }
 ],
 "metadata": {
  "kernelspec": {
   "display_name": "Python 3",
   "language": "python",
   "name": "python3"
  },
  "language_info": {
   "codemirror_mode": {
    "name": "ipython",
    "version": 3
   },
   "file_extension": ".py",
   "mimetype": "text/x-python",
   "name": "python",
   "nbconvert_exporter": "python",
   "pygments_lexer": "ipython3",
   "version": "3.8.5"
  }
 },
 "nbformat": 4,
 "nbformat_minor": 4
}
