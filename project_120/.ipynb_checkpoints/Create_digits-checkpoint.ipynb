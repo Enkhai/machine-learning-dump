{
 "cells": [
  {
   "cell_type": "markdown",
   "metadata": {},
   "source": [
    "# Creating perfect and imperfect digits"
   ]
  },
  {
   "cell_type": "code",
   "execution_count": 1,
   "metadata": {},
   "outputs": [],
   "source": [
    "import numpy as np\n",
    "import matplotlib.pyplot as plt"
   ]
  },
  {
   "cell_type": "markdown",
   "metadata": {},
   "source": [
    "Firstly, we create perfect and imperfect 11 * 7 images of digits 5, 6, 8 and 9 in the form of numpy arrays."
   ]
  },
  {
   "cell_type": "code",
   "execution_count": 2,
   "metadata": {},
   "outputs": [],
   "source": [
    "perfect_five = np.array([[0,0,0,0,0,0,0],\n",
    "                          [0,1,1,1,1,1,0],\n",
    "                          [0,1,0,0,0,0,0],\n",
    "                          [0,1,0,0,0,0,0],\n",
    "                          [0,1,0,0,0,0,0],\n",
    "                          [0,1,1,1,1,1,0],\n",
    "                          [0,0,0,0,0,1,0],\n",
    "                          [0,0,0,0,0,1,0],\n",
    "                          [0,0,0,0,0,1,0],\n",
    "                          [0,1,1,1,1,1,0],\n",
    "                          [0,0,0,0,0,0,0]])\n",
    "perfect_six = np.array([[0,0,0,0,0,0,0],\n",
    "                        [0,1,1,1,1,1,0],\n",
    "                        [0,1,0,0,0,0,0],\n",
    "                        [0,1,0,0,0,0,0],\n",
    "                        [0,1,0,0,0,0,0],\n",
    "                        [0,1,1,1,1,1,0],\n",
    "                        [0,1,0,0,0,1,0],\n",
    "                        [0,1,0,0,0,1,0],\n",
    "                        [0,1,0,0,0,1,0],\n",
    "                        [0,1,1,1,1,1,0],\n",
    "                        [0,0,0,0,0,0,0]])\n",
    "perfect_eight = np.array([[0,0,0,0,0,0,0],\n",
    "                          [0,1,1,1,1,1,0],\n",
    "                          [0,1,0,0,0,1,0],\n",
    "                          [0,1,0,0,0,1,0],\n",
    "                          [0,1,0,0,0,1,0],\n",
    "                          [0,1,1,1,1,1,0],\n",
    "                          [0,1,0,0,0,1,0],\n",
    "                          [0,1,0,0,0,1,0],\n",
    "                          [0,1,0,0,0,1,0],\n",
    "                          [0,1,1,1,1,1,0],\n",
    "                          [0,0,0,0,0,0,0]])\n",
    "perfect_nine = np.array([[0,0,0,0,0,0,0],\n",
    "                         [0,1,1,1,1,1,0],\n",
    "                         [0,1,0,0,0,1,0],\n",
    "                         [0,1,0,0,0,1,0],\n",
    "                         [0,1,0,0,0,1,0],\n",
    "                         [0,1,1,1,1,1,0],\n",
    "                         [0,0,0,0,0,1,0],\n",
    "                         [0,0,0,0,0,1,0],\n",
    "                         [0,0,0,0,0,1,0],\n",
    "                         [0,1,1,1,1,1,0],\n",
    "                         [0,0,0,0,0,0,0]])"
   ]
  },
  {
   "cell_type": "code",
   "execution_count": 3,
   "metadata": {},
   "outputs": [],
   "source": [
    "imperfect_five = np.array([[0,0,0,0,0,1,0],\n",
    "                         [0,0,1,1,1,0,0],\n",
    "                         [0,1,0,0,0,0,0],\n",
    "                         [0,1,0,0,0,0,0],\n",
    "                         [0,1,0,0,0,0,0],\n",
    "                         [0,1,1,1,1,1,0],\n",
    "                         [0,0,0,0,0,1,0],\n",
    "                         [0,0,0,0,0,1,0],\n",
    "                         [0,1,0,0,0,1,0],\n",
    "                         [0,0,1,1,1,1,0],\n",
    "                         [0,0,0,0,0,0,0]])\n",
    "imperfect_six = np.array([[0,0,0,0,0,0,0],\n",
    "                        [0,0,1,1,1,0,0],\n",
    "                        [0,1,0,0,0,0,0],\n",
    "                        [0,1,0,0,0,0,0],\n",
    "                        [0,1,0,0,0,0,0],\n",
    "                        [0,1,1,0,1,1,0],\n",
    "                        [0,1,0,0,0,1,0],\n",
    "                        [0,1,0,0,0,1,0],\n",
    "                        [0,1,0,0,0,1,0],\n",
    "                        [0,0,1,1,1,0,0],\n",
    "                        [0,0,0,0,0,0,0]])\n",
    "imperfect_eight = np.array([[0,0,0,0,0,0,0],\n",
    "                          [0,0,1,1,1,0,0],\n",
    "                          [0,1,0,0,0,1,0],\n",
    "                          [0,1,0,0,0,1,0],\n",
    "                          [0,1,0,0,0,1,0],\n",
    "                          [0,1,1,1,0,1,0],\n",
    "                          [0,1,0,0,0,1,0],\n",
    "                          [0,1,0,0,0,1,0],\n",
    "                          [0,1,0,0,0,1,0],\n",
    "                          [0,0,1,1,1,0,0],\n",
    "                          [0,0,0,0,0,0,0]])\n",
    "imperfect_nine = np.array([[0,0,0,0,0,0,0],\n",
    "                         [0,0,1,1,1,1,0],\n",
    "                         [0,1,0,0,0,1,0],\n",
    "                         [0,1,0,0,0,1,0],\n",
    "                         [0,1,0,0,0,1,0],\n",
    "                         [0,1,1,0,1,1,0],\n",
    "                         [0,0,0,0,0,1,0],\n",
    "                         [0,0,0,0,0,0,0],\n",
    "                         [0,0,0,0,0,1,0],\n",
    "                         [0,0,1,1,1,1,0],\n",
    "                         [0,1,0,0,0,0,0]])"
   ]
  },
  {
   "cell_type": "markdown",
   "metadata": {},
   "source": [
    "Let's visualize what we've made"
   ]
  },
  {
   "cell_type": "code",
   "execution_count": 4,
   "metadata": {},
   "outputs": [
    {
     "data": {
      "image/png": "[encoded data removed]",
      "text/plain": [
       "<Figure size 432x288 with 1 Axes>"
      ]
     },
     "metadata": {
      "needs_background": "light"
     },
     "output_type": "display_data"
    },
    {
     "data": {
      "image/png": "[encoded data removed]",
      "text/plain": [
       "<Figure size 432x288 with 1 Axes>"
      ]
     },
     "metadata": {
      "needs_background": "light"
     },
     "output_type": "display_data"
    }
   ],
   "source": [
    "plt.imshow(perfect_five, cmap='Greys')\n",
    "plt.show()\n",
    "plt.imshow(imperfect_five, cmap='Greys')\n",
    "plt.show()"
   ]
  },
  {
   "cell_type": "code",
   "execution_count": 5,
   "metadata": {},
   "outputs": [
    {
     "data": {
      "image/png": "[encoded data removed]",
      "text/plain": [
       "<Figure size 432x288 with 1 Axes>"
      ]
     },
     "metadata": {
      "needs_background": "light"
     },
     "output_type": "display_data"
    },
    {
     "data": {
      "image/png": "[encoded data removed]",
      "text/plain": [
       "<Figure size 432x288 with 1 Axes>"
      ]
     },
     "metadata": {
      "needs_background": "light"
     },
     "output_type": "display_data"
    }
   ],
   "source": [
    "plt.imshow(perfect_six, cmap='Greys')\n",
    "plt.show()\n",
    "plt.imshow(imperfect_six, cmap='Greys')\n",
    "plt.show()"
   ]
  },
  {
   "cell_type": "code",
   "execution_count": 6,
   "metadata": {},
   "outputs": [
    {
     "data": {
      "image/png": "[encoded data removed]",
      "text/plain": [
       "<Figure size 432x288 with 1 Axes>"
      ]
     },
     "metadata": {
      "needs_background": "light"
     },
     "output_type": "display_data"
    },
    {
     "data": {
      "image/png": "[encoded data removed]",
      "text/plain": [
       "<Figure size 432x288 with 1 Axes>"
      ]
     },
     "metadata": {
      "needs_background": "light"
     },
     "output_type": "display_data"
    }
   ],
   "source": [
    "plt.imshow(perfect_eight, cmap='Greys')\n",
    "plt.show()\n",
    "plt.imshow(imperfect_eight, cmap='Greys')\n",
    "plt.show()"
   ]
  },
  {
   "cell_type": "code",
   "execution_count": 7,
   "metadata": {},
   "outputs": [
    {
     "data": {
      "image/png": "[encoded data removed]",
      "text/plain": [
       "<Figure size 432x288 with 1 Axes>"
      ]
     },
     "metadata": {
      "needs_background": "light"
     },
     "output_type": "display_data"
    },
    {
     "data": {
      "image/png": "[encoded data removed]",
      "text/plain": [
       "<Figure size 432x288 with 1 Axes>"
      ]
     },
     "metadata": {
      "needs_background": "light"
     },
     "output_type": "display_data"
    }
   ],
   "source": [
    "plt.imshow(perfect_nine, cmap='Greys')\n",
    "plt.show()\n",
    "plt.imshow(imperfect_nine, cmap='Greys')\n",
    "plt.show()"
   ]
  },
  {
   "cell_type": "markdown",
   "metadata": {},
   "source": [
    "We put the perfect digits in a common array.\n",
    "\n",
    "Within the array, the pixels of each digit are flattened into arrays of shape (77) with a label number appended to them."
   ]
  },
  {
   "cell_type": "code",
   "execution_count": 8,
   "metadata": {},
   "outputs": [],
   "source": [
    "perfect_digits = np.array([np.append(perfect_five.flatten(), 5), \n",
    "                           np.append(perfect_six.flatten(), 6),\n",
    "                           np.append(perfect_eight.flatten(), 8),\n",
    "                           np.append(perfect_nine.flatten(), 9)])"
   ]
  },
  {
   "cell_type": "markdown",
   "metadata": {},
   "source": [
    "To visualize the flattened digit array images, we simply to reshape them into their original dimensions.\n",
    "\n",
    "The 78th number in the array is the label of the digit, so we do not visualize it in the plots."
   ]
  },
  {
   "cell_type": "code",
   "execution_count": 9,
   "metadata": {
    "scrolled": false
   },
   "outputs": [
    {
     "data": {
      "text/plain": [
       "<matplotlib.image.AxesImage at 0x1c7854e2f48>"
      ]
     },
     "execution_count": 9,
     "metadata": {},
     "output_type": "execute_result"
    },
    {
     "data": {
      "image/png": "[encoded data removed]",
      "text/plain": [
       "<Figure size 432x288 with 1 Axes>"
      ]
     },
     "metadata": {
      "needs_background": "light"
     },
     "output_type": "display_data"
    }
   ],
   "source": [
    "plt.imshow(perfect_digits[0][:77].reshape(11,7), cmap='Greys')"
   ]
  },
  {
   "cell_type": "markdown",
   "metadata": {},
   "source": [
    "We transform the digits into a -1/1 (bitmap) format."
   ]
  },
  {
   "cell_type": "code",
   "execution_count": 10,
   "metadata": {
    "scrolled": true
   },
   "outputs": [],
   "source": [
    "perfect_digits[:,:77] = (((perfect_digits[:, :77] - perfect_digits[:, :77].min()) / perfect_digits[:, :77].max()) - 0.5) * 2"
   ]
  },
  {
   "cell_type": "markdown",
   "metadata": {},
   "source": [
    "And display the digit we previously showed for testing purposes."
   ]
  },
  {
   "cell_type": "code",
   "execution_count": 11,
   "metadata": {},
   "outputs": [
    {
     "data": {
      "text/plain": [
       "<matplotlib.image.AxesImage at 0x1c785467c48>"
      ]
     },
     "execution_count": 11,
     "metadata": {},
     "output_type": "execute_result"
    },
    {
     "data": {
      "image/png": "[encoded data removed]",
      "text/plain": [
       "<Figure size 432x288 with 1 Axes>"
      ]
     },
     "metadata": {
      "needs_background": "light"
     },
     "output_type": "display_data"
    }
   ],
   "source": [
    "plt.imshow(perfect_digits[0][:77].reshape(11,7), cmap='Greys')"
   ]
  },
  {
   "cell_type": "markdown",
   "metadata": {},
   "source": [
    "We store the digits"
   ]
  },
  {
   "cell_type": "code",
   "execution_count": 12,
   "metadata": {},
   "outputs": [],
   "source": [
    "np.save('perfect_digits.npy', perfect_digits)"
   ]
  },
  {
   "cell_type": "markdown",
   "metadata": {},
   "source": [
    "We have successfully stored the perfect digits"
   ]
  },
  {
   "cell_type": "code",
   "execution_count": 13,
   "metadata": {},
   "outputs": [
    {
     "data": {
      "text/plain": [
       "array([[-1, -1, -1, -1, -1, -1, -1, -1,  1,  1,  1,  1,  1, -1, -1,  1,\n",
       "        -1, -1, -1, -1, -1, -1,  1, -1, -1, -1, -1, -1, -1,  1, -1, -1,\n",
       "        -1, -1, -1, -1,  1,  1,  1,  1,  1, -1, -1, -1, -1, -1, -1,  1,\n",
       "        -1, -1, -1, -1, -1, -1,  1, -1, -1, -1, -1, -1, -1,  1, -1, -1,\n",
       "         1,  1,  1,  1,  1, -1, -1, -1, -1, -1, -1, -1, -1,  5],\n",
       "       [-1, -1, -1, -1, -1, -1, -1, -1,  1,  1,  1,  1,  1, -1, -1,  1,\n",
       "        -1, -1, -1, -1, -1, -1,  1, -1, -1, -1, -1, -1, -1,  1, -1, -1,\n",
       "        -1, -1, -1, -1,  1,  1,  1,  1,  1, -1, -1,  1, -1, -1, -1,  1,\n",
       "        -1, -1,  1, -1, -1, -1,  1, -1, -1,  1, -1, -1, -1,  1, -1, -1,\n",
       "         1,  1,  1,  1,  1, -1, -1, -1, -1, -1, -1, -1, -1,  6],\n",
       "       [-1, -1, -1, -1, -1, -1, -1, -1,  1,  1,  1,  1,  1, -1, -1,  1,\n",
       "        -1, -1, -1,  1, -1, -1,  1, -1, -1, -1,  1, -1, -1,  1, -1, -1,\n",
       "        -1,  1, -1, -1,  1,  1,  1,  1,  1, -1, -1,  1, -1, -1, -1,  1,\n",
       "        -1, -1,  1, -1, -1, -1,  1, -1, -1,  1, -1, -1, -1,  1, -1, -1,\n",
       "         1,  1,  1,  1,  1, -1, -1, -1, -1, -1, -1, -1, -1,  8],\n",
       "       [-1, -1, -1, -1, -1, -1, -1, -1,  1,  1,  1,  1,  1, -1, -1,  1,\n",
       "        -1, -1, -1,  1, -1, -1,  1, -1, -1, -1,  1, -1, -1,  1, -1, -1,\n",
       "        -1,  1, -1, -1,  1,  1,  1,  1,  1, -1, -1, -1, -1, -1, -1,  1,\n",
       "        -1, -1, -1, -1, -1, -1,  1, -1, -1, -1, -1, -1, -1,  1, -1, -1,\n",
       "         1,  1,  1,  1,  1, -1, -1, -1, -1, -1, -1, -1, -1,  9]])"
      ]
     },
     "execution_count": 13,
     "metadata": {},
     "output_type": "execute_result"
    }
   ],
   "source": [
    "np.load('perfect_digits.npy')"
   ]
  },
  {
   "cell_type": "markdown",
   "metadata": {},
   "source": [
    "We put the imperfect digits into a common array, just as we did with the perfect ones."
   ]
  },
  {
   "cell_type": "code",
   "execution_count": 14,
   "metadata": {},
   "outputs": [],
   "source": [
    "imperfect_digits = np.array([np.append(imperfect_five.flatten(), 5), \n",
    "                             np.append(imperfect_six.flatten(), 6),\n",
    "                             np.append(imperfect_eight.flatten(), 8),\n",
    "                             np.append(imperfect_nine.flatten(), 9)])"
   ]
  },
  {
   "cell_type": "markdown",
   "metadata": {},
   "source": [
    "For creating the rest of the imperfect digits we simply replicate them 10 times (np.repeat) and randomly reverse 3 (np.random.choice) of the 77 pixels of the digits (-1 to 1, 1 to -1)."
   ]
  },
  {
   "cell_type": "code",
   "execution_count": 15,
   "metadata": {},
   "outputs": [],
   "source": [
    "imperfect_digits2 = np.repeat(perfect_digits, 9, axis=0)\n",
    "for num in imperfect_digits2:\n",
    "    idx_to_change = np.random.choice(7*11, 3)\n",
    "    num[idx_to_change] = -num[idx_to_change]"
   ]
  },
  {
   "cell_type": "markdown",
   "metadata": {},
   "source": [
    "We concatenate the initial imperfect digits with the ones we created"
   ]
  },
  {
   "cell_type": "code",
   "execution_count": 16,
   "metadata": {},
   "outputs": [],
   "source": [
    "imperfect_digits = np.concatenate((imperfect_digits, imperfect_digits2))"
   ]
  },
  {
   "cell_type": "markdown",
   "metadata": {},
   "source": [
    "Let's see an example of one of the imperfect digits we created"
   ]
  },
  {
   "cell_type": "code",
   "execution_count": 17,
   "metadata": {},
   "outputs": [
    {
     "data": {
      "text/plain": [
       "<matplotlib.image.AxesImage at 0x1c7e9ede2c8>"
      ]
     },
     "execution_count": 17,
     "metadata": {},
     "output_type": "execute_result"
    },
    {
     "data": {
      "image/png": "[encoded data removed]",
      "text/plain": [
       "<Figure size 432x288 with 1 Axes>"
      ]
     },
     "metadata": {
      "needs_background": "light"
     },
     "output_type": "display_data"
    }
   ],
   "source": [
    "plt.imshow(imperfect_digits[25][:77].reshape(11,7), cmap='Greys')"
   ]
  },
  {
   "cell_type": "markdown",
   "metadata": {},
   "source": [
    "We store the imperfect digits"
   ]
  },
  {
   "cell_type": "code",
   "execution_count": 18,
   "metadata": {},
   "outputs": [],
   "source": [
    "np.save('imperfect_digits.npy', imperfect_digits)"
   ]
  },
  {
   "cell_type": "markdown",
   "metadata": {},
   "source": [
    "We have successfully stored the imperfect digits"
   ]
  },
  {
   "cell_type": "code",
   "execution_count": 19,
   "metadata": {},
   "outputs": [
    {
     "data": {
      "text/plain": [
       "array([[ 0,  0,  0, ...,  0,  0,  5],\n",
       "       [ 0,  0,  0, ...,  0,  0,  6],\n",
       "       [ 0,  0,  0, ...,  0,  0,  8],\n",
       "       ...,\n",
       "       [-1,  1, -1, ..., -1, -1,  9],\n",
       "       [-1, -1, -1, ..., -1, -1,  9],\n",
       "       [-1,  1, -1, ...,  1, -1,  9]])"
      ]
     },
     "execution_count": 19,
     "metadata": {},
     "output_type": "execute_result"
    }
   ],
   "source": [
    "np.load('imperfect_digits.npy')"
   ]
  }
 ],
 "metadata": {
  "kernelspec": {
   "display_name": "Python 3",
   "language": "python",
   "name": "python3"
  },
  "language_info": {
   "codemirror_mode": {
    "name": "ipython",
    "version": 3
   },
   "file_extension": ".py",
   "mimetype": "text/x-python",
   "name": "python",
   "nbconvert_exporter": "python",
   "pygments_lexer": "ipython3",
   "version": "3.8.5"
  }
 },
 "nbformat": 4,
 "nbformat_minor": 5
}
