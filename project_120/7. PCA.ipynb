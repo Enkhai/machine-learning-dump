{
 "cells": [
  {
   "cell_type": "markdown",
   "id": "52133f8a",
   "metadata": {},
   "source": [
    "# Principal Component Analysis\n",
    "\n",
    "Problem: Image Compression (PCA)"
   ]
  },
  {
   "cell_type": "markdown",
   "id": "f2d063a2",
   "metadata": {},
   "source": [
    "For this problem we use the Principal Component Analysis (PCA) algorithm.\n",
    "\n",
    "The goal of PCA is the compression of data, attempting to minimize the MSE for some matrices F and W:\n",
    "\\begin{equation}\n",
    "J_{PCA} = E\\{||e||^{2}\\} = E\\{||x - WFx||^{2}\\}\n",
    "\\end{equation}\n",
    "The optimal solution is found when defining F and W as\n",
    "\\begin{equation}\n",
    "F = [u_1, ..., u_m]^{T}\\\\\n",
    "W = [u_1, ..., u_m]\n",
    "\\end{equation}\n",
    "with error\n",
    "\\begin{equation}\n",
    "J_{PCA} = \\sum_{i=m+1}^{n}λ_i\n",
    "\\end{equation}\n",
    "where u<sub>i</sub> are eigenvectors of the covariance matrix\n",
    "\\begin{equation}\n",
    "R_x = E\\{xx^{T}\\}\n",
    "\\end{equation}\n",
    "meaning\n",
    "\\begin{equation}\n",
    "R_xu_i = \\lambda_iu_i\n",
    "\\end{equation}\n",
    "where λ<sub>i</sub> are the ordered eigenvalues of R<sub>x</sub> in descending order.\n",
    "\n",
    "PCA steps:\n",
    "- Remove the mean value from the initial data\n",
    "- Calculate the covariance matrix\n",
    "- Calculate the eigenvectors and eigenvalues of the covariance matrix\n",
    "- Order eigenvalues in descending order\n",
    "- Select the first n features with the largest eigenvalues\n",
    "- Create a matrix of the top-n eigenvectors and multiply by the normalized initial data\n",
    "\n",
    "It is worth pointing out that a good practice is the normalization of the data before applying PCA, but this was not implemented in this case.\n",
    "\n",
    "This problem also includes a Gaussian Naive Bayes model with default parameters, but it will not be discussed, since this is out of scope for this exercise."
   ]
  },
  {
   "cell_type": "markdown",
   "id": "3188915d",
   "metadata": {},
   "source": [
    "The goal of this problem is the compression of digit images with the use of PCA and the evaluation of a model trained on the compressed images."
   ]
  },
  {
   "cell_type": "code",
   "execution_count": 1,
   "id": "63b1b524",
   "metadata": {},
   "outputs": [],
   "source": [
    "import numpy as np\n",
    "from sklearn.decomposition import PCA\n",
    "from sklearn.naive_bayes import GaussianNB\n",
    "from sklearn.model_selection import train_test_split\n",
    "import matplotlib.pyplot as plt"
   ]
  },
  {
   "cell_type": "markdown",
   "id": "62866ab2",
   "metadata": {},
   "source": [
    "We load the digits along with their targets."
   ]
  },
  {
   "cell_type": "code",
   "execution_count": 2,
   "id": "6c685846",
   "metadata": {},
   "outputs": [],
   "source": [
    "data = np.load('mnist_49.npz')\n",
    "x = data['x']\n",
    "t = data['t']"
   ]
  },
  {
   "cell_type": "markdown",
   "id": "3c3ba03e",
   "metadata": {},
   "source": [
    "Let's take a look at a digit"
   ]
  },
  {
   "cell_type": "code",
   "execution_count": 3,
   "id": "a70399f4",
   "metadata": {},
   "outputs": [
    {
     "data": {
      "text/plain": [
       "1"
      ]
     },
     "execution_count": 3,
     "metadata": {},
     "output_type": "execute_result"
    },
    {
     "data": {
      "image/png": "[encoded data removed]",
      "text/plain": [
       "<Figure size 432x288 with 1 Axes>"
      ]
     },
     "metadata": {
      "needs_background": "light"
     },
     "output_type": "display_data"
    }
   ],
   "source": [
    "plt.imshow(x[3].reshape(28, 28))\n",
    "t[3]"
   ]
  },
  {
   "cell_type": "markdown",
   "id": "034916ee",
   "metadata": {},
   "source": [
    "Targets consist of zeros and ones."
   ]
  },
  {
   "cell_type": "code",
   "execution_count": 4,
   "id": "738ffa8c",
   "metadata": {},
   "outputs": [
    {
     "data": {
      "text/plain": [
       "array([0, 1, 0, 1, 0, 1, 0, 1, 1, 1], dtype=uint8)"
      ]
     },
     "execution_count": 4,
     "metadata": {},
     "output_type": "execute_result"
    }
   ],
   "source": [
    "t[:10]"
   ]
  },
  {
   "cell_type": "markdown",
   "id": "aafa7cbe",
   "metadata": {},
   "source": [
    "We implement the following procedure for 1, 2, 5, 10, 20, 30, 40, 50, 100 and 200 dimensions:\n",
    "+ We apply PCA to the digit data\n",
    "+ We create training and test sets from the compressed data\n",
    "+ We create a Naive Bayes model and train it on the training set\n",
    "+ We retrieve the accuracy for the test and training data, which we store in dictionaries at each epoch"
   ]
  },
  {
   "cell_type": "code",
   "execution_count": 5,
   "id": "093d02dd",
   "metadata": {},
   "outputs": [
    {
     "name": "stdout",
     "output_type": "stream",
     "text": [
      "x_pca shape is of shape (11791, 1)\n",
      "x_pca shape is of shape (11791, 2)\n",
      "x_pca shape is of shape (11791, 5)\n",
      "x_pca shape is of shape (11791, 10)\n",
      "x_pca shape is of shape (11791, 20)\n",
      "x_pca shape is of shape (11791, 30)\n",
      "x_pca shape is of shape (11791, 40)\n",
      "x_pca shape is of shape (11791, 50)\n",
      "x_pca shape is of shape (11791, 100)\n",
      "x_pca shape is of shape (11791, 200)\n"
     ]
    }
   ],
   "source": [
    "num_components = [1, 2, 5, 10, 20, 30, 40, 50, 100, 200]\n",
    "\n",
    "acc_train = {}\n",
    "acc_test = {}\n",
    "\n",
    "for n in num_components:\n",
    "    pca = PCA(n)\n",
    "    x_pca = pca.fit_transform(x)\n",
    "    expected_shape = (11791, n)\n",
    "    print('x_pca shape ' \n",
    "          + 'is' if x_pca.shape == expected_shape else 'is not', \n",
    "          'of shape', \n",
    "          expected_shape)\n",
    "    X_train, X_test, t_train, t_test = train_test_split(x_pca, t, stratify=t)\n",
    "    nb_clf = GaussianNB().fit(X_train, t_train)\n",
    "    acc_train[n] = nb_clf.score(X_train, t_train)\n",
    "    acc_test[n] = nb_clf.score(X_test, t_test)"
   ]
  },
  {
   "cell_type": "markdown",
   "id": "e167bc51",
   "metadata": {},
   "source": [
    "Finally, after the repetitive process, we display a plot with the progression of accuracies over the number of dimensions"
   ]
  },
  {
   "cell_type": "code",
   "execution_count": 6,
   "id": "1ff711d3",
   "metadata": {
    "scrolled": true
   },
   "outputs": [
    {
     "data": {
      "image/png": "[encoded data removed]",
      "text/plain": [
       "<Figure size 720x540 with 1 Axes>"
      ]
     },
     "metadata": {
      "needs_background": "light"
     },
     "output_type": "display_data"
    }
   ],
   "source": [
    "plt.figure(figsize=(10,7.5))\n",
    "plt.plot(acc_train.keys(), acc_train.values(), label='Train accuracy')\n",
    "plt.plot(acc_test.keys(), acc_test.values(), label='Test accuracy')\n",
    "plt.title('Mean accuracy')\n",
    "plt.legend()\n",
    "plt.show()"
   ]
  }
 ],
 "metadata": {
  "kernelspec": {
   "display_name": "Python 3",
   "language": "python",
   "name": "python3"
  },
  "language_info": {
   "codemirror_mode": {
    "name": "ipython",
    "version": 3
   },
   "file_extension": ".py",
   "mimetype": "text/x-python",
   "name": "python",
   "nbconvert_exporter": "python",
   "pygments_lexer": "ipython3",
   "version": "3.7.10"
  }
 },
 "nbformat": 4,
 "nbformat_minor": 5
}