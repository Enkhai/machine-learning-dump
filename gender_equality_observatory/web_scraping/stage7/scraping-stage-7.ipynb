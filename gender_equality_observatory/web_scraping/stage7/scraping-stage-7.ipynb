{
 "cells": [
  {
   "cell_type": "markdown",
   "id": "e4e60776",
   "metadata": {},
   "source": [
    "# Web scraping, Stage 7\n",
    "\n",
    "Retrieving coauthor data"
   ]
  },
  {
   "cell_type": "code",
   "execution_count": 1,
   "id": "530054bf",
   "metadata": {},
   "outputs": [],
   "source": [
    "import numpy as np\n",
    "import pandas as pd\n",
    "import json\n",
    "from scholarly import scholarly, ProxyGenerator\n",
    "from scholarly._navigator import MaxTriesExceededException\n",
    "from tqdm.notebook import tqdm"
   ]
  },
  {
   "cell_type": "code",
   "execution_count": 2,
   "id": "b48f2a9b",
   "metadata": {},
   "outputs": [],
   "source": [
    "def retrieve_coauthors(coauthors):\n",
    "    successful = []\n",
    "    failed = []\n",
    "\n",
    "    print('Retrieving coauthor information...')\n",
    "    num_coauthors = len(coauthors)\n",
    "    for ca in tqdm(coauthors,\n",
    "                   total=num_coauthors):\n",
    "        try:\n",
    "            try:\n",
    "                author = scholarly.search_author_id(ca)\n",
    "                author = scholarly.fill(author, sections=['indices', 'coauthors', 'publications'])\n",
    "            except MaxTriesExceededException:\n",
    "                print('Query failed for coauthor with id {}.'.format(ca),\n",
    "                      'Generating new proxy.')\n",
    "                pg = ProxyGenerator()\n",
    "                pg.FreeProxies()\n",
    "                scholarly.use_proxy(pg)\n",
    "                print('Retrying')\n",
    "                author = scholarly.search_author_id(ca)\n",
    "                author = scholarly.fill(author, sections=['indices', 'coauthors', 'publications'])\n",
    "\n",
    "            url_picture = ''\n",
    "            if 'url_picture' in author:\n",
    "                url_picture = author['url_picture']\n",
    "            # edge cases\n",
    "            citedby = 0\n",
    "            if 'citedby' in author:\n",
    "                citedby = author['citedby']\n",
    "            citedby5y = 0\n",
    "            if 'citedby5y' in author:\n",
    "                citedby5y = author['citedby5y']\n",
    "                \n",
    "            author_dict = {'scholar_id': author['scholar_id'],\n",
    "                           'name': author['name'],\n",
    "                           'affiliation': author['affiliation'],\n",
    "                           'url_picture': url_picture,\n",
    "                           'i10index': author['i10index'],\n",
    "                           'i10index5y': author['i10index5y'],\n",
    "                           'hindex': author['hindex'],\n",
    "                           'hindex5y': author['hindex5y'],\n",
    "                           'citedby': citedby,\n",
    "                           'citedby5y': citedby5y,\n",
    "                           'num_publications': len(author['publications']),\n",
    "                           'coauthors': [coauth['scholar_id'] for coauth in author['coauthors']]\n",
    "                           }\n",
    "            successful.append(author_dict)\n",
    "\n",
    "        except:\n",
    "            print('Query for coauthor with id {} failed.'.format(ca),\n",
    "                  'Adding coauthor to the failed list.')\n",
    "            failed.append(ca)\n",
    "\n",
    "    print('Number of retrieved authors:', len(successful))\n",
    "    print('Number of failed authors:', len(failed))\n",
    "\n",
    "    return successful, failed"
   ]
  },
  {
   "cell_type": "code",
   "execution_count": 3,
   "id": "c7da4e56",
   "metadata": {},
   "outputs": [],
   "source": [
    "with open('../stage6/uni_authors.json') as f:\n",
    "    uni_authors = json.load(f)"
   ]
  },
  {
   "cell_type": "code",
   "execution_count": 4,
   "id": "5f98dfba",
   "metadata": {},
   "outputs": [],
   "source": [
    "coauthors = []\n",
    "for university in uni_authors:\n",
    "    for author in university['authors']:\n",
    "        coauthors += author['coauthors']\n",
    "coauthors = set(coauthors)"
   ]
  },
  {
   "cell_type": "code",
   "execution_count": 5,
   "id": "9182cc75",
   "metadata": {},
   "outputs": [
    {
     "name": "stdout",
     "output_type": "stream",
     "text": [
      "Retrieving coauthor information...\n"
     ]
    },
    {
     "data": {
      "application/vnd.jupyter.widget-view+json": {
       "model_id": "19d36396019f430bb0da43df96fdcef9",
       "version_major": 2,
       "version_minor": 0
      },
      "text/plain": [
       "  0%|          | 0/2514 [00:00<?, ?it/s]"
      ]
     },
     "metadata": {},
     "output_type": "display_data"
    },
    {
     "name": "stdout",
     "output_type": "stream",
     "text": [
      "Query failed for coauthor with id DEgZaUoAAAAJ. Generating new proxy.\n",
      "Retrying\n",
      "Query for coauthor with id DEgZaUoAAAAJ failed. Adding coauthor to the failed list.\n",
      "Query failed for coauthor with id vKIlvHIAAAAJ. Generating new proxy.\n",
      "Retrying\n",
      "Query failed for coauthor with id LM0e_fcAAAAJ. Generating new proxy.\n",
      "Retrying\n",
      "Query failed for coauthor with id v-WRbB4AAAAJ. Generating new proxy.\n",
      "Retrying\n",
      "Query failed for coauthor with id PYu6uf0AAAAJ. Generating new proxy.\n",
      "Query for coauthor with id PYu6uf0AAAAJ failed. Adding coauthor to the failed list.\n",
      "Query failed for coauthor with id vz1IXCIAAAAJ. Generating new proxy.\n",
      "Retrying\n",
      "Query failed for coauthor with id c9Dl7qwAAAAJ. Generating new proxy.\n",
      "Retrying\n",
      "Number of retrieved authors: 2512\n",
      "Number of failed authors: 2\n"
     ]
    }
   ],
   "source": [
    "successful, failed = retrieve_coauthors(coauthors)"
   ]
  },
  {
   "cell_type": "code",
   "execution_count": 6,
   "id": "73ae4c96",
   "metadata": {},
   "outputs": [],
   "source": [
    "coauthors_json = {'successful': successful, 'failed': failed}"
   ]
  },
  {
   "cell_type": "code",
   "execution_count": 7,
   "id": "6bd8ad7e",
   "metadata": {},
   "outputs": [],
   "source": [
    "with open('coauthors.json', 'w') as f:\n",
    "    json.dump(coauthors_json, f)"
   ]
  }
 ],
 "metadata": {
  "kernelspec": {
   "display_name": "Python 3",
   "language": "python",
   "name": "python3"
  },
  "language_info": {
   "codemirror_mode": {
    "name": "ipython",
    "version": 3
   },
   "file_extension": ".py",
   "mimetype": "text/x-python",
   "name": "python",
   "nbconvert_exporter": "python",
   "pygments_lexer": "ipython3",
   "version": "3.7.10"
  }
 },
 "nbformat": 4,
 "nbformat_minor": 5
}
