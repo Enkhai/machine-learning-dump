{
 "cells": [
  {
   "cell_type": "markdown",
   "id": "ec2cc05e",
   "metadata": {},
   "source": [
    "# Web scraping, Stage 2\n",
    "\n",
    "Improving Google Scholar search with alternative keywords."
   ]
  },
  {
   "cell_type": "markdown",
   "id": "0b76967c",
   "metadata": {},
   "source": [
    "Import needed libraries."
   ]
  },
  {
   "cell_type": "code",
   "execution_count": 1,
   "id": "9535b294",
   "metadata": {},
   "outputs": [],
   "source": [
    "import numpy as np\n",
    "import pandas as pd\n",
    "import json\n",
    "from scholarly import scholarly, ProxyGenerator\n",
    "from scholarly._navigator import MaxTriesExceededException"
   ]
  },
  {
   "cell_type": "markdown",
   "id": "b0d545fb",
   "metadata": {},
   "source": [
    "Make a list of the university names."
   ]
  },
  {
   "cell_type": "code",
   "execution_count": 2,
   "id": "3d38bd1d",
   "metadata": {},
   "outputs": [],
   "source": [
    "universities = ['oulu',\n",
    "               'bochum',\n",
    "               'porto',\n",
    "               'bordeaux',\n",
    "               'lodz']"
   ]
  },
  {
   "cell_type": "markdown",
   "id": "3d30ecc7",
   "metadata": {},
   "source": [
    "## Re-query failed authors"
   ]
  },
  {
   "cell_type": "markdown",
   "id": "f41fe4b2",
   "metadata": {},
   "source": [
    "We have created a file containing indices of authors in the Excel spreadsheet that will be re-queried with the scholarly API.\n",
    "\n",
    "We load them into a dictionary."
   ]
  },
  {
   "cell_type": "code",
   "execution_count": 3,
   "id": "88224228",
   "metadata": {},
   "outputs": [],
   "source": [
    "idx_to_search = {}\n",
    "with open('failed_for_search.txt') as f:\n",
    "    for l in f.readlines():\n",
    "        l = l.split(',')\n",
    "        idx_to_search[l[0]] = [int(i) for i in l[1:]]"
   ]
  },
  {
   "cell_type": "markdown",
   "id": "35b9d4f2",
   "metadata": {},
   "source": [
    "Let's see what we've made."
   ]
  },
  {
   "cell_type": "code",
   "execution_count": 4,
   "id": "c328678b",
   "metadata": {},
   "outputs": [
    {
     "data": {
      "text/plain": [
       "{'oulu': [3, 8, 45, 46, 54, 55, 58, 71, 92],\n",
       " 'bochum': [15, 17, 23, 44, 49],\n",
       " 'porto': [1, 23, 46, 47, 57, 60, 68, 87, 94],\n",
       " 'bordeaux': [12, 16, 22, 27, 38, 55],\n",
       " 'lodz': [8, 15, 24, 36, 52, 54, 59, 74, 75, 80, 85]}"
      ]
     },
     "execution_count": 4,
     "metadata": {},
     "output_type": "execute_result"
    }
   ],
   "source": [
    "idx_to_search"
   ]
  },
  {
   "cell_type": "markdown",
   "id": "986cd315",
   "metadata": {},
   "source": [
    "We read our new, extended and modified spreadsheet with extra `Alternative name`s to search for."
   ]
  },
  {
   "cell_type": "code",
   "execution_count": 5,
   "id": "0624d85b",
   "metadata": {},
   "outputs": [],
   "source": [
    "dfs = pd.read_excel('staff.xlsx', None)\n",
    "dfs = dict((universities[i], value) for ((key, value), i) in zip(dfs.items(), range(5)))\n",
    "for df in dfs.values():\n",
    "    df['Gender'].replace({'Male': 'M', 'Female': 'F'}, inplace=True)\n",
    "    if not 'Full name' in df:\n",
    "        df['Full name'] = df['First name'].str.cat(df['Last name'], sep=' ')"
   ]
  },
  {
   "cell_type": "markdown",
   "id": "6a115b6a",
   "metadata": {},
   "source": [
    "Let's verify the indices we have specified are the correct ones by checking the loaded spreadsheet and also filtering. \n",
    "\n",
    "Seems to be OK."
   ]
  },
  {
   "cell_type": "code",
   "execution_count": 6,
   "id": "c5123a4f",
   "metadata": {
    "scrolled": true
   },
   "outputs": [
    {
     "name": "stdout",
     "output_type": "stream",
     "text": [
      "    First name   Last name Gender                 Role  \\\n",
      "0         Sasu     Tarkoma      M            Professor   \n",
      "1        Anna     Yershova      F  University Lecturer   \n",
      "2        Heli    Koskimäki      F    ADjunct Professor   \n",
      "3  Hannu-Pekka       Komsa      M  Assistant Professor   \n",
      "4      Glisic         Savo      M            Professor   \n",
      "5          Tad  Matsumoto       M            Professor   \n",
      "6       Marian    Codreanu      M    ADjunct Professor   \n",
      "7          Li          Liu      F  Assistant Professor   \n",
      "8        Marja    Harjumaa      F    Adjunct Professor   \n",
      "\n",
      "           Research Group                        Alternative search  \\\n",
      "0    Ubiquitous Computing                    University of Helsinki   \n",
      "1    Ubiquitous Computing                                       NaN   \n",
      "2                    BISG                               Oura Health   \n",
      "3                     MIC                           alto university   \n",
      "4                     CWC                                       ins   \n",
      "5                     CWC                                     JAIST   \n",
      "6  CWC-Radio Technologies                      Linköping University   \n",
      "7                    CMVS                                       CCF   \n",
      "8                   OASIS  VTT Technical Research Centre of Finland   \n",
      "\n",
      "           Full name  \n",
      "0       Sasu Tarkoma  \n",
      "1     Anna  Yershova  \n",
      "2    Heli  Koskimäki  \n",
      "3  Hannu-Pekka Komsa  \n",
      "4       Glisic  Savo  \n",
      "5     Tad Matsumoto   \n",
      "6    Marian Codreanu  \n",
      "7            Li  Liu  \n",
      "8     Marja Harjumaa  \n",
      "  First name  Last name Gender                 Role  \\\n",
      "0     ILONA      ROLFES      F  Professor-Vice Dean   \n",
      "1  M. ANGELA      SASSE      F            Professor   \n",
      "2          J      LUNZE      M     Senior Professor   \n",
      "3    Tamara   Nestrovic      F            Professor   \n",
      "4   Annette      Hafner      F            Professor   \n",
      "\n",
      "                                             Faculty Alternative search  \\\n",
      "0  Faculty of Electrical Engineering and Informat...             rub.de   \n",
      "1  Faculty of Electrical Engineering and Informat...              FREng   \n",
      "2  Faculty of Electrical Engineering and Informat...             rub.de   \n",
      "3   Department of Civil and Enviromental Engineering                NaN   \n",
      "4   Department of Civil and Enviromental Engineering             rub.de   \n",
      "\n",
      "           Full name  \n",
      "0      ILONA  ROLFES  \n",
      "1    M. ANGELA SASSE  \n",
      "2            J LUNZE  \n",
      "3  Tamara  Nestrovic  \n",
      "4    Annette  Hafner  \n",
      "         First name Last name Gender                 Role Faculty  \\\n",
      "0           Adriano  Carvalho      M            Professor     ECE   \n",
      "1            Helder     Leite      M  Associate Professor     ECE   \n",
      "2           Cândido    Duarte      M  Assistant Professor     ECE   \n",
      "3  Maria do Rosário  de Pinho      F  Associate Professor     ECE   \n",
      "4              Nuno      Cruz      M  Assistant Professor     ECE   \n",
      "5             Paulo  Portugal      M  Associate Professor     ECE   \n",
      "6           António     Porto      M            Professor      CS   \n",
      "7              Hugo   Pacheco      M  Assistant Professor      CS   \n",
      "8             Pedro   Ribeiro      M  Assistant Professor      CS   \n",
      "\n",
      "  Alternative search                  Full name  \n",
      "0         Engenharia           Adriano Carvalho  \n",
      "1                 UP               Helder Leite  \n",
      "2      FEUP Portugal             Cândido Duarte  \n",
      "3               FEUP  Maria do Rosário de Pinho  \n",
      "4               FEUP                  Nuno Cruz  \n",
      "5              fe.up             Paulo Portugal  \n",
      "6   Computer Science              António Porto  \n",
      "7              INESC               Hugo Pacheco  \n",
      "8              INESC              Pedro Ribeiro  \n",
      "      First name   Last name                            Email Gender  \\\n",
      "0         Nadine     Couture          nadine.couture@labri.fr      F   \n",
      "1  Jean-Philippe    Domenger  jean-philippe.domenger@labri.fr      M   \n",
      "2             F.       Krief          francine.krief@labri.fr      F   \n",
      "3           Yves    Metivier           yves.metivier@labri.fr      M   \n",
      "4     Christophe     Schlick      christophe.schlick@labri.fr      M   \n",
      "5          Marco  Montemurro        marco.montemurro@ensam.eu      M   \n",
      "\n",
      "             Role Faculty Alternative search               Full name  \n",
      "0       Professor      CS           Rouillon          Nadine Couture  \n",
      "1       Professor      CS              labri  Jean-Philippe Domenger  \n",
      "2       Professor      CS                NaN                F. Krief  \n",
      "3       Professor      CS              labri           Yves Metivier  \n",
      "4       Professor      CS              labri      Christophe Schlick  \n",
      "5  Full Professor     IME                i2m        Marco Montemurro  \n",
      "    First name            Last name                                Email  \\\n",
      "0        Aneta  Poniszewska-Maranda  aneta.poniszewska-maranda@p.lodz.pl   \n",
      "1    Agnieszka                Duraj            agnieszka.duraj@p.lodz.pl   \n",
      "2   Bartłomiej              Stasiak         bartlomiej.stasiak@p.lodz.pl   \n",
      "3       Marcin              Kwapisz             marcin.kwapisz@p.lodz.pl   \n",
      "4       Szymon            Grabowski                sgrabow@kis.p.lodz.pl   \n",
      "5        Lidia  Jackowska-Strumillo               lidia_js@kis.p.lodz.pl   \n",
      "6       Marcin               Bąkała              marcin.bakala@p.lodz.pl   \n",
      "7       Joanna   Sekulska-Nalewajko              jsekulska@kis.p.lodz.pl   \n",
      "8        Artur             Sierszen             artur.sierszen@p.lodz.pl   \n",
      "9        Rafał        Wojciechowski        r.wojciechowski@kis.p.lodz.pl   \n",
      "10   Krzysztof               Komeza           krzysztof.komeza@p.lodz.pl   \n",
      "\n",
      "   Gender                 Role Faculty    Alternative search  \\\n",
      "0       F  Associate Professor      IT                   NaN   \n",
      "1       F  Assistant Professor      IT  Instytut Informatyki   \n",
      "2       M  Assistant Professor      IT                lodzka   \n",
      "3       M  Assistant Professor      IT                    pl   \n",
      "4       M  Associate Professor    ApCS               <blank>   \n",
      "5       F  Associate Professor    ApCS                   NaN   \n",
      "6       M  Assistant Professor    ApCS                lodzka   \n",
      "7       F  Assistant Professor    ApCS                lodzka   \n",
      "8       M  Assistant Professor    ApCS                   NaN   \n",
      "9       M  Assistant Professor    ApCS               <blank>   \n",
      "10      M  Associate Professor     MIS                   NaN   \n",
      "\n",
      "                    Full name  \n",
      "0   Aneta Poniszewska-Maranda  \n",
      "1             Agnieszka Duraj  \n",
      "2          Bartłomiej Stasiak  \n",
      "3              Marcin Kwapisz  \n",
      "4            Szymon Grabowski  \n",
      "5   Lidia Jackowska-Strumillo  \n",
      "6               Marcin Bąkała  \n",
      "7   Joanna Sekulska-Nalewajko  \n",
      "8              Artur Sierszen  \n",
      "9         Rafał Wojciechowski  \n",
      "10           Krzysztof Komeza  \n"
     ]
    }
   ],
   "source": [
    "for uni_name in universities:\n",
    "    dfs[uni_name] = dfs[uni_name].iloc[idx_to_search[uni_name]].reset_index(drop=True)\n",
    "    print(dfs[uni_name])"
   ]
  },
  {
   "cell_type": "markdown",
   "id": "1548e0a6",
   "metadata": {},
   "source": [
    "We are going to re-use the function we specified in the previous notebook."
   ]
  },
  {
   "cell_type": "code",
   "execution_count": 7,
   "id": "88b1a0c0",
   "metadata": {},
   "outputs": [],
   "source": [
    "def retrieve_authors(df, uni_name):\n",
    "    authors = []\n",
    "    failed = []\n",
    "\n",
    "    num_authors = len(df)\n",
    "    for i, name in enumerate(df['Full name']):\n",
    "        if i % 10 == 0:\n",
    "            print('Retrieving author no. {} out of {} for University of {}'.format(i + 1,\n",
    "                                                                                   num_authors, \n",
    "                                                                                   uni_name.capitalize()))\n",
    "        if 'Alternative search' in df and not pd.isnull(df['Alternative search'][i]):\n",
    "            if df['Alternative search'][i] == '<blank>':\n",
    "                query = scholarly.search_author(name)\n",
    "            else:\n",
    "                query = scholarly.search_author(name + ', ' + df['Alternative search'][i])\n",
    "        else:\n",
    "            query = scholarly.search_author(name + ', ' + uni_name)\n",
    "        try:\n",
    "            try:\n",
    "                author = scholarly.fill(next(query), sections=['coauthors'])\n",
    "            except MaxTriesExceededException:\n",
    "                print('Query failed. Generating new proxy')\n",
    "                pg = ProxyGenerator()\n",
    "                pg.FreeProxies()\n",
    "                scholarly.use_proxy(pg)\n",
    "                author = scholarly.fill(next(query), sections=['coauthors'])\n",
    "            \n",
    "            author_dict = {}\n",
    "            author_dict['scholar_id']  = author['scholar_id']\n",
    "            author_dict['name'] = author['name']\n",
    "            author_dict['affiliation'] = author['affiliation']\n",
    "            author_dict['gender'] = df['Gender'][i]\n",
    "            author_dict['role'] = df['Role'][i]\n",
    "            author_dict['url_picture'] = author['url_picture']\n",
    "            author_dict['coauthors'] = [coauth['scholar_id'] for coauth in author['coauthors']]\n",
    "            authors.append(author_dict)\n",
    "        except StopIteration:\n",
    "            failed.append(name)\n",
    "\n",
    "    print('Number of retrieved authors:', len(authors))\n",
    "    print('Number of failed authors:', len(failed))\n",
    "    \n",
    "    return authors, failed"
   ]
  },
  {
   "cell_type": "markdown",
   "id": "50d9e73f",
   "metadata": {},
   "source": [
    "If all goes well, there should be no failed authors."
   ]
  },
  {
   "cell_type": "code",
   "execution_count": 8,
   "id": "2225ef91",
   "metadata": {},
   "outputs": [
    {
     "name": "stdout",
     "output_type": "stream",
     "text": [
      "Retrieving author no. 1 out of 9 for University of Oulu\n",
      "Number of retrieved authors: 9\n",
      "Number of failed authors: 0\n",
      "Retrieving author no. 1 out of 5 for University of Bochum\n",
      "Number of retrieved authors: 5\n",
      "Number of failed authors: 0\n",
      "Retrieving author no. 1 out of 9 for University of Porto\n",
      "Number of retrieved authors: 9\n",
      "Number of failed authors: 0\n",
      "Retrieving author no. 1 out of 6 for University of Bordeaux\n",
      "Number of retrieved authors: 6\n",
      "Number of failed authors: 0\n",
      "Retrieving author no. 1 out of 11 for University of Lodz\n",
      "Retrieving author no. 11 out of 11 for University of Lodz\n",
      "Number of retrieved authors: 11\n",
      "Number of failed authors: 0\n"
     ]
    }
   ],
   "source": [
    "requeried_authors = []\n",
    "for uni_name, df in dfs.items():\n",
    "    authors, failed = retrieve_authors(df, uni_name)\n",
    "    requeried_authors.append({'university': uni_name, 'authors': authors, 'failed': failed})"
   ]
  },
  {
   "cell_type": "markdown",
   "id": "37db6cf2",
   "metadata": {},
   "source": [
    "## Merge successful and re-queried authors"
   ]
  },
  {
   "cell_type": "markdown",
   "id": "fc4b8ca3",
   "metadata": {},
   "source": [
    "We retrieve the queried authors from stage 1."
   ]
  },
  {
   "cell_type": "code",
   "execution_count": 9,
   "id": "161956c7",
   "metadata": {},
   "outputs": [],
   "source": [
    "with open('../stage1/uni_authors.json') as f:\n",
    "    uni_authors = json.load(f)"
   ]
  },
  {
   "cell_type": "markdown",
   "id": "9831750d",
   "metadata": {},
   "source": [
    "Let's make sure the university names align."
   ]
  },
  {
   "cell_type": "code",
   "execution_count": 10,
   "id": "b86fbd47",
   "metadata": {},
   "outputs": [
    {
     "data": {
      "text/plain": [
       "True"
      ]
     },
     "execution_count": 10,
     "metadata": {},
     "output_type": "execute_result"
    }
   ],
   "source": [
    "[authors['university'] for authors in requeried_authors] == [authors['university'] \n",
    "                                                             for authors in uni_authors]"
   ]
  },
  {
   "cell_type": "markdown",
   "id": "5755109b",
   "metadata": {},
   "source": [
    "How many are the successfully queried and failed authors __before__ merging authors and removing requeried authors from the failed list?"
   ]
  },
  {
   "cell_type": "code",
   "execution_count": 11,
   "id": "cb313c94",
   "metadata": {},
   "outputs": [
    {
     "name": "stdout",
     "output_type": "stream",
     "text": [
      "Successful authors for University of Oulu: 78\n",
      "Failed authors for University of Oulu: 38\n",
      "Successful authors for University of Bochum: 31\n",
      "Failed authors for University of Bochum: 23\n",
      "Successful authors for University of Porto: 66\n",
      "Failed authors for University of Porto: 37\n",
      "Successful authors for University of Bordeaux: 30\n",
      "Failed authors for University of Bordeaux: 35\n",
      "Successful authors for University of Lodz: 40\n",
      "Failed authors for University of Lodz: 57\n"
     ]
    }
   ],
   "source": [
    "for authors in uni_authors:\n",
    "    print('Successful authors for University of {}:'.format(authors['university'].capitalize()), \n",
    "          len(authors['authors']))\n",
    "    print('Failed authors for University of {}:'.format(authors['university'].capitalize()), \n",
    "          len(authors['failed']))"
   ]
  },
  {
   "cell_type": "markdown",
   "id": "bd07d9f2",
   "metadata": {},
   "source": [
    "Append requeried authors to the successful authors."
   ]
  },
  {
   "cell_type": "code",
   "execution_count": 12,
   "id": "488b9075",
   "metadata": {},
   "outputs": [],
   "source": [
    "for i, authors in enumerate(uni_authors):\n",
    "    scholarIDs = map(lambda x: x['scholar_id'], authors['authors'])\n",
    "    for ra in requeried_authors[i]['authors']:\n",
    "        if ra['scholar_id'] not in scholarIDs:\n",
    "            authors['authors'].append(ra)"
   ]
  },
  {
   "cell_type": "markdown",
   "id": "be14df53",
   "metadata": {},
   "source": [
    "## Remove requeried authors from failed authors"
   ]
  },
  {
   "cell_type": "markdown",
   "id": "588a422e",
   "metadata": {},
   "source": [
    "For this task, we are going to load the previous version of the spreadsheet."
   ]
  },
  {
   "cell_type": "code",
   "execution_count": 13,
   "id": "f36ce3a4",
   "metadata": {},
   "outputs": [],
   "source": [
    "dfs2 = pd.read_excel('../stage1/staff.xlsx', None)\n",
    "dfs2 = dict((universities[i], value) for ((key, value), i) in zip(dfs2.items(), range(5)))\n",
    "for df in dfs2.values():\n",
    "    df['Gender'].replace({'Male': 'M', 'Female': 'F'}, inplace=True)\n",
    "    if not 'Full name' in df:\n",
    "        df['Full name'] = df['First name'].str.cat(df['Last name'], sep=' ')"
   ]
  },
  {
   "cell_type": "markdown",
   "id": "f725cd67",
   "metadata": {},
   "source": [
    "If all goes well, there should be only one `Alternative search` column for the loaded DataFrames,\n",
    "in the porto DataFrame."
   ]
  },
  {
   "cell_type": "code",
   "execution_count": 14,
   "id": "c3818606",
   "metadata": {},
   "outputs": [
    {
     "data": {
      "text/plain": [
       "{'oulu':      First name    Last name Gender                 Role  \\\n",
       " 0    Steven M.       LaValle      M            Professor   \n",
       " 1         Timo         Ojala      M            Professor   \n",
       " 2        Jukka        Riekki      M            Professor   \n",
       " 3          Sasu      Tarkoma      M            Professor   \n",
       " 4       Denzil      Ferreira      M  Associate Professor   \n",
       " ..          ...          ...    ...                  ...   \n",
       " 111   Alexander       Bykov       M    Adjunct Professor   \n",
       " 112        Esko  Alasaarela       M            Professor   \n",
       " 113  Christian        Schuss      M  University Lecturer   \n",
       " 114       Risto     Myllylä       M            Professor   \n",
       " 115        Igor   Meglinski       M            Professor   \n",
       " \n",
       "            Research Group           Full name  \n",
       " 0    Ubiquitous Computing  Steven M.  LaValle  \n",
       " 1    Ubiquitous Computing         Timo  Ojala  \n",
       " 2    Ubiquitous Computing       Jukka  Riekki  \n",
       " 3    Ubiquitous Computing        Sasu Tarkoma  \n",
       " 4    Ubiquitous Computing    Denzil  Ferreira  \n",
       " ..                    ...                 ...  \n",
       " 111                   OMT    Alexander Bykov   \n",
       " 112                   OMT    Esko Alasaarela   \n",
       " 113                   OMT   Christian  Schuss  \n",
       " 114                   OMT      Risto Myllylä   \n",
       " 115                   OMT     Igor Meglinski   \n",
       " \n",
       " [116 rows x 6 columns],\n",
       " 'bochum':             First name      Last name Gender                 Role  \\\n",
       " 0               PETER       AWAKOWICZ      M  Professor-Vice Dean   \n",
       " 1            THORSTEN          BERGER      M            Professor   \n",
       " 2           RALF PETER      BRINKMANN      M            Professor   \n",
       " 3             MAR­KUS        DÜR­MUTH      M            Professor   \n",
       " 4                 TIM       GÜ­NEY­SU      M            Professor   \n",
       " 5             MAR­TIN       HOFF­MANN      M            Professor   \n",
       " 6             MAR­TIN        HOF­MANN      M  Professor-Vice Dean   \n",
       " 7           THORS­TEN            HOLZ      M            Professor   \n",
       " 8          DO­RO­THEA       KO­LOS­SA      F            Professor   \n",
       " 9             RAI­NER         MAR­TIN      M            Professor   \n",
       " 10             THOMAS           MUSCH      M       Professor-Dean   \n",
       " 11             THOMAS     MUSSENBROCK      M            Professor   \n",
       " 12            JÜR­GEN            OEHM      M            Professor   \n",
       " 13          CHRIS­TOF            PAAR      M            Professor   \n",
       " 14               NILS            POHL      M            Professor   \n",
       " 15              ILONA         ROL­FES      F  Professor-Vice Dean   \n",
       " 16              CLARA     SA­RA­CE­NO      F            Professor   \n",
       " 17  MAR­TI­NA AN­GE­LA          SASSE      F            Professor   \n",
       " 18              GEORG         SCHMITZ      M            Professor   \n",
       " 19               JÖRG         SCHWENK      M            Professor   \n",
       " 20              AYDIN         SEZ­GIN      M            Professor   \n",
       " 21    CON­STAN­TI­NOS    SOURK­OU­NIS      M            Professor   \n",
       " 22            UL­RICH           KUNZE      M     Senior Professor   \n",
       " 23                JAN           LUNZE      M     Senior Professor   \n",
       " 24           AN­D­REW         GIB­SON      M     Junior Professor   \n",
       " 25               TIMO           HÖNIG      M     Junior Professor   \n",
       " 26             VOLKER          STAUDT      M  Associate Professor   \n",
       " 27           MICHA­EL            VOGT      M  Associate Professor   \n",
       " 28               NILS       GER­HARDT      M  Associate Professor   \n",
       " 29               AMIR        MO­RA­DI      M  Associate Professor   \n",
       " 30            GE­RALD         ENZ­NER      M    Private Lecturers   \n",
       " 31            JÜR­GEN         GEI­SER      M    Private Lecturers   \n",
       " 32            MAR­TIN       HE­XA­MER      M    Private Lecturers   \n",
       " 33             JULIAN         SCHULZE      M    Private Lecturers   \n",
       " 34         KARL­HEINZ            OCHS      M    Private Lecturers   \n",
       " 35           Wolfgang      M. Willems      M            Professor   \n",
       " 36               Rolf   Breitenbücher      M            Professor   \n",
       " 37            Torsten       Wichtmann      M            Professor   \n",
       " 38              Peter            Mark      M            Professor   \n",
       " 39             Markus        Knobloch      M  Professor-Vice Dean   \n",
       " 40             Markus          Thewes      M            Professor   \n",
       " 41            Rüdiger          Höffer      M       Professor-Dean   \n",
       " 42            Andreas           Vogel      M     Junior Professor   \n",
       " 43             Markus           König      M            Professor   \n",
       " 44             Tamara      Nestorović      F            Professor   \n",
       " 45             Daniel         Balzani      M            Professor   \n",
       " 46              Klaus           Hackl      M            Professor   \n",
       " 47            Günther         Meschke      M            Professor   \n",
       " 48            Martina          Flörke      F            Professor   \n",
       " 49            Annette          Hafner      F            Professor   \n",
       " 50               Marc         Wichern      M            Professor   \n",
       " 51              Harro          Stolpe      M            Professor   \n",
       " 52             Martin       Radenberg      M            Professor   \n",
       " 53             Justin     Geistefeldt      M            Professor   \n",
       " \n",
       "                                               Faculty  \\\n",
       " 0   Faculty of Electrical Engineering and Informat...   \n",
       " 1   Faculty of Electrical Engineering and Informat...   \n",
       " 2   Faculty of Electrical Engineering and Informat...   \n",
       " 3   Faculty of Electrical Engineering and Informat...   \n",
       " 4   Faculty of Electrical Engineering and Informat...   \n",
       " 5   Faculty of Electrical Engineering and Informat...   \n",
       " 6   Faculty of Electrical Engineering and Informat...   \n",
       " 7   Faculty of Electrical Engineering and Informat...   \n",
       " 8   Faculty of Electrical Engineering and Informat...   \n",
       " 9   Faculty of Electrical Engineering and Informat...   \n",
       " 10  Faculty of Electrical Engineering and Informat...   \n",
       " 11  Faculty of Electrical Engineering and Informat...   \n",
       " 12  Faculty of Electrical Engineering and Informat...   \n",
       " 13  Faculty of Electrical Engineering and Informat...   \n",
       " 14  Faculty of Electrical Engineering and Informat...   \n",
       " 15  Faculty of Electrical Engineering and Informat...   \n",
       " 16  Faculty of Electrical Engineering and Informat...   \n",
       " 17  Faculty of Electrical Engineering and Informat...   \n",
       " 18  Faculty of Electrical Engineering and Informat...   \n",
       " 19  Faculty of Electrical Engineering and Informat...   \n",
       " 20  Faculty of Electrical Engineering and Informat...   \n",
       " 21  Faculty of Electrical Engineering and Informat...   \n",
       " 22  Faculty of Electrical Engineering and Informat...   \n",
       " 23  Faculty of Electrical Engineering and Informat...   \n",
       " 24  Faculty of Electrical Engineering and Informat...   \n",
       " 25  Faculty of Electrical Engineering and Informat...   \n",
       " 26  Faculty of Electrical Engineering and Informat...   \n",
       " 27  Faculty of Electrical Engineering and Informat...   \n",
       " 28  Faculty of Electrical Engineering and Informat...   \n",
       " 29  Faculty of Electrical Engineering and Informat...   \n",
       " 30  Faculty of Electrical Engineering and Informat...   \n",
       " 31  Faculty of Electrical Engineering and Informat...   \n",
       " 32  Faculty of Electrical Engineering and Informat...   \n",
       " 33  Faculty of Electrical Engineering and Informat...   \n",
       " 34  Faculty of Electrical Engineering and Informat...   \n",
       " 35   Department of Civil and Enviromental Engineering   \n",
       " 36   Department of Civil and Enviromental Engineering   \n",
       " 37   Department of Civil and Enviromental Engineering   \n",
       " 38   Department of Civil and Enviromental Engineering   \n",
       " 39   Department of Civil and Enviromental Engineering   \n",
       " 40   Department of Civil and Enviromental Engineering   \n",
       " 41   Department of Civil and Enviromental Engineering   \n",
       " 42   Department of Civil and Enviromental Engineering   \n",
       " 43   Department of Civil and Enviromental Engineering   \n",
       " 44   Department of Civil and Enviromental Engineering   \n",
       " 45   Department of Civil and Enviromental Engineering   \n",
       " 46   Department of Civil and Enviromental Engineering   \n",
       " 47   Department of Civil and Enviromental Engineering   \n",
       " 48   Department of Civil and Enviromental Engineering   \n",
       " 49   Department of Civil and Enviromental Engineering   \n",
       " 50   Department of Civil and Enviromental Engineering   \n",
       " 51   Department of Civil and Enviromental Engineering   \n",
       " 52   Department of Civil and Enviromental Engineering   \n",
       " 53   Department of Civil and Enviromental Engineering   \n",
       " \n",
       "                         Full name  \n",
       " 0                PETER  AWAKOWICZ  \n",
       " 1                THORSTEN  BERGER  \n",
       " 2            RALF PETER BRINKMANN  \n",
       " 3               MAR­KUS  DÜR­MUTH  \n",
       " 4                  TIM  GÜ­NEY­SU  \n",
       " 5              MAR­TIN  HOFF­MANN  \n",
       " 6               MAR­TIN  HOF­MANN  \n",
       " 7                 THORS­TEN  HOLZ  \n",
       " 8           DO­RO­THEA  KO­LOS­SA  \n",
       " 9                RAI­NER  MAR­TIN  \n",
       " 10                  THOMAS  MUSCH  \n",
       " 11            THOMAS  MUSSENBROCK  \n",
       " 12                  JÜR­GEN  OEHM  \n",
       " 13                CHRIS­TOF  PAAR  \n",
       " 14                     NILS  POHL  \n",
       " 15                 ILONA  ROL­FES  \n",
       " 16             CLARA  SA­RA­CE­NO  \n",
       " 17       MAR­TI­NA AN­GE­LA SASSE  \n",
       " 18                 GEORG  SCHMITZ  \n",
       " 19                  JÖRG  SCHWENK  \n",
       " 20                 AYDIN  SEZ­GIN  \n",
       " 21  CON­STAN­TI­NOS  SOURK­OU­NIS  \n",
       " 22                 UL­RICH  KUNZE  \n",
       " 23                     JAN  LUNZE  \n",
       " 24              AN­D­REW  GIB­SON  \n",
       " 25                    TIMO  HÖNIG  \n",
       " 26                 VOLKER  STAUDT  \n",
       " 27                 MICHA­EL  VOGT  \n",
       " 28                NILS  GER­HARDT  \n",
       " 29                 AMIR  MO­RA­DI  \n",
       " 30               GE­RALD  ENZ­NER  \n",
       " 31               JÜR­GEN  GEI­SER  \n",
       " 32             MAR­TIN  HE­XA­MER  \n",
       " 33                JULIAN  SCHULZE  \n",
       " 34               KARL­HEINZ  OCHS  \n",
       " 35          Wolfgang   M. Willems  \n",
       " 36            Rolf  Breitenbücher  \n",
       " 37             Torsten  Wichtmann  \n",
       " 38                    Peter  Mark  \n",
       " 39               Markus  Knobloch  \n",
       " 40                 Markus  Thewes  \n",
       " 41                Rüdiger  Höffer  \n",
       " 42                 Andreas  Vogel  \n",
       " 43                  Markus  König  \n",
       " 44             Tamara  Nestorović  \n",
       " 45                Daniel  Balzani  \n",
       " 46                   Klaus  Hackl  \n",
       " 47               Günther  Meschke  \n",
       " 48                Martina  Flörke  \n",
       " 49                Annette  Hafner  \n",
       " 50                  Marc  Wichern  \n",
       " 51                  Harro  Stolpe  \n",
       " 52              Martin  Radenberg  \n",
       " 53            Justin  Geistefeldt  ,\n",
       " 'porto':            First name   Last name Gender                 Role Faculty  \\\n",
       " 0                Abel       Costa      M  Assistant Professor     ECE   \n",
       " 1             Adriano    Carvalho      M            Professor     ECE   \n",
       " 2                 Ana      Aguiar      F  Assistant Professor     ECE   \n",
       " 3                 Ana    Mendonça      F  Associate Professor     ECE   \n",
       " 4        Andry Maykol       Pinto      M  Assistant Professor     ECE   \n",
       " ..                ...         ...    ...                  ...     ...   \n",
       " 98   Rolando da Silva     Martins      M  Assistant Professor      CS   \n",
       " 99                Rui       Prior      M  Assistant Professor      CS   \n",
       " 100            Sandra       Alves      F  Assistant Professor      CS   \n",
       " 101            Sergio  Crisostomo      M  Assistant Professor      CS   \n",
       " 102          Veronica     Orvalho      F  Assistant Professor      CS   \n",
       " \n",
       "     Alternative search                 Full name  \n",
       " 0                  NaN                Abel Costa  \n",
       " 1           Engenharia          Adriano Carvalho  \n",
       " 2                  NaN                Ana Aguiar  \n",
       " 3                  NaN              Ana Mendonça  \n",
       " 4                  NaN        Andry Maykol Pinto  \n",
       " ..                 ...                       ...  \n",
       " 98                 NaN  Rolando da Silva Martins  \n",
       " 99                 NaN                 Rui Prior  \n",
       " 100                NaN              Sandra Alves  \n",
       " 101                NaN         Sergio Crisostomo  \n",
       " 102                NaN          Veronica Orvalho  \n",
       " \n",
       " [103 rows x 7 columns],\n",
       " 'bordeaux':          First name      Last name                         Email Gender  \\\n",
       " 0            Toufik          Ahmed         toufik.ahmed@labri.fr      M   \n",
       " 1             David          Auber          david.auber@labri.fr      M   \n",
       " 2             Denis        Barthou        denis.barthou@labri.fr      M   \n",
       " 3             Jenny  Benois-Pineau  jenny.benois-pineau@labri.fr      F   \n",
       " 4            Xavier          Blanc         xavier.blanc@labri.fr      M   \n",
       " ..              ...            ...                           ...    ...   \n",
       " 60          Nicolas          Perry                           NaN      M   \n",
       " 61         Stephane       Pompidou                           NaN      M   \n",
       " 62            Denis    Teissandier                           NaN      M   \n",
       " 63  Jean-Christophe           Wahl                           NaN      M   \n",
       " 64            Herve       Wargnier                           NaN      M   \n",
       " \n",
       "          Role Faculty             Full name  \n",
       " 0   Professor      CS          Toufik Ahmed  \n",
       " 1   Professor      CS           David Auber  \n",
       " 2   Professor      CS         Denis Barthou  \n",
       " 3   Professor      CS   Jenny Benois-Pineau  \n",
       " 4   Professor      CS          Xavier Blanc  \n",
       " ..        ...     ...                   ...  \n",
       " 60        NaN     NaN         Nicolas Perry  \n",
       " 61        NaN     NaN     Stephane Pompidou  \n",
       " 62        NaN     NaN     Denis Teissandier  \n",
       " 63        NaN     NaN  Jean-Christophe Wahl  \n",
       " 64        NaN     NaN        Herve Wargnier  \n",
       " \n",
       " [65 rows x 7 columns],\n",
       " 'lodz':     First name     Last name                            Email Gender  \\\n",
       " 0         Adam  Niewiadomski      adam.niewiadomski@p.lodz.pl      M   \n",
       " 1        Piotr   Szczepaniak      piotr.szczepaniak@p.lodz.pl      M   \n",
       " 2     Mykhaylo  Yatsymirskyy  mykhaylo.yatsymirskyy@p.lodz.pl      M   \n",
       " 3    Volodymyr       Yemyets      volodymyr.yemyets@p.lodz.pl      M   \n",
       " 4   Przemysław      Ignaciuk    przemyslaw.ignaciuk@p.lodz.pl      M   \n",
       " ..         ...           ...                              ...    ...   \n",
       " 92      Marcin         Lefik           marcin.lefik@p.lodz.pl      M   \n",
       " 93   Krzysztof         Majer        krzysztof.majer@p.lodz.pl      M   \n",
       " 94      Łukasz      Pietrzak        lukasz.pietrzak@p.lodz.pl      M   \n",
       " 95    Grzegorz   Raniszewski   grzegorz.raniszewski@p.lodz.pl      M   \n",
       " 96   Krzysztof        Smółka       krzysztof.smolka@p.lodz.pl      M   \n",
       " \n",
       "                    Role Faculty              Full name  \n",
       " 0             Professor      IT      Adam Niewiadomski  \n",
       " 1             Professor      IT      Piotr Szczepaniak  \n",
       " 2             Professor      IT  Mykhaylo Yatsymirskyy  \n",
       " 3             Professor      IT      Volodymyr Yemyets  \n",
       " 4   Associate Professor      IT    Przemysław Ignaciuk  \n",
       " ..                  ...     ...                    ...  \n",
       " 92  Assistant Professor     MIS           Marcin Lefik  \n",
       " 93  Assistant Professor     MIS        Krzysztof Majer  \n",
       " 94  Assistant Professor     MIS        Łukasz Pietrzak  \n",
       " 95  Assistant Professor     MIS   Grzegorz Raniszewski  \n",
       " 96  Assistant Professor     MIS       Krzysztof Smółka  \n",
       " \n",
       " [97 rows x 7 columns]}"
      ]
     },
     "execution_count": 14,
     "metadata": {},
     "output_type": "execute_result"
    }
   ],
   "source": [
    "dfs2"
   ]
  },
  {
   "cell_type": "markdown",
   "id": "980ef979",
   "metadata": {},
   "source": [
    "We have created another file containing indices of authors for the spreadsheet from stage 1 that were\n",
    "re-queried due to slight differences between the spreadsheets.\n",
    "\n",
    "We load them into another dictionary."
   ]
  },
  {
   "cell_type": "code",
   "execution_count": 15,
   "id": "36a2a23b",
   "metadata": {},
   "outputs": [],
   "source": [
    "idx_to_search_s1 = {}\n",
    "with open('failed_for_search_stage1.txt') as f:\n",
    "    for l in f.readlines():\n",
    "        l = l.split(',')\n",
    "        idx_to_search_s1[l[0]] = [int(i) for i in l[1:]]"
   ]
  },
  {
   "cell_type": "markdown",
   "id": "43533fa9",
   "metadata": {},
   "source": [
    "Let's verify the indices are the correct ones by comparing the spreadsheets while filtering in the meantime.\n",
    "\n",
    "Seems to be OK."
   ]
  },
  {
   "cell_type": "code",
   "execution_count": 16,
   "id": "bcadf8f6",
   "metadata": {},
   "outputs": [
    {
     "name": "stdout",
     "output_type": "stream",
     "text": [
      "     First name   Last name Gender                 Role  \\\n",
      "3          Sasu     Tarkoma      M            Professor   \n",
      "8         Anna      LaValle      F  University Lecturer   \n",
      "45        Heli    Koskimäki      F    ADjunct Professor   \n",
      "46  Hannu-Pekka       Komsa      M  Assistant Professor   \n",
      "54      Glisic         Savo      M            Professor   \n",
      "55      Tadashi  Matsumoto       M            Professor   \n",
      "58       Marian    Codreanu      M    ADjunct Professor   \n",
      "71          Li          Liu      F  Assistant Professor   \n",
      "92        Marja    Harjumaa      F    Adjunct Professor   \n",
      "\n",
      "            Research Group           Full name  \n",
      "3     Ubiquitous Computing        Sasu Tarkoma  \n",
      "8     Ubiquitous Computing       Anna  LaValle  \n",
      "45                    BISG     Heli  Koskimäki  \n",
      "46                     MIC   Hannu-Pekka Komsa  \n",
      "54                     CWC        Glisic  Savo  \n",
      "55                     CWC  Tadashi Matsumoto   \n",
      "58  CWC-Radio Technologies     Marian Codreanu  \n",
      "71                    CMVS             Li  Liu  \n",
      "92                   OASIS      Marja Harjumaa  \n",
      "            First name   Last name Gender                 Role  \\\n",
      "15              ILONA      ROL­FES      F  Professor-Vice Dean   \n",
      "17  MAR­TI­NA AN­GE­LA       SASSE      F            Professor   \n",
      "23                JAN        LUNZE      M     Senior Professor   \n",
      "44             Tamara   Nestorović      F            Professor   \n",
      "49            Annette       Hafner      F            Professor   \n",
      "\n",
      "                                              Faculty  \\\n",
      "15  Faculty of Electrical Engineering and Informat...   \n",
      "17  Faculty of Electrical Engineering and Informat...   \n",
      "23  Faculty of Electrical Engineering and Informat...   \n",
      "44   Department of Civil and Enviromental Engineering   \n",
      "49   Department of Civil and Enviromental Engineering   \n",
      "\n",
      "                   Full name  \n",
      "15            ILONA  ROL­FES  \n",
      "17  MAR­TI­NA AN­GE­LA SASSE  \n",
      "23                JAN  LUNZE  \n",
      "44        Tamara  Nestorović  \n",
      "49           Annette  Hafner  \n",
      "          First name Last name Gender                 Role Faculty  \\\n",
      "1            Adriano  Carvalho      M            Professor     ECE   \n",
      "23            Helder     Leite      M  Associate Professor     ECE   \n",
      "46           Cândido    Duarte      M  Assistant Professor     ECE   \n",
      "47  Maria do Rosário  de Pinho      F  Associate Professor     ECE   \n",
      "57              Nuno      Cruz      M  Assistant Professor     ECE   \n",
      "60             Paulo  Portugal      M  Associate Professor     ECE   \n",
      "68           António     Porto      M            Professor      CS   \n",
      "87              Hugo   Pacheco      M  Assistant Professor      CS   \n",
      "94             Pedro   Ribeiro      M  Assistant Professor      CS   \n",
      "\n",
      "   Alternative search                  Full name  \n",
      "1          Engenharia           Adriano Carvalho  \n",
      "23                 UP               Helder Leite  \n",
      "46      FEUP Portugal             Cândido Duarte  \n",
      "47               FEUP  Maria do Rosário de Pinho  \n",
      "57               FEUP                  Nuno Cruz  \n",
      "60              fe.up             Paulo Portugal  \n",
      "68   Computer Science              António Porto  \n",
      "87              INESC               Hugo Pacheco  \n",
      "94              INESC              Pedro Ribeiro  \n",
      "       First name   Last name                            Email Gender  \\\n",
      "12         Nadine     Couture          nadine.couture@labri.fr      F   \n",
      "16  Jean-Philippe    Domenger  jean-philippe.domenger@labri.fr      M   \n",
      "22       Francine       Krief          francine.krief@labri.fr      F   \n",
      "28           Yves    Metivier           yves.metivier@labri.fr      M   \n",
      "39     Christophe     Schlick      christophe.schlick@labri.fr      M   \n",
      "57          Marco  Montemurro                              NaN      M   \n",
      "\n",
      "         Role Faculty               Full name  \n",
      "12  Professor      CS          Nadine Couture  \n",
      "16  Professor      CS  Jean-Philippe Domenger  \n",
      "22  Professor      CS          Francine Krief  \n",
      "28  Professor      CS           Yves Metivier  \n",
      "39  Professor      CS      Christophe Schlick  \n",
      "57        NaN     NaN        Marco Montemurro  \n",
      "    First name            Last name                                Email  \\\n",
      "8        Aneta  Poniszewska-Marańda  aneta.poniszewska-maranda@p.lodz.pl   \n",
      "15   Agnieszka                Duraj            agnieszka.duraj@p.lodz.pl   \n",
      "24  Bartłomiej              Stasiak         bartlomiej.stasiak@p.lodz.pl   \n",
      "36      Marcin              Kwapisz             marcin.kwapisz@p.lodz.pl   \n",
      "52      Szymon            Grabowski                sgrabow@kis.p.lodz.pl   \n",
      "54       Lidia  Jackowska-Strumiłło               lidia_js@kis.p.lodz.pl   \n",
      "59      Marcin               Bąkała              marcin.bakala@p.lodz.pl   \n",
      "74      Joanna   Sekulska-Nalewajko              jsekulska@kis.p.lodz.pl   \n",
      "75       Artur             Sierszeń             artur.sierszen@p.lodz.pl   \n",
      "80       Rafał        Wojciechowski        r.wojciechowski@kis.p.lodz.pl   \n",
      "85   Krzysztof               Komęza           krzysztof.komeza@p.lodz.pl   \n",
      "\n",
      "   Gender                 Role Faculty                  Full name  \n",
      "8       F  Associate Professor      IT  Aneta Poniszewska-Marańda  \n",
      "15      F  Assistant Professor      IT            Agnieszka Duraj  \n",
      "24      M  Assistant Professor      IT         Bartłomiej Stasiak  \n",
      "36      M  Assistant Professor      IT             Marcin Kwapisz  \n",
      "52      M  Associate Professor    ApCS           Szymon Grabowski  \n",
      "54      F  Associate Professor    ApCS  Lidia Jackowska-Strumiłło  \n",
      "59      M  Assistant Professor    ApCS              Marcin Bąkała  \n",
      "74      F  Assistant Professor    ApCS  Joanna Sekulska-Nalewajko  \n",
      "75      M  Assistant Professor    ApCS             Artur Sierszeń  \n",
      "80      M  Assistant Professor    ApCS        Rafał Wojciechowski  \n",
      "85      M  Associate Professor     MIS           Krzysztof Komęza  \n"
     ]
    }
   ],
   "source": [
    "for uni_name in universities:\n",
    "    dfs2[uni_name] = dfs2[uni_name].iloc[idx_to_search_s1[uni_name]]\n",
    "    print(dfs2[uni_name])"
   ]
  },
  {
   "cell_type": "markdown",
   "id": "d89b51ff",
   "metadata": {},
   "source": [
    "We create a dictionary of the requeried authors for the spreadsheet from stage 1.\n",
    "\n",
    "The dictionary should contain only Series objects."
   ]
  },
  {
   "cell_type": "code",
   "execution_count": 17,
   "id": "fae30a89",
   "metadata": {},
   "outputs": [],
   "source": [
    "dfs2_failed_names = {}\n",
    "for i in dfs2:\n",
    "    dfs2_failed_names[i] = dfs2[i]['Full name']"
   ]
  },
  {
   "cell_type": "markdown",
   "id": "d875511c",
   "metadata": {},
   "source": [
    "If we've done everything well so far, removing the names of the requeried authors from the failed authors of the data produced in stage 1 should produce no error, with the exception of porto authors."
   ]
  },
  {
   "cell_type": "code",
   "execution_count": 18,
   "id": "34f59abd",
   "metadata": {},
   "outputs": [
    {
     "name": "stdout",
     "output_type": "stream",
     "text": [
      "porto, Adriano Carvalho\n",
      "porto, Helder Leite\n",
      "porto, Cândido Duarte\n",
      "porto, Maria do Rosário de Pinho\n",
      "porto, Nuno Cruz\n",
      "porto, Paulo Portugal\n",
      "porto, António Porto\n",
      "porto, Hugo Pacheco\n",
      "porto, Pedro Ribeiro\n"
     ]
    }
   ],
   "source": [
    "for authors in uni_authors:\n",
    "    for name in dfs2_failed_names[authors['university']]:\n",
    "        try:\n",
    "            authors['failed'].remove(name)\n",
    "        except ValueError:\n",
    "            print(authors['university'] + ',', name)"
   ]
  },
  {
   "cell_type": "markdown",
   "id": "f44e9a4c",
   "metadata": {},
   "source": [
    "Let's check again the number of successfully queried and failed authors for each university. Our data should now be changed."
   ]
  },
  {
   "cell_type": "code",
   "execution_count": 19,
   "id": "5e35f0d8",
   "metadata": {},
   "outputs": [
    {
     "name": "stdout",
     "output_type": "stream",
     "text": [
      "Successful authors for University of Oulu: 87\n",
      "Failed authors for University of Oulu: 29\n",
      "Successful authors for University of Bochum: 36\n",
      "Failed authors for University of Bochum: 18\n",
      "Successful authors for University of Porto: 66\n",
      "Failed authors for University of Porto: 37\n",
      "Successful authors for University of Bordeaux: 36\n",
      "Failed authors for University of Bordeaux: 29\n",
      "Successful authors for University of Lodz: 51\n",
      "Failed authors for University of Lodz: 46\n"
     ]
    }
   ],
   "source": [
    "for authors in uni_authors:\n",
    "    print('Successful authors for University of {}:'.format(authors['university'].capitalize()), \n",
    "          len(authors['authors']))\n",
    "    print('Failed authors for University of {}:'.format(authors['university'].capitalize()), \n",
    "          len(authors['failed']))"
   ]
  },
  {
   "cell_type": "markdown",
   "id": "74e61762",
   "metadata": {},
   "source": [
    "## Save new author data"
   ]
  },
  {
   "cell_type": "markdown",
   "id": "a7e22037",
   "metadata": {},
   "source": [
    "We dump all the new author information into a JSON file."
   ]
  },
  {
   "cell_type": "code",
   "execution_count": 20,
   "id": "943be918",
   "metadata": {},
   "outputs": [],
   "source": [
    "with open('uni_authors.json', 'w') as f:\n",
    "    json.dump(uni_authors, f)"
   ]
  },
  {
   "cell_type": "markdown",
   "id": "070cba83",
   "metadata": {},
   "source": [
    "And also dump the failed author names into another, separate JSON file."
   ]
  },
  {
   "cell_type": "code",
   "execution_count": 21,
   "id": "44124988",
   "metadata": {},
   "outputs": [],
   "source": [
    "uni_authors_failed = [{'university': authors['university'], \n",
    "                       'failed': authors['failed']} for authors in uni_authors]\n",
    "\n",
    "with open('uni_authors_failed.json', 'w') as f:\n",
    "    json.dump(uni_authors_failed, f)"
   ]
  }
 ],
 "metadata": {
  "kernelspec": {
   "display_name": "Python 3",
   "language": "python",
   "name": "python3"
  },
  "language_info": {
   "codemirror_mode": {
    "name": "ipython",
    "version": 3
   },
   "file_extension": ".py",
   "mimetype": "text/x-python",
   "name": "python",
   "nbconvert_exporter": "python",
   "pygments_lexer": "ipython3",
   "version": "3.7.10"
  }
 },
 "nbformat": 4,
 "nbformat_minor": 5
}
