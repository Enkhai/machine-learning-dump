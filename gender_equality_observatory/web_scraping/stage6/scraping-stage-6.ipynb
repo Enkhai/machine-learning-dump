{
 "cells": [
  {
   "cell_type": "markdown",
   "id": "4ab99ee5",
   "metadata": {},
   "source": [
    "# Web scraping, Stage 6\n",
    "\n",
    "Merging other university authors with AUTH authors"
   ]
  },
  {
   "cell_type": "code",
   "execution_count": 1,
   "id": "36acf3ea",
   "metadata": {},
   "outputs": [],
   "source": [
    "import json"
   ]
  },
  {
   "cell_type": "code",
   "execution_count": 2,
   "id": "8448c834",
   "metadata": {},
   "outputs": [],
   "source": [
    "with open('../stage4/uni_authors.json') as f:\n",
    "    uni_authors = json.load(f)\n",
    "    \n",
    "with open('../stage5/auth_authors.json') as f:\n",
    "    auth_authors = json.load(f)"
   ]
  },
  {
   "cell_type": "markdown",
   "id": "a5c0dd34",
   "metadata": {},
   "source": [
    "Verify the dictionary keys are not disjoint"
   ]
  },
  {
   "cell_type": "code",
   "execution_count": 3,
   "id": "8aaea221",
   "metadata": {},
   "outputs": [
    {
     "data": {
      "text/plain": [
       "False"
      ]
     },
     "execution_count": 3,
     "metadata": {},
     "output_type": "execute_result"
    }
   ],
   "source": [
    "auth_authors.keys().isdisjoint(uni_authors[0].keys())"
   ]
  },
  {
   "cell_type": "code",
   "execution_count": 4,
   "id": "e7b01fad",
   "metadata": {},
   "outputs": [
    {
     "data": {
      "text/plain": [
       "False"
      ]
     },
     "execution_count": 4,
     "metadata": {},
     "output_type": "execute_result"
    }
   ],
   "source": [
    "uni_authors[0]['authors'][0].keys().isdisjoint(auth_authors['authors'][0].keys())"
   ]
  },
  {
   "cell_type": "code",
   "execution_count": 5,
   "id": "5228bcdb",
   "metadata": {},
   "outputs": [],
   "source": [
    "uni_authors.append(auth_authors)"
   ]
  },
  {
   "cell_type": "markdown",
   "id": "31a9981d",
   "metadata": {},
   "source": [
    "Save the final data"
   ]
  },
  {
   "cell_type": "code",
   "execution_count": 6,
   "id": "a623a726",
   "metadata": {},
   "outputs": [],
   "source": [
    "with open('uni_authors.json', 'w') as f:\n",
    "    json.dump(uni_authors, f)"
   ]
  }
 ],
 "metadata": {
  "kernelspec": {
   "display_name": "Python 3",
   "language": "python",
   "name": "python3"
  },
  "language_info": {
   "codemirror_mode": {
    "name": "ipython",
    "version": 3
   },
   "file_extension": ".py",
   "mimetype": "text/x-python",
   "name": "python",
   "nbconvert_exporter": "python",
   "pygments_lexer": "ipython3",
   "version": "3.7.10"
  }
 },
 "nbformat": 4,
 "nbformat_minor": 5
}
