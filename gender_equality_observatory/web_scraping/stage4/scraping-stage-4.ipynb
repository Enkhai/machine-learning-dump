{
 "cells": [
  {
   "cell_type": "markdown",
   "id": "7007e98f",
   "metadata": {},
   "source": [
    "# Web scraping, Stage 4\n",
    "\n",
    "Retrieving h-index, i10-index and citedby information."
   ]
  },
  {
   "cell_type": "markdown",
   "id": "35d77e63",
   "metadata": {},
   "source": [
    "Import needed libraries"
   ]
  },
  {
   "cell_type": "code",
   "execution_count": 1,
   "id": "3ba4e457",
   "metadata": {},
   "outputs": [],
   "source": [
    "import numpy as np\n",
    "import pandas as pd\n",
    "import json\n",
    "from scholarly import scholarly, ProxyGenerator\n",
    "from scholarly._navigator import MaxTriesExceededException\n",
    "from tqdm.notebook import tqdm"
   ]
  },
  {
   "cell_type": "markdown",
   "id": "95f7c662",
   "metadata": {},
   "source": [
    "## Retrieve index information"
   ]
  },
  {
   "cell_type": "code",
   "execution_count": 2,
   "id": "bdeac234",
   "metadata": {},
   "outputs": [],
   "source": [
    "with open('../stage2/uni_authors.json') as f:\n",
    "    authors_json = json.load(f)"
   ]
  },
  {
   "cell_type": "code",
   "execution_count": 3,
   "id": "7f0405bf",
   "metadata": {},
   "outputs": [],
   "source": [
    "def fill_in_author_metrics(item):\n",
    "    num_authors = len(item['authors'])\n",
    "    for i, a in tqdm(enumerate(item['authors']), \n",
    "                     total=len(item['authors']), \n",
    "                     desc='Retrieving metrics for University of {}'.format(item['university'].capitalize())):\n",
    "        try:\n",
    "            author = scholarly.search_author_id(a['scholar_id'])\n",
    "            author = scholarly.fill(author, sections=['indices', 'coauthors', 'publications'])\n",
    "        except MaxTriesExceededException:\n",
    "            print('Query failed for author {} with id {}.'.format(a['name'], a['scholar_id']),\n",
    "                  'Generating new proxy')\n",
    "            pg = ProxyGenerator()\n",
    "            pg.FreeProxies()\n",
    "            scholarly.use_proxy(pg)\n",
    "            print('Retrying')\n",
    "            author = scholarly.search_author_id(a['scholar_id'])\n",
    "            author = scholarly.fill(author, sections=['indices', 'coauthors', 'publications'])\n",
    "            \n",
    "        a['i10index'] = author['i10index']\n",
    "        a['i10index5y'] = author['i10index5y']\n",
    "        a['hindex'] = author['hindex']\n",
    "        a['hindex5y'] = author['hindex5y']\n",
    "        a['citedby'] = author['citedby']\n",
    "        a['citedby5y'] = author['citedby5y']\n",
    "        a['num_publications'] = len(author['publications'])"
   ]
  },
  {
   "cell_type": "code",
   "execution_count": 4,
   "id": "82b8ec6c",
   "metadata": {},
   "outputs": [
    {
     "data": {
      "application/vnd.jupyter.widget-view+json": {
       "model_id": "997ae2917b3b4f58bca0fe9270b78cb1",
       "version_major": 2,
       "version_minor": 0
      },
      "text/plain": [
       "  0%|          | 0/5 [00:00<?, ?it/s]"
      ]
     },
     "metadata": {},
     "output_type": "display_data"
    },
    {
     "data": {
      "application/vnd.jupyter.widget-view+json": {
       "model_id": "96021dbb752c4884ab648f9c32e8ae0b",
       "version_major": 2,
       "version_minor": 0
      },
      "text/plain": [
       "Retrieving metrics for University of Oulu:   0%|          | 0/87 [00:00<?, ?it/s]"
      ]
     },
     "metadata": {},
     "output_type": "display_data"
    },
    {
     "data": {
      "application/vnd.jupyter.widget-view+json": {
       "model_id": "a8a5387f74ac423a9fd7e7ebd9c1fada",
       "version_major": 2,
       "version_minor": 0
      },
      "text/plain": [
       "Retrieving metrics for University of Bochum:   0%|          | 0/36 [00:00<?, ?it/s]"
      ]
     },
     "metadata": {},
     "output_type": "display_data"
    },
    {
     "data": {
      "application/vnd.jupyter.widget-view+json": {
       "model_id": "c51fac7490c04463a48c2d8b12f2edb8",
       "version_major": 2,
       "version_minor": 0
      },
      "text/plain": [
       "Retrieving metrics for University of Porto:   0%|          | 0/66 [00:00<?, ?it/s]"
      ]
     },
     "metadata": {},
     "output_type": "display_data"
    },
    {
     "data": {
      "application/vnd.jupyter.widget-view+json": {
       "model_id": "8c4bcf099787439da9479d3d7ca127bc",
       "version_major": 2,
       "version_minor": 0
      },
      "text/plain": [
       "Retrieving metrics for University of Bordeaux:   0%|          | 0/36 [00:00<?, ?it/s]"
      ]
     },
     "metadata": {},
     "output_type": "display_data"
    },
    {
     "data": {
      "application/vnd.jupyter.widget-view+json": {
       "model_id": "54b0ccada7144a7b9555a33514482b53",
       "version_major": 2,
       "version_minor": 0
      },
      "text/plain": [
       "Retrieving metrics for University of Lodz:   0%|          | 0/51 [00:00<?, ?it/s]"
      ]
     },
     "metadata": {},
     "output_type": "display_data"
    }
   ],
   "source": [
    "for item in tqdm(authors_json):\n",
    "    while True:\n",
    "        try:\n",
    "            fill_in_author_metrics(item)\n",
    "            break\n",
    "        except:\n",
    "            print('Retrying for university of', item['university'])\n",
    "            print('Generating new proxy')\n",
    "            pg = ProxyGenerator()\n",
    "            pg.FreeProxies()\n",
    "            scholarly.use_proxy(pg)"
   ]
  },
  {
   "cell_type": "code",
   "execution_count": 5,
   "id": "9c13b035",
   "metadata": {},
   "outputs": [],
   "source": [
    "with open('uni_authors.json', 'w') as f:\n",
    "    json.dump(authors_json, f)"
   ]
  }
 ],
 "metadata": {
  "kernelspec": {
   "display_name": "Python 3",
   "language": "python",
   "name": "python3"
  },
  "language_info": {
   "codemirror_mode": {
    "name": "ipython",
    "version": 3
   },
   "file_extension": ".py",
   "mimetype": "text/x-python",
   "name": "python",
   "nbconvert_exporter": "python",
   "pygments_lexer": "ipython3",
   "version": "3.7.10"
  }
 },
 "nbformat": 4,
 "nbformat_minor": 5
}
