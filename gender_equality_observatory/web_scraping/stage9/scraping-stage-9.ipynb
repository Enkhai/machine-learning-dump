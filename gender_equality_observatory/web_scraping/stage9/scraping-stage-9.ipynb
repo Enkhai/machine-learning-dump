{
 "cells": [
  {
   "cell_type": "markdown",
   "id": "8dc1b2a4",
   "metadata": {},
   "source": [
    "# Web scraping, Stage 9\n",
    "\n",
    "Removing authors from coauthors"
   ]
  },
  {
   "cell_type": "code",
   "execution_count": 1,
   "id": "14a1497c",
   "metadata": {},
   "outputs": [],
   "source": [
    "import json"
   ]
  },
  {
   "cell_type": "code",
   "execution_count": 2,
   "id": "d02925c1",
   "metadata": {},
   "outputs": [],
   "source": [
    "authors = json.load(open('../stage8/uni_authors.json'))\n",
    "coauthors = json.load(open('../stage8/coauthors.json'))"
   ]
  },
  {
   "cell_type": "markdown",
   "id": "e57236bf",
   "metadata": {},
   "source": [
    "Before removing"
   ]
  },
  {
   "cell_type": "code",
   "execution_count": 3,
   "id": "39c67aad",
   "metadata": {},
   "outputs": [
    {
     "data": {
      "text/plain": [
       "2513"
      ]
     },
     "execution_count": 3,
     "metadata": {},
     "output_type": "execute_result"
    }
   ],
   "source": [
    "len(coauthors['successful'])"
   ]
  },
  {
   "cell_type": "code",
   "execution_count": 4,
   "id": "abf40f0c",
   "metadata": {},
   "outputs": [],
   "source": [
    "coauthor_ids = list(map(lambda x: x['scholar_id'], coauthors['successful']))\n",
    "for uni in authors:\n",
    "    for auth in uni['authors']:\n",
    "        if auth['scholar_id'] in coauthor_ids:\n",
    "            idx = coauthor_ids.index(auth['scholar_id'])\n",
    "            del coauthor_ids[idx]\n",
    "            del coauthors['successful'][idx]"
   ]
  },
  {
   "cell_type": "markdown",
   "id": "fe411eca",
   "metadata": {},
   "source": [
    "After removing"
   ]
  },
  {
   "cell_type": "code",
   "execution_count": 5,
   "id": "98fdcbae",
   "metadata": {},
   "outputs": [
    {
     "data": {
      "text/plain": [
       "2320"
      ]
     },
     "execution_count": 5,
     "metadata": {},
     "output_type": "execute_result"
    }
   ],
   "source": [
    "len(coauthors['successful'])"
   ]
  },
  {
   "cell_type": "markdown",
   "id": "dc43936d",
   "metadata": {},
   "source": [
    "Save coauthors once again"
   ]
  },
  {
   "cell_type": "code",
   "execution_count": 6,
   "id": "34f8b32f",
   "metadata": {},
   "outputs": [],
   "source": [
    "with open('coauthors.json', 'w') as f:\n",
    "    json.dump(coauthors, f)"
   ]
  }
 ],
 "metadata": {
  "kernelspec": {
   "display_name": "Python 3",
   "language": "python",
   "name": "python3"
  },
  "language_info": {
   "codemirror_mode": {
    "name": "ipython",
    "version": 3
   },
   "file_extension": ".py",
   "mimetype": "text/x-python",
   "name": "python",
   "nbconvert_exporter": "python",
   "pygments_lexer": "ipython3",
   "version": "3.7.10"
  }
 },
 "nbformat": 4,
 "nbformat_minor": 5
}
