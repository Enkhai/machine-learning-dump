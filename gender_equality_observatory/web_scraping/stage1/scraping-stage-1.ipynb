{
 "cells": [
  {
   "cell_type": "markdown",
   "id": "8e9450d0",
   "metadata": {},
   "source": [
    "# Web scraping, Stage 1\n",
    "\n",
    "Retrieving the initial data."
   ]
  },
  {
   "cell_type": "markdown",
   "id": "f9db2f05",
   "metadata": {},
   "source": [
    "Import needed libraries."
   ]
  },
  {
   "cell_type": "code",
   "execution_count": 1,
   "id": "65cd0e2a",
   "metadata": {},
   "outputs": [],
   "source": [
    "import pandas as pd\n",
    "from scholarly import scholarly, ProxyGenerator\n",
    "from scholarly._navigator import MaxTriesExceededException\n",
    "import json"
   ]
  },
  {
   "cell_type": "markdown",
   "id": "bcf19eeb",
   "metadata": {},
   "source": [
    "Read the data. Make sure all sheets are selected by setting `sheet_name` to `None`."
   ]
  },
  {
   "cell_type": "code",
   "execution_count": 2,
   "id": "a708b1ee",
   "metadata": {},
   "outputs": [],
   "source": [
    "dfs = pd.read_excel('staff.xlsx', None)"
   ]
  },
  {
   "cell_type": "markdown",
   "id": "ade849b5",
   "metadata": {},
   "source": [
    "Create a list of the university names for each sheet."
   ]
  },
  {
   "cell_type": "code",
   "execution_count": 3,
   "id": "020bc6dd",
   "metadata": {},
   "outputs": [],
   "source": [
    "universities = ['oulu',\n",
    "               'bochum',\n",
    "               'porto',\n",
    "               'bordeaux',\n",
    "               'lodz']"
   ]
  },
  {
   "cell_type": "markdown",
   "id": "2d8db0b7",
   "metadata": {},
   "source": [
    "Rename the keys of the dfs dictionary object containing the sheets in the form of DataFrames."
   ]
  },
  {
   "cell_type": "code",
   "execution_count": 4,
   "id": "04bc891e",
   "metadata": {},
   "outputs": [],
   "source": [
    "dfs = dict((universities[i], value) for ((key, value), i) in zip(dfs.items(), range(5)))"
   ]
  },
  {
   "cell_type": "markdown",
   "id": "b7552593",
   "metadata": {},
   "source": [
    "Replace `Male` and `Female` values to `M` and `F` respectively and create a new column for each dataframe containing the full name of candidate authors."
   ]
  },
  {
   "cell_type": "code",
   "execution_count": 5,
   "id": "449d22c5",
   "metadata": {},
   "outputs": [],
   "source": [
    "for df in dfs.values():\n",
    "    df['Gender'].replace({'Male': 'M', 'Female': 'F'}, inplace=True)\n",
    "    if not 'Full name' in df:\n",
    "        df['Full name'] = df['First name'].str.cat(df['Last name'], sep=' ')"
   ]
  },
  {
   "cell_type": "markdown",
   "id": "e77939a3",
   "metadata": {},
   "source": [
    "Create a function for retrieving the successfully queried authors and the names of failed authors."
   ]
  },
  {
   "cell_type": "code",
   "execution_count": 6,
   "id": "2cc968fe",
   "metadata": {},
   "outputs": [],
   "source": [
    "def retrieve_authors(df, uni_name):\n",
    "    # Create the authors and failed authors list\n",
    "    authors = []\n",
    "    failed = []\n",
    "\n",
    "    num_authors = len(df)\n",
    "    # For each author\n",
    "    for i, name in enumerate(df['Full name']):\n",
    "        # Print the progress every 10 steps\n",
    "        if i % 10 == 0:\n",
    "            print('Retrieving author no. {} out of {} for University of {}'.format(i + 1,\n",
    "                                                                                   num_authors, \n",
    "                                                                                   uni_name.capitalize()))\n",
    "        # If an alternative search keyword for the university name is provided instead, use it\n",
    "        if 'Alternative search' in df and not pd.isnull(df['Alternative search'][i]):\n",
    "            query = scholarly.search_author(name + ', ' + df['Alternative search'][i])\n",
    "        else:\n",
    "            query = scholarly.search_author(name + ', ' + uni_name)\n",
    "        try:\n",
    "            try:\n",
    "                # Try to retrieve the first item from the query\n",
    "                author = scholarly.fill(next(query), sections=['coauthors'])\n",
    "            except MaxTriesExceededException:\n",
    "                # If the query fails due to a maximum tries exception, generate a new proxy\n",
    "                print('Query failed. Generating new proxy')\n",
    "                pg = ProxyGenerator()\n",
    "                pg.FreeProxies()\n",
    "                scholarly.use_proxy(pg)\n",
    "                # And try again\n",
    "                author = scholarly.fill(next(query), sections=['coauthors'])\n",
    "            \n",
    "            # Make the author dictionary object and append it to the authors\n",
    "            author_dict = {}\n",
    "            author_dict['scholar_id']  = author['scholar_id']\n",
    "            author_dict['name'] = author['name']\n",
    "            author_dict['affiliation'] = author['affiliation']\n",
    "            author_dict['gender'] = df['Gender'][i]\n",
    "            author_dict['role'] = df['Role'][i]\n",
    "            author_dict['url_picture'] = author['url_picture']\n",
    "            author_dict['coauthors'] = [coauth['scholar_id'] for coauth in author['coauthors']]\n",
    "            authors.append(author_dict)\n",
    "        except StopIteration:\n",
    "            # If the query returns nothing append the name of the author to the failed list\n",
    "            # WARNING: We should make sure that if the first author in the query is not the correct one\n",
    "            # the query should return nothing. To do this, tinker with the `Alternative search` field.\n",
    "            # To verify no authors are returned, simply query Google Scholar from your web browser as such\n",
    "            # <author name>, <invalid keyword>\n",
    "            failed.append(name)\n",
    "\n",
    "    print('Number of retrieved authors:', len(authors))\n",
    "    print('Number of failed authors:', len(failed))\n",
    "    \n",
    "    # Return the successfully queried authors and the names of the failed ones\n",
    "    return authors, failed"
   ]
  },
  {
   "cell_type": "markdown",
   "id": "af41426f",
   "metadata": {},
   "source": [
    "Generate a proxy to make sure you overcome the maximum number of tries error.\n",
    "\n",
    "Google Scholar API can be pinged as many times as we need to generate our data but cannot be pinged infinetely."
   ]
  },
  {
   "cell_type": "code",
   "execution_count": 7,
   "id": "5f6d5175",
   "metadata": {},
   "outputs": [],
   "source": [
    "pg = ProxyGenerator()\n",
    "pg.FreeProxies()\n",
    "scholarly.use_proxy(pg)"
   ]
  },
  {
   "cell_type": "markdown",
   "id": "0379f43d",
   "metadata": {},
   "source": [
    "Retrieve the successfully queried and the failed authors for each university."
   ]
  },
  {
   "cell_type": "code",
   "execution_count": 8,
   "id": "0dcd6c25",
   "metadata": {
    "scrolled": true
   },
   "outputs": [
    {
     "name": "stdout",
     "output_type": "stream",
     "text": [
      "Retrieving author no. 1 out of 116 for University of Oulu\n",
      "Retrieving author no. 11 out of 116 for University of Oulu\n",
      "Retrieving author no. 21 out of 116 for University of Oulu\n",
      "Retrieving author no. 31 out of 116 for University of Oulu\n",
      "Retrieving author no. 41 out of 116 for University of Oulu\n",
      "Retrieving author no. 51 out of 116 for University of Oulu\n",
      "Retrieving author no. 61 out of 116 for University of Oulu\n",
      "Retrieving author no. 71 out of 116 for University of Oulu\n",
      "Retrieving author no. 81 out of 116 for University of Oulu\n",
      "Retrieving author no. 91 out of 116 for University of Oulu\n",
      "Retrieving author no. 101 out of 116 for University of Oulu\n",
      "Retrieving author no. 111 out of 116 for University of Oulu\n",
      "Number of retrieved authors: 78\n",
      "Number of failed authors: 38\n",
      "Retrieving author no. 1 out of 54 for University of Bochum\n",
      "Retrieving author no. 11 out of 54 for University of Bochum\n",
      "Retrieving author no. 21 out of 54 for University of Bochum\n",
      "Retrieving author no. 31 out of 54 for University of Bochum\n",
      "Retrieving author no. 41 out of 54 for University of Bochum\n",
      "Retrieving author no. 51 out of 54 for University of Bochum\n",
      "Number of retrieved authors: 31\n",
      "Number of failed authors: 23\n",
      "Retrieving author no. 1 out of 103 for University of Porto\n",
      "Retrieving author no. 11 out of 103 for University of Porto\n",
      "Retrieving author no. 21 out of 103 for University of Porto\n",
      "Retrieving author no. 31 out of 103 for University of Porto\n",
      "Retrieving author no. 41 out of 103 for University of Porto\n",
      "Retrieving author no. 51 out of 103 for University of Porto\n",
      "Retrieving author no. 61 out of 103 for University of Porto\n",
      "Retrieving author no. 71 out of 103 for University of Porto\n",
      "Retrieving author no. 81 out of 103 for University of Porto\n",
      "Retrieving author no. 91 out of 103 for University of Porto\n",
      "Retrieving author no. 101 out of 103 for University of Porto\n",
      "Number of retrieved authors: 66\n",
      "Number of failed authors: 37\n",
      "Retrieving author no. 1 out of 65 for University of Bordeaux\n",
      "Retrieving author no. 11 out of 65 for University of Bordeaux\n",
      "Retrieving author no. 21 out of 65 for University of Bordeaux\n",
      "Retrieving author no. 31 out of 65 for University of Bordeaux\n",
      "Retrieving author no. 41 out of 65 for University of Bordeaux\n",
      "Retrieving author no. 51 out of 65 for University of Bordeaux\n",
      "Retrieving author no. 61 out of 65 for University of Bordeaux\n",
      "Number of retrieved authors: 30\n",
      "Number of failed authors: 35\n",
      "Retrieving author no. 1 out of 97 for University of Lodz\n",
      "Retrieving author no. 11 out of 97 for University of Lodz\n",
      "Retrieving author no. 21 out of 97 for University of Lodz\n",
      "Retrieving author no. 31 out of 97 for University of Lodz\n",
      "Retrieving author no. 41 out of 97 for University of Lodz\n",
      "Retrieving author no. 51 out of 97 for University of Lodz\n",
      "Retrieving author no. 61 out of 97 for University of Lodz\n",
      "Retrieving author no. 71 out of 97 for University of Lodz\n",
      "Retrieving author no. 81 out of 97 for University of Lodz\n",
      "Retrieving author no. 91 out of 97 for University of Lodz\n",
      "Number of retrieved authors: 40\n",
      "Number of failed authors: 57\n"
     ]
    }
   ],
   "source": [
    "uni_authors = []\n",
    "for uni_name, df in dfs.items():\n",
    "    authors, failed = retrieve_authors(df, uni_name)\n",
    "    uni_authors.append({'university': uni_name, 'authors': authors, 'failed': failed})"
   ]
  },
  {
   "cell_type": "markdown",
   "id": "7dd2ac47",
   "metadata": {},
   "source": [
    "Dump all retrieved author information into a JSON file."
   ]
  },
  {
   "cell_type": "code",
   "execution_count": 14,
   "id": "1859a93c",
   "metadata": {},
   "outputs": [],
   "source": [
    "with open('uni_authors.json', 'w') as f:\n",
    "    json.dump(uni_authors, f)"
   ]
  },
  {
   "cell_type": "markdown",
   "id": "64b49f0e",
   "metadata": {},
   "source": [
    "Also dump the failed author names into another, separate JSON file."
   ]
  },
  {
   "cell_type": "code",
   "execution_count": 20,
   "id": "bbaf8edc",
   "metadata": {},
   "outputs": [],
   "source": [
    "uni_authors_failed = [{'university': authors['university'], \n",
    "                       'failed': authors['failed']} for authors in uni_authors]\n",
    "\n",
    "with open('uni_authors_failed.json', 'w') as f:\n",
    "    json.dump(uni_authors_failed, f)"
   ]
  }
 ],
 "metadata": {
  "kernelspec": {
   "display_name": "Python 3",
   "language": "python",
   "name": "python3"
  },
  "language_info": {
   "codemirror_mode": {
    "name": "ipython",
    "version": 3
   },
   "file_extension": ".py",
   "mimetype": "text/x-python",
   "name": "python",
   "nbconvert_exporter": "python",
   "pygments_lexer": "ipython3",
   "version": "3.7.10"
  }
 },
 "nbformat": 4,
 "nbformat_minor": 5
}
