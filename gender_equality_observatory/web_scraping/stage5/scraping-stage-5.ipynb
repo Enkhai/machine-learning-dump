{
 "cells": [
  {
   "cell_type": "markdown",
   "id": "7b9c1ea0",
   "metadata": {},
   "source": [
    "# Web scraping, Stage 5\n",
    "\n",
    "Requerying failed AUTH authors"
   ]
  },
  {
   "cell_type": "markdown",
   "id": "bf8fdeed",
   "metadata": {},
   "source": [
    "Import needed libraries"
   ]
  },
  {
   "cell_type": "code",
   "execution_count": 1,
   "id": "87d15c68",
   "metadata": {},
   "outputs": [],
   "source": [
    "import numpy as np\n",
    "import pandas as pd\n",
    "import json\n",
    "from scholarly import scholarly, ProxyGenerator\n",
    "from scholarly._navigator import MaxTriesExceededException\n",
    "from tqdm.notebook import tqdm"
   ]
  },
  {
   "cell_type": "code",
   "execution_count": 2,
   "id": "f4e508ef",
   "metadata": {},
   "outputs": [],
   "source": [
    "def retrieve_authors(df, uni_name):\n",
    "    authors = []\n",
    "    failed = []\n",
    "\n",
    "    num_authors = len(df)\n",
    "    for i, name in tqdm(enumerate(df['Full name']),\n",
    "                        total=num_authors, \n",
    "                        desc='Retrieving authors for University of {}'.format(uni_name.capitalize())):\n",
    "        \n",
    "        if 'Alternative search' in df and not pd.isnull(df['Alternative search'][i]):\n",
    "            if df['Alternative search'][i] == '<blank>':\n",
    "                query = scholarly.search_author(name)\n",
    "            else:\n",
    "                query = scholarly.search_author(name + ', ' + df['Alternative search'][i])\n",
    "        else:\n",
    "            query = scholarly.search_author(name + ', ' + uni_name)\n",
    "        try:\n",
    "            try:\n",
    "                author = scholarly.fill(next(query), sections=['indices', 'coauthors', 'publications'])\n",
    "            except MaxTriesExceededException:\n",
    "                print('Query failed. Generating new proxy')\n",
    "                pg = ProxyGenerator()\n",
    "                pg.FreeProxies()\n",
    "                scholarly.use_proxy(pg)\n",
    "                author = scholarly.fill(next(query), sections=['coauthors'])\n",
    "            \n",
    "            author_dict = {}\n",
    "            author_dict['scholar_id']  = author['scholar_id']\n",
    "            author_dict['name'] = author['name']\n",
    "            author_dict['affiliation'] = author['affiliation']\n",
    "            author_dict['gender'] = df['Gender'][i]\n",
    "            author_dict['role'] = df['Role'][i]\n",
    "            author_dict['url_picture'] = author['url_picture']\n",
    "            author_dict['i10index'] = author['i10index']\n",
    "            author_dict['i10index5y'] = author['i10index5y']\n",
    "            author_dict['hindex'] = author['hindex']\n",
    "            author_dict['hindex5y'] = author['hindex5y']\n",
    "            author_dict['citedby'] = author['citedby']\n",
    "            author_dict['citedby5y'] = author['citedby5y']\n",
    "            author_dict['num_publications'] = len(author['publications'])\n",
    "            author_dict['coauthors'] = [coauth['scholar_id'] for coauth in author['coauthors']]\n",
    "            authors.append(author_dict)\n",
    "        except StopIteration:\n",
    "            failed.append(name)\n",
    "\n",
    "    print('Number of retrieved authors:', len(authors))\n",
    "    print('Number of failed authors:', len(failed))\n",
    "    \n",
    "    return authors, failed"
   ]
  },
  {
   "cell_type": "markdown",
   "id": "a3b38883",
   "metadata": {},
   "source": [
    "## Requery failed authors"
   ]
  },
  {
   "cell_type": "code",
   "execution_count": 3,
   "id": "f02fe4ed",
   "metadata": {},
   "outputs": [],
   "source": [
    "with open('failed_for_search.txt') as f:\n",
    "    for l in f.readlines():\n",
    "        l = l.split(',')\n",
    "        idx_to_search = [int(i) for i in l]"
   ]
  },
  {
   "cell_type": "code",
   "execution_count": 4,
   "id": "3fe2ad3a",
   "metadata": {},
   "outputs": [],
   "source": [
    "df = pd.read_excel('AUTHstaff.xlsx').loc[idx_to_search].reset_index()\n",
    "df['Full name'] = df['First name'].str.cat(df['Last name'], sep=' ')"
   ]
  },
  {
   "cell_type": "code",
   "execution_count": 5,
   "id": "3b96a5e4",
   "metadata": {},
   "outputs": [
    {
     "data": {
      "text/html": [
       "<div>\n",
       "<style scoped>\n",
       "    .dataframe tbody tr th:only-of-type {\n",
       "        vertical-align: middle;\n",
       "    }\n",
       "\n",
       "    .dataframe tbody tr th {\n",
       "        vertical-align: top;\n",
       "    }\n",
       "\n",
       "    .dataframe thead th {\n",
       "        text-align: right;\n",
       "    }\n",
       "</style>\n",
       "<table border=\"1\" class=\"dataframe\">\n",
       "  <thead>\n",
       "    <tr style=\"text-align: right;\">\n",
       "      <th></th>\n",
       "      <th>index</th>\n",
       "      <th>First name</th>\n",
       "      <th>Last name</th>\n",
       "      <th>Email</th>\n",
       "      <th>Gender</th>\n",
       "      <th>Role</th>\n",
       "      <th>Faculty</th>\n",
       "      <th>Alternative search</th>\n",
       "      <th>Full name</th>\n",
       "    </tr>\n",
       "  </thead>\n",
       "  <tbody>\n",
       "    <tr>\n",
       "      <th>0</th>\n",
       "      <td>10</td>\n",
       "      <td>Nikos</td>\n",
       "      <td>Laskaris</td>\n",
       "      <td>laskaris@csd.auth.gr</td>\n",
       "      <td>M</td>\n",
       "      <td>Associate Professor</td>\n",
       "      <td>CS</td>\n",
       "      <td>auth</td>\n",
       "      <td>Nikos Laskaris</td>\n",
       "    </tr>\n",
       "    <tr>\n",
       "      <th>1</th>\n",
       "      <td>13</td>\n",
       "      <td>Petros</td>\n",
       "      <td>Nicopolitidis</td>\n",
       "      <td>petros@csd.auth.gr</td>\n",
       "      <td>M</td>\n",
       "      <td>Associate Professor</td>\n",
       "      <td>CS</td>\n",
       "      <td>NaN</td>\n",
       "      <td>Petros Nicopolitidis</td>\n",
       "    </tr>\n",
       "    <tr>\n",
       "      <th>2</th>\n",
       "      <td>17</td>\n",
       "      <td>I.</td>\n",
       "      <td>Pitas</td>\n",
       "      <td>pitas@csd.auth.gr</td>\n",
       "      <td>M</td>\n",
       "      <td>Professor</td>\n",
       "      <td>CS</td>\n",
       "      <td>NaN</td>\n",
       "      <td>I. Pitas</td>\n",
       "    </tr>\n",
       "    <tr>\n",
       "      <th>3</th>\n",
       "      <td>20</td>\n",
       "      <td>Ioannis</td>\n",
       "      <td>Stamelos</td>\n",
       "      <td>stamelos@csd.auth.gr</td>\n",
       "      <td>M</td>\n",
       "      <td>Professor</td>\n",
       "      <td>CS</td>\n",
       "      <td>aristotle</td>\n",
       "      <td>Ioannis Stamelos</td>\n",
       "    </tr>\n",
       "    <tr>\n",
       "      <th>4</th>\n",
       "      <td>25</td>\n",
       "      <td>Athena</td>\n",
       "      <td>Vakali</td>\n",
       "      <td>avakali@csd.auth.gr</td>\n",
       "      <td>F</td>\n",
       "      <td>Professor</td>\n",
       "      <td>CS</td>\n",
       "      <td>aristotle</td>\n",
       "      <td>Athena Vakali</td>\n",
       "    </tr>\n",
       "    <tr>\n",
       "      <th>5</th>\n",
       "      <td>35</td>\n",
       "      <td>Athanasios</td>\n",
       "      <td>Kehagias</td>\n",
       "      <td>kehagiat@auth.gr</td>\n",
       "      <td>M</td>\n",
       "      <td>Associate Professor</td>\n",
       "      <td>ECE</td>\n",
       "      <td>aristotle</td>\n",
       "      <td>Athanasios Kehagias</td>\n",
       "    </tr>\n",
       "    <tr>\n",
       "      <th>6</th>\n",
       "      <td>52</td>\n",
       "      <td>Georgios</td>\n",
       "      <td>Sergiadis</td>\n",
       "      <td>sergiadi@auth.gr</td>\n",
       "      <td>M</td>\n",
       "      <td>Professor</td>\n",
       "      <td>ECE</td>\n",
       "      <td>aristotle</td>\n",
       "      <td>Georgios Sergiadis</td>\n",
       "    </tr>\n",
       "    <tr>\n",
       "      <th>7</th>\n",
       "      <td>54</td>\n",
       "      <td>Dimitrios</td>\n",
       "      <td>Chrissoulidis</td>\n",
       "      <td>dpchriss@auth.gr</td>\n",
       "      <td>M</td>\n",
       "      <td>Professor</td>\n",
       "      <td>ECE</td>\n",
       "      <td>auth</td>\n",
       "      <td>Dimitrios Chrissoulidis</td>\n",
       "    </tr>\n",
       "    <tr>\n",
       "      <th>8</th>\n",
       "      <td>62</td>\n",
       "      <td>Charis</td>\n",
       "      <td>Demoulias</td>\n",
       "      <td>chdimoul@auth.gr</td>\n",
       "      <td>M</td>\n",
       "      <td>Professor</td>\n",
       "      <td>ECE</td>\n",
       "      <td>auth</td>\n",
       "      <td>Charis Demoulias</td>\n",
       "    </tr>\n",
       "    <tr>\n",
       "      <th>9</th>\n",
       "      <td>69</td>\n",
       "      <td>Vasilis</td>\n",
       "      <td>Chatziathanasiou</td>\n",
       "      <td>hatziath@auth.gr</td>\n",
       "      <td>M</td>\n",
       "      <td>Associate Professor</td>\n",
       "      <td>ECE</td>\n",
       "      <td>auth</td>\n",
       "      <td>Vasilis Chatziathanasiou</td>\n",
       "    </tr>\n",
       "  </tbody>\n",
       "</table>\n",
       "</div>"
      ],
      "text/plain": [
       "   index  First name         Last name                 Email Gender  \\\n",
       "0     10       Nikos          Laskaris  laskaris@csd.auth.gr      M   \n",
       "1     13      Petros     Nicopolitidis    petros@csd.auth.gr      M   \n",
       "2     17          I.             Pitas     pitas@csd.auth.gr      M   \n",
       "3     20     Ioannis          Stamelos  stamelos@csd.auth.gr      M   \n",
       "4     25      Athena            Vakali   avakali@csd.auth.gr      F   \n",
       "5     35  Athanasios          Kehagias      kehagiat@auth.gr      M   \n",
       "6     52    Georgios         Sergiadis      sergiadi@auth.gr      M   \n",
       "7     54   Dimitrios     Chrissoulidis      dpchriss@auth.gr      M   \n",
       "8     62      Charis         Demoulias      chdimoul@auth.gr      M   \n",
       "9     69     Vasilis  Chatziathanasiou      hatziath@auth.gr      M   \n",
       "\n",
       "                  Role Faculty Alternative search                 Full name  \n",
       "0  Associate Professor      CS               auth            Nikos Laskaris  \n",
       "1  Associate Professor      CS                NaN      Petros Nicopolitidis  \n",
       "2            Professor      CS                NaN                  I. Pitas  \n",
       "3            Professor      CS          aristotle          Ioannis Stamelos  \n",
       "4            Professor      CS          aristotle             Athena Vakali  \n",
       "5  Associate Professor     ECE          aristotle       Athanasios Kehagias  \n",
       "6            Professor     ECE          aristotle        Georgios Sergiadis  \n",
       "7            Professor     ECE               auth   Dimitrios Chrissoulidis  \n",
       "8            Professor     ECE               auth          Charis Demoulias  \n",
       "9  Associate Professor     ECE               auth  Vasilis Chatziathanasiou  "
      ]
     },
     "execution_count": 5,
     "metadata": {},
     "output_type": "execute_result"
    }
   ],
   "source": [
    "df"
   ]
  },
  {
   "cell_type": "code",
   "execution_count": 6,
   "id": "04a39998",
   "metadata": {},
   "outputs": [
    {
     "data": {
      "application/vnd.jupyter.widget-view+json": {
       "model_id": "a584c813365f443a94d711a213f5252e",
       "version_major": 2,
       "version_minor": 0
      },
      "text/plain": [
       "Retrieving authors for University of Thessaloniki:   0%|          | 0/10 [00:00<?, ?it/s]"
      ]
     },
     "metadata": {},
     "output_type": "display_data"
    },
    {
     "name": "stdout",
     "output_type": "stream",
     "text": [
      "Number of retrieved authors: 10\n",
      "Number of failed authors: 0\n"
     ]
    }
   ],
   "source": [
    "uni_name = 'thessaloniki'\n",
    "authors, failed = retrieve_authors(df, uni_name)\n",
    "requeried_auth_authors = {'university': uni_name, 'authors': authors, 'failed': failed}"
   ]
  },
  {
   "cell_type": "markdown",
   "id": "599b56e2",
   "metadata": {},
   "source": [
    "## Merge successful and re-queried authors"
   ]
  },
  {
   "cell_type": "code",
   "execution_count": 7,
   "id": "9e62d848",
   "metadata": {},
   "outputs": [],
   "source": [
    "with open('../stage3/auth_authors.json') as f:\n",
    "    auth_authors = json.load(f)"
   ]
  },
  {
   "cell_type": "code",
   "execution_count": 8,
   "id": "2f36decd",
   "metadata": {},
   "outputs": [],
   "source": [
    "scholarIDs = map(lambda x: x['scholar_id'], auth_authors['authors'])\n",
    "for ra in requeried_auth_authors['authors']:\n",
    "    if ra['scholar_id'] not in scholarIDs:\n",
    "        auth_authors['authors'].append(ra)"
   ]
  },
  {
   "cell_type": "markdown",
   "id": "43691589",
   "metadata": {},
   "source": [
    "## Remove re-queried authors"
   ]
  },
  {
   "cell_type": "code",
   "execution_count": 9,
   "id": "b822e364",
   "metadata": {},
   "outputs": [],
   "source": [
    "df2 = pd.read_excel('../stage3/AUTHstaff.xlsx')\n",
    "df2['Full name'] = df2['First name'].str.cat(df2['Last name'], sep=' ')"
   ]
  },
  {
   "cell_type": "code",
   "execution_count": 10,
   "id": "78d527e5",
   "metadata": {},
   "outputs": [],
   "source": [
    "for name in df2.loc[df['index']]['Full name']:\n",
    "    try:\n",
    "        auth_authors['failed'].remove(name)\n",
    "    except ValueError:\n",
    "            print(uni_name + ', ' +  name)"
   ]
  },
  {
   "cell_type": "markdown",
   "id": "5e3d1b51",
   "metadata": {},
   "source": [
    "## Save new author data"
   ]
  },
  {
   "cell_type": "code",
   "execution_count": 11,
   "id": "5494ed30",
   "metadata": {},
   "outputs": [],
   "source": [
    "with open('auth_authors.json', 'w') as f:\n",
    "    json.dump(auth_authors, f)"
   ]
  }
 ],
 "metadata": {
  "kernelspec": {
   "display_name": "Python 3",
   "language": "python",
   "name": "python3"
  },
  "language_info": {
   "codemirror_mode": {
    "name": "ipython",
    "version": 3
   },
   "file_extension": ".py",
   "mimetype": "text/x-python",
   "name": "python",
   "nbconvert_exporter": "python",
   "pygments_lexer": "ipython3",
   "version": "3.7.10"
  }
 },
 "nbformat": 4,
 "nbformat_minor": 5
}
