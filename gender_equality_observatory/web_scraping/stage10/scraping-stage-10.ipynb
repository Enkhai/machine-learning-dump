{
 "cells": [
  {
   "cell_type": "markdown",
   "id": "41230b10",
   "metadata": {},
   "source": [
    "# Web scraping, Stage 10\n",
    "\n",
    "Requery all authors to retrieve citations and interests"
   ]
  },
  {
   "cell_type": "code",
   "execution_count": 1,
   "id": "aa384882",
   "metadata": {},
   "outputs": [],
   "source": [
    "import numpy as np\n",
    "import pandas as pd\n",
    "import json\n",
    "from scholarly import scholarly, ProxyGenerator\n",
    "from scholarly._navigator import MaxTriesExceededException\n",
    "from tqdm.notebook import tqdm"
   ]
  },
  {
   "cell_type": "code",
   "execution_count": 2,
   "id": "e51fbc4c",
   "metadata": {},
   "outputs": [],
   "source": [
    "def fill_in_citations_interests(item):\n",
    "    num_authors = len(item['authors'])\n",
    "    for i, a in tqdm(enumerate(item['authors']), \n",
    "                     total=len(item['authors']), \n",
    "                     desc='Retrieving citations and interests' + \n",
    "                     ' for University of {}'.format(item['university'].capitalize())):\n",
    "        try:\n",
    "            try:\n",
    "                author = scholarly.search_author_id(a['scholar_id'])\n",
    "                author = scholarly.fill(author, sections=['counts'])\n",
    "            except MaxTriesExceededException:\n",
    "                print('Query failed for author {} with id {}.'.format(a['name'], a['scholar_id']),\n",
    "                      'and University of', item['university'] , 'Generating new proxy')\n",
    "                pg = ProxyGenerator()\n",
    "                pg.FreeProxies()\n",
    "                scholarly.use_proxy(pg)\n",
    "                print('Retrying')\n",
    "                author = scholarly.search_author_id(a['scholar_id'])\n",
    "                author = scholarly.fill(author, sections=['indices', 'coauthors', 'publications'])\n",
    "        except:\n",
    "            print('Query for author with id {} failed.'.format(a))\n",
    "            \n",
    "        a['interests'] = author['interests']\n",
    "        a['cites_per_year'] = author['cites_per_year']"
   ]
  },
  {
   "cell_type": "code",
   "execution_count": 3,
   "id": "ab29dd1b",
   "metadata": {},
   "outputs": [],
   "source": [
    "authors = json.load(open('../stage8/uni_authors.json'))"
   ]
  },
  {
   "cell_type": "code",
   "execution_count": 4,
   "id": "6d370823",
   "metadata": {},
   "outputs": [
    {
     "data": {
      "application/vnd.jupyter.widget-view+json": {
       "model_id": "d04d904b06fd4a7da76259e88d089ad2",
       "version_major": 2,
       "version_minor": 0
      },
      "text/plain": [
       "Retrieving citations and interests for University of Oulu:   0%|          | 0/87 [00:00<?, ?it/s]"
      ]
     },
     "metadata": {},
     "output_type": "display_data"
    },
    {
     "data": {
      "application/vnd.jupyter.widget-view+json": {
       "model_id": "3da08bb97d9849b59c5dffab9ee8fc15",
       "version_major": 2,
       "version_minor": 0
      },
      "text/plain": [
       "Retrieving citations and interests for University of Bochum:   0%|          | 0/36 [00:00<?, ?it/s]"
      ]
     },
     "metadata": {},
     "output_type": "display_data"
    },
    {
     "data": {
      "application/vnd.jupyter.widget-view+json": {
       "model_id": "f78e71fc95ef4ed6aefca8895ec96b05",
       "version_major": 2,
       "version_minor": 0
      },
      "text/plain": [
       "Retrieving citations and interests for University of Porto:   0%|          | 0/66 [00:00<?, ?it/s]"
      ]
     },
     "metadata": {},
     "output_type": "display_data"
    },
    {
     "data": {
      "application/vnd.jupyter.widget-view+json": {
       "model_id": "b485e77494f447a0ae0330d733646c0f",
       "version_major": 2,
       "version_minor": 0
      },
      "text/plain": [
       "Retrieving citations and interests for University of Bordeaux:   0%|          | 0/36 [00:00<?, ?it/s]"
      ]
     },
     "metadata": {},
     "output_type": "display_data"
    },
    {
     "data": {
      "application/vnd.jupyter.widget-view+json": {
       "model_id": "d7597187c0ad483a966f30057185f878",
       "version_major": 2,
       "version_minor": 0
      },
      "text/plain": [
       "Retrieving citations and interests for University of Lodz:   0%|          | 0/51 [00:00<?, ?it/s]"
      ]
     },
     "metadata": {},
     "output_type": "display_data"
    },
    {
     "data": {
      "application/vnd.jupyter.widget-view+json": {
       "model_id": "af04d9317ea240158c7815b355a3409c",
       "version_major": 2,
       "version_minor": 0
      },
      "text/plain": [
       "Retrieving citations and interests for University of Thessaloniki:   0%|          | 0/64 [00:00<?, ?it/s]"
      ]
     },
     "metadata": {},
     "output_type": "display_data"
    }
   ],
   "source": [
    "for uni in authors:\n",
    "    fill_in_citations_interests(uni)"
   ]
  },
  {
   "cell_type": "markdown",
   "id": "f9fbf433",
   "metadata": {},
   "source": [
    "Verify interests and cites have been inserted."
   ]
  },
  {
   "cell_type": "code",
   "execution_count": 5,
   "id": "2c45c7cb",
   "metadata": {},
   "outputs": [
    {
     "data": {
      "text/plain": [
       "dict_keys(['scholar_id', 'name', 'affiliation', 'gender', 'role', 'url_picture', 'coauthors', 'i10index', 'i10index5y', 'hindex', 'hindex5y', 'citedby', 'citedby5y', 'num_publications', 'interests', 'cites_per_year'])"
      ]
     },
     "execution_count": 5,
     "metadata": {},
     "output_type": "execute_result"
    }
   ],
   "source": [
    "authors[0]['authors'][0].keys()"
   ]
  },
  {
   "cell_type": "markdown",
   "id": "4bd72d10",
   "metadata": {},
   "source": [
    "Save the authors to a JSON file. "
   ]
  },
  {
   "cell_type": "code",
   "execution_count": 8,
   "id": "4bcdb57b",
   "metadata": {},
   "outputs": [],
   "source": [
    "with open('uni_authors.json', 'w') as f:\n",
    "    json.dump(authors, f)"
   ]
  }
 ],
 "metadata": {
  "kernelspec": {
   "display_name": "Python 3",
   "language": "python",
   "name": "python3"
  },
  "language_info": {
   "codemirror_mode": {
    "name": "ipython",
    "version": 3
   },
   "file_extension": ".py",
   "mimetype": "text/x-python",
   "name": "python",
   "nbconvert_exporter": "python",
   "pygments_lexer": "ipython3",
   "version": "3.7.10"
  }
 },
 "nbformat": 4,
 "nbformat_minor": 5
}
