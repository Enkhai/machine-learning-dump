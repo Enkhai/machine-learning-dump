{
 "cells": [
  {
   "cell_type": "markdown",
   "id": "2dce9fef",
   "metadata": {},
   "source": [
    "# Web scraping, Stage 3\n",
    "\n",
    "Retrieving AUTH staff."
   ]
  },
  {
   "cell_type": "markdown",
   "id": "dead6067",
   "metadata": {},
   "source": [
    "Import needed libraries"
   ]
  },
  {
   "cell_type": "code",
   "execution_count": 1,
   "id": "72eca2db",
   "metadata": {},
   "outputs": [],
   "source": [
    "import numpy as np\n",
    "import pandas as pd\n",
    "import json\n",
    "from scholarly import scholarly, ProxyGenerator\n",
    "from scholarly._navigator import MaxTriesExceededException"
   ]
  },
  {
   "cell_type": "markdown",
   "id": "f5d80a51",
   "metadata": {},
   "source": [
    "We read the data and create a new `Full name` column."
   ]
  },
  {
   "cell_type": "code",
   "execution_count": 2,
   "id": "3e51dbca",
   "metadata": {},
   "outputs": [],
   "source": [
    "auth_df = pd.read_excel('AUTHstaff.xlsx')\n",
    "auth_df['Full name'] = auth_df['First name'].str.cat(auth_df['Last name'], sep=' ')"
   ]
  },
  {
   "cell_type": "markdown",
   "id": "422c7ef7",
   "metadata": {},
   "source": [
    "We re-use the function we specified in previous notebooks by extending it to include h-index, i10 index and citedby information."
   ]
  },
  {
   "cell_type": "code",
   "execution_count": 3,
   "id": "2498ab99",
   "metadata": {},
   "outputs": [],
   "source": [
    "def retrieve_authors(df, uni_name):\n",
    "    authors = []\n",
    "    failed = []\n",
    "\n",
    "    num_authors = len(df)\n",
    "    for i, name in enumerate(df['Full name']):\n",
    "        if i % 10 == 0:\n",
    "            print('Retrieving author no. {} out of {} for University of {}'.format(i + 1,\n",
    "                                                                                   num_authors, \n",
    "                                                                                   uni_name.capitalize()))\n",
    "        if 'Alternative search' in df and not pd.isnull(df['Alternative search'][i]):\n",
    "            if df['Alternative search'][i] == '<blank>':\n",
    "                query = scholarly.search_author(name)\n",
    "            else:\n",
    "                query = scholarly.search_author(name + ', ' + df['Alternative search'][i])\n",
    "        else:\n",
    "            query = scholarly.search_author(name + ', ' + uni_name)\n",
    "        try:\n",
    "            try:\n",
    "                author = scholarly.fill(next(query), sections=['indices', 'coauthors', 'publications'])\n",
    "            except MaxTriesExceededException:\n",
    "                print('Query failed. Generating new proxy')\n",
    "                pg = ProxyGenerator()\n",
    "                pg.FreeProxies()\n",
    "                scholarly.use_proxy(pg)\n",
    "                author = scholarly.fill(next(query), sections=['coauthors'])\n",
    "            \n",
    "            author_dict = {}\n",
    "            author_dict['scholar_id']  = author['scholar_id']\n",
    "            author_dict['name'] = author['name']\n",
    "            author_dict['affiliation'] = author['affiliation']\n",
    "            author_dict['gender'] = df['Gender'][i]\n",
    "            author_dict['role'] = df['Role'][i]\n",
    "            author_dict['url_picture'] = author['url_picture']\n",
    "            author_dict['i10index'] = author['i10index']\n",
    "            author_dict['i10index5y'] = author['i10index5y']\n",
    "            author_dict['hindex'] = author['hindex']\n",
    "            author_dict['hindex5y'] = author['hindex5y']\n",
    "            author_dict['citedby'] = author['citedby']\n",
    "            author_dict['citedby5y'] = author['citedby5y']\n",
    "            author_dict['num_publications'] = len(author['publications'])\n",
    "            author_dict['coauthors'] = [coauth['scholar_id'] for coauth in author['coauthors']]\n",
    "            authors.append(author_dict)\n",
    "        except StopIteration:\n",
    "            failed.append(name)\n",
    "\n",
    "    print('Number of retrieved authors:', len(authors))\n",
    "    print('Number of failed authors:', len(failed))\n",
    "    \n",
    "    return authors, failed"
   ]
  },
  {
   "cell_type": "markdown",
   "id": "5b7d9221",
   "metadata": {},
   "source": [
    "We retrieve the successfully queried and failed authors."
   ]
  },
  {
   "cell_type": "code",
   "execution_count": 4,
   "id": "7cf2d5c3",
   "metadata": {},
   "outputs": [
    {
     "name": "stdout",
     "output_type": "stream",
     "text": [
      "Retrieving author no. 1 out of 74 for University of Thessaloniki\n",
      "Retrieving author no. 11 out of 74 for University of Thessaloniki\n",
      "Retrieving author no. 21 out of 74 for University of Thessaloniki\n",
      "Retrieving author no. 31 out of 74 for University of Thessaloniki\n",
      "Retrieving author no. 41 out of 74 for University of Thessaloniki\n",
      "Retrieving author no. 51 out of 74 for University of Thessaloniki\n",
      "Retrieving author no. 61 out of 74 for University of Thessaloniki\n",
      "Retrieving author no. 71 out of 74 for University of Thessaloniki\n",
      "Number of retrieved authors: 54\n",
      "Number of failed authors: 20\n"
     ]
    }
   ],
   "source": [
    "uni_name = 'thessaloniki'\n",
    "authors, failed = retrieve_authors(auth_df, uni_name)\n",
    "auth_queried_authors = {'university': uni_name, 'authors': authors, 'failed': failed}"
   ]
  },
  {
   "cell_type": "markdown",
   "id": "532af2af",
   "metadata": {},
   "source": [
    "We save them into a JSON file."
   ]
  },
  {
   "cell_type": "code",
   "execution_count": 5,
   "id": "427f7140",
   "metadata": {},
   "outputs": [],
   "source": [
    "with open('auth_authors.json', 'w') as f:\n",
    "    json.dump(auth_queried_authors, f)"
   ]
  }
 ],
 "metadata": {
  "kernelspec": {
   "display_name": "Python 3",
   "language": "python",
   "name": "python3"
  },
  "language_info": {
   "codemirror_mode": {
    "name": "ipython",
    "version": 3
   },
   "file_extension": ".py",
   "mimetype": "text/x-python",
   "name": "python",
   "nbconvert_exporter": "python",
   "pygments_lexer": "ipython3",
   "version": "3.7.10"
  }
 },
 "nbformat": 4,
 "nbformat_minor": 5
}
