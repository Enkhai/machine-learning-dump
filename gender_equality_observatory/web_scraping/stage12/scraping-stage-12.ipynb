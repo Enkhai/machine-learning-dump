{
 "cells": [
  {
   "cell_type": "markdown",
   "id": "4657a066",
   "metadata": {},
   "source": [
    "# Web scraping, stage 12\n",
    "\n",
    "Adding coauthor-to-coauthor edges in the edges csv, removing duplicate edges and filtering self coauthorship"
   ]
  },
  {
   "cell_type": "code",
   "execution_count": 1,
   "id": "14bbe311",
   "metadata": {},
   "outputs": [],
   "source": [
    "import json\n",
    "import pandas as pd\n",
    "from tqdm.notebook import tqdm"
   ]
  },
  {
   "cell_type": "markdown",
   "id": "03fc0b3e",
   "metadata": {},
   "source": [
    "We load the coauthor JSON."
   ]
  },
  {
   "cell_type": "code",
   "execution_count": 2,
   "id": "9efeafac",
   "metadata": {},
   "outputs": [],
   "source": [
    "coauthors = json.load(open('../stage9/coauthors.json'))\n",
    "coauthor_df = pd.DataFrame(coauthors['successful'])\n",
    "coauthor_df = coauthor_df[~coauthor_df['scholar_id'].duplicated()]"
   ]
  },
  {
   "cell_type": "markdown",
   "id": "b78a0b09",
   "metadata": {},
   "source": [
    "We rename Adam Wojciechowski occurences, just as we did last time."
   ]
  },
  {
   "cell_type": "code",
   "execution_count": 3,
   "id": "a080b736",
   "metadata": {},
   "outputs": [
    {
     "data": {
      "text/html": [
       "<div>\n",
       "<style scoped>\n",
       "    .dataframe tbody tr th:only-of-type {\n",
       "        vertical-align: middle;\n",
       "    }\n",
       "\n",
       "    .dataframe tbody tr th {\n",
       "        vertical-align: top;\n",
       "    }\n",
       "\n",
       "    .dataframe thead th {\n",
       "        text-align: right;\n",
       "    }\n",
       "</style>\n",
       "<table border=\"1\" class=\"dataframe\">\n",
       "  <thead>\n",
       "    <tr style=\"text-align: right;\">\n",
       "      <th></th>\n",
       "      <th>scholar_id</th>\n",
       "      <th>name</th>\n",
       "      <th>affiliation</th>\n",
       "      <th>url_picture</th>\n",
       "      <th>i10index</th>\n",
       "      <th>i10index5y</th>\n",
       "      <th>hindex</th>\n",
       "      <th>hindex5y</th>\n",
       "      <th>citedby</th>\n",
       "      <th>citedby5y</th>\n",
       "      <th>num_publications</th>\n",
       "      <th>coauthors</th>\n",
       "    </tr>\n",
       "  </thead>\n",
       "  <tbody>\n",
       "    <tr>\n",
       "      <th>105</th>\n",
       "      <td>WBhGYE8AAAAJ</td>\n",
       "      <td>Adam Wojciechowski</td>\n",
       "      <td>Poznan University of Technology</td>\n",
       "      <td></td>\n",
       "      <td>13</td>\n",
       "      <td>7</td>\n",
       "      <td>12</td>\n",
       "      <td>7</td>\n",
       "      <td>764</td>\n",
       "      <td>203</td>\n",
       "      <td>46</td>\n",
       "      <td>[]</td>\n",
       "    </tr>\n",
       "    <tr>\n",
       "      <th>368</th>\n",
       "      <td>g628b44AAAAJ</td>\n",
       "      <td>Adam Wojciechowski</td>\n",
       "      <td>Instytut Logistyki i Magazynowania</td>\n",
       "      <td></td>\n",
       "      <td>3</td>\n",
       "      <td>3</td>\n",
       "      <td>5</td>\n",
       "      <td>5</td>\n",
       "      <td>208</td>\n",
       "      <td>107</td>\n",
       "      <td>214</td>\n",
       "      <td>[]</td>\n",
       "    </tr>\n",
       "  </tbody>\n",
       "</table>\n",
       "</div>"
      ],
      "text/plain": [
       "       scholar_id                name                         affiliation  \\\n",
       "105  WBhGYE8AAAAJ  Adam Wojciechowski     Poznan University of Technology   \n",
       "368  g628b44AAAAJ  Adam Wojciechowski  Instytut Logistyki i Magazynowania   \n",
       "\n",
       "    url_picture  i10index  i10index5y  hindex  hindex5y  citedby  citedby5y  \\\n",
       "105                    13           7      12         7      764        203   \n",
       "368                     3           3       5         5      208        107   \n",
       "\n",
       "     num_publications coauthors  \n",
       "105                46        []  \n",
       "368               214        []  "
      ]
     },
     "execution_count": 3,
     "metadata": {},
     "output_type": "execute_result"
    }
   ],
   "source": [
    "coauthor_df[coauthor_df['name'] == 'Adam Wojciechowski']"
   ]
  },
  {
   "cell_type": "code",
   "execution_count": 4,
   "id": "5797344a",
   "metadata": {},
   "outputs": [],
   "source": [
    "coauthor_df.at[105, 'name'] = 'Adam Wojciechowski(2)'\n",
    "coauthor_df.at[368, 'name'] = 'Adam Wojciechowski(3)'"
   ]
  },
  {
   "cell_type": "markdown",
   "id": "1844c55b",
   "metadata": {},
   "source": [
    "We filter the coauthor DataFrame with the columns we are going to need."
   ]
  },
  {
   "cell_type": "code",
   "execution_count": 5,
   "id": "cf6f9bbe",
   "metadata": {},
   "outputs": [],
   "source": [
    "coauthor4edges = coauthor_df[['scholar_id', 'name', 'coauthors']]"
   ]
  },
  {
   "cell_type": "markdown",
   "id": "913076ba",
   "metadata": {},
   "source": [
    "We create the initial edges between coauthors."
   ]
  },
  {
   "cell_type": "code",
   "execution_count": 6,
   "id": "7c6b03ec",
   "metadata": {},
   "outputs": [
    {
     "data": {
      "application/vnd.jupyter.widget-view+json": {
       "model_id": "40e36092665543ffacaef3736a7013f3",
       "version_major": 2,
       "version_minor": 0
      },
      "text/plain": [
       "  0%|          | 0/2320 [00:00<?, ?it/s]"
      ]
     },
     "metadata": {},
     "output_type": "display_data"
    },
    {
     "data": {
      "text/html": [
       "<div>\n",
       "<style scoped>\n",
       "    .dataframe tbody tr th:only-of-type {\n",
       "        vertical-align: middle;\n",
       "    }\n",
       "\n",
       "    .dataframe tbody tr th {\n",
       "        vertical-align: top;\n",
       "    }\n",
       "\n",
       "    .dataframe thead th {\n",
       "        text-align: right;\n",
       "    }\n",
       "</style>\n",
       "<table border=\"1\" class=\"dataframe\">\n",
       "  <thead>\n",
       "    <tr style=\"text-align: right;\">\n",
       "      <th></th>\n",
       "      <th>node1</th>\n",
       "      <th>node2</th>\n",
       "    </tr>\n",
       "  </thead>\n",
       "  <tbody>\n",
       "    <tr>\n",
       "      <th>0</th>\n",
       "      <td>Gunther Eggeler</td>\n",
       "      <td>Wolfgang Schmahl</td>\n",
       "    </tr>\n",
       "    <tr>\n",
       "      <th>1</th>\n",
       "      <td>James Dedrick</td>\n",
       "      <td>christine charles</td>\n",
       "    </tr>\n",
       "    <tr>\n",
       "      <th>2</th>\n",
       "      <td>James Dedrick</td>\n",
       "      <td>Timo Gans</td>\n",
       "    </tr>\n",
       "    <tr>\n",
       "      <th>3</th>\n",
       "      <td>James Dedrick</td>\n",
       "      <td>Erik Wagenaars</td>\n",
       "    </tr>\n",
       "    <tr>\n",
       "      <th>4</th>\n",
       "      <td>James Dedrick</td>\n",
       "      <td>Scott J Doyle</td>\n",
       "    </tr>\n",
       "    <tr>\n",
       "      <th>...</th>\n",
       "      <td>...</td>\n",
       "      <td>...</td>\n",
       "    </tr>\n",
       "    <tr>\n",
       "      <th>4329</th>\n",
       "      <td>Nitish Thakor</td>\n",
       "      <td>Anastasios Bezerianos</td>\n",
       "    </tr>\n",
       "    <tr>\n",
       "      <th>4330</th>\n",
       "      <td>Nitish Thakor</td>\n",
       "      <td>Xiaofeng Jia, MD, MS, PhD, FCCM, Professor</td>\n",
       "    </tr>\n",
       "    <tr>\n",
       "      <th>4331</th>\n",
       "      <td>Nitish Thakor</td>\n",
       "      <td>Shih-Cheng Yen</td>\n",
       "    </tr>\n",
       "    <tr>\n",
       "      <th>4332</th>\n",
       "      <td>Nitish Thakor</td>\n",
       "      <td>Angelo H. ALL</td>\n",
       "    </tr>\n",
       "    <tr>\n",
       "      <th>4333</th>\n",
       "      <td>Nitish Thakor</td>\n",
       "      <td>Yu SUN</td>\n",
       "    </tr>\n",
       "  </tbody>\n",
       "</table>\n",
       "<p>4334 rows × 2 columns</p>\n",
       "</div>"
      ],
      "text/plain": [
       "                node1                                       node2\n",
       "0     Gunther Eggeler                            Wolfgang Schmahl\n",
       "1       James Dedrick                           christine charles\n",
       "2       James Dedrick                                   Timo Gans\n",
       "3       James Dedrick                              Erik Wagenaars\n",
       "4       James Dedrick                               Scott J Doyle\n",
       "...               ...                                         ...\n",
       "4329    Nitish Thakor                       Anastasios Bezerianos\n",
       "4330    Nitish Thakor  Xiaofeng Jia, MD, MS, PhD, FCCM, Professor\n",
       "4331    Nitish Thakor                              Shih-Cheng Yen\n",
       "4332    Nitish Thakor                               Angelo H. ALL\n",
       "4333    Nitish Thakor                                      Yu SUN\n",
       "\n",
       "[4334 rows x 2 columns]"
      ]
     },
     "execution_count": 6,
     "metadata": {},
     "output_type": "execute_result"
    }
   ],
   "source": [
    "# The code below is terribly unoptimized but will have to do\n",
    "edges = []\n",
    "for a in tqdm(coauthor4edges.iterrows(), total=len(coauthor4edges)):\n",
    "    for ca_id in a[1]['coauthors']:\n",
    "        try:\n",
    "            ca_name = coauthor4edges[coauthor4edges['scholar_id'] == ca_id]['name'].item()\n",
    "        except ValueError:\n",
    "            continue\n",
    "        edges.append([a[1]['name'], ca_name])\n",
    "        \n",
    "edges_df = pd.DataFrame(edges, columns = ['node1', 'node2']).drop_duplicates()\n",
    "edges_df"
   ]
  },
  {
   "cell_type": "markdown",
   "id": "026e70a4",
   "metadata": {},
   "source": [
    "We load the edges csv we created in the previous step."
   ]
  },
  {
   "cell_type": "code",
   "execution_count": 7,
   "id": "f3ebcb13",
   "metadata": {
    "scrolled": true
   },
   "outputs": [
    {
     "data": {
      "text/html": [
       "<div>\n",
       "<style scoped>\n",
       "    .dataframe tbody tr th:only-of-type {\n",
       "        vertical-align: middle;\n",
       "    }\n",
       "\n",
       "    .dataframe tbody tr th {\n",
       "        vertical-align: top;\n",
       "    }\n",
       "\n",
       "    .dataframe thead th {\n",
       "        text-align: right;\n",
       "    }\n",
       "</style>\n",
       "<table border=\"1\" class=\"dataframe\">\n",
       "  <thead>\n",
       "    <tr style=\"text-align: right;\">\n",
       "      <th></th>\n",
       "      <th>node1</th>\n",
       "      <th>node2</th>\n",
       "    </tr>\n",
       "  </thead>\n",
       "  <tbody>\n",
       "    <tr>\n",
       "      <th>0</th>\n",
       "      <td>Steven M. LaValle</td>\n",
       "      <td>James Kuffner</td>\n",
       "    </tr>\n",
       "    <tr>\n",
       "      <th>1</th>\n",
       "      <td>Steven M. LaValle</td>\n",
       "      <td>Anna Yershova</td>\n",
       "    </tr>\n",
       "    <tr>\n",
       "      <th>2</th>\n",
       "      <td>Steven M. LaValle</td>\n",
       "      <td>Jingjin Yu</td>\n",
       "    </tr>\n",
       "    <tr>\n",
       "      <th>3</th>\n",
       "      <td>Steven M. LaValle</td>\n",
       "      <td>seth hutchinson</td>\n",
       "    </tr>\n",
       "    <tr>\n",
       "      <th>4</th>\n",
       "      <td>Steven M. LaValle</td>\n",
       "      <td>Jason O'Kane</td>\n",
       "    </tr>\n",
       "    <tr>\n",
       "      <th>...</th>\n",
       "      <td>...</td>\n",
       "      <td>...</td>\n",
       "    </tr>\n",
       "    <tr>\n",
       "      <th>3120</th>\n",
       "      <td>Charis Demoulias</td>\n",
       "      <td>Dimitar Bozalakov</td>\n",
       "    </tr>\n",
       "    <tr>\n",
       "      <th>3121</th>\n",
       "      <td>Charis Demoulias</td>\n",
       "      <td>Lieven Vandevelde</td>\n",
       "    </tr>\n",
       "    <tr>\n",
       "      <th>3122</th>\n",
       "      <td>Charis Demoulias</td>\n",
       "      <td>Jose Luis Martinez Ramos</td>\n",
       "    </tr>\n",
       "    <tr>\n",
       "      <th>3123</th>\n",
       "      <td>Charis Demoulias</td>\n",
       "      <td>Milos Cvetkovic</td>\n",
       "    </tr>\n",
       "    <tr>\n",
       "      <th>3124</th>\n",
       "      <td>Vasilis Chatziathanasiou</td>\n",
       "      <td>Dimitrios P. Lampridis (Dimitris P. Labridis)</td>\n",
       "    </tr>\n",
       "  </tbody>\n",
       "</table>\n",
       "<p>3125 rows × 2 columns</p>\n",
       "</div>"
      ],
      "text/plain": [
       "                         node1                                          node2\n",
       "0            Steven M. LaValle                                  James Kuffner\n",
       "1            Steven M. LaValle                                  Anna Yershova\n",
       "2            Steven M. LaValle                                     Jingjin Yu\n",
       "3            Steven M. LaValle                                seth hutchinson\n",
       "4            Steven M. LaValle                                   Jason O'Kane\n",
       "...                        ...                                            ...\n",
       "3120          Charis Demoulias                              Dimitar Bozalakov\n",
       "3121          Charis Demoulias                              Lieven Vandevelde\n",
       "3122          Charis Demoulias                       Jose Luis Martinez Ramos\n",
       "3123          Charis Demoulias                                Milos Cvetkovic\n",
       "3124  Vasilis Chatziathanasiou  Dimitrios P. Lampridis (Dimitris P. Labridis)\n",
       "\n",
       "[3125 rows x 2 columns]"
      ]
     },
     "execution_count": 7,
     "metadata": {},
     "output_type": "execute_result"
    }
   ],
   "source": [
    "edges_s11 = pd.read_csv('../stage11/edges.csv')\n",
    "edges_s11"
   ]
  },
  {
   "cell_type": "markdown",
   "id": "7fd414ca",
   "metadata": {},
   "source": [
    "We do the following:\n",
    "- Concatenate the author edges with the coauthor edges\n",
    "- Filter duplicate edges\n",
    "- Filter self coauthorship"
   ]
  },
  {
   "cell_type": "code",
   "execution_count": 8,
   "id": "1fb34af1",
   "metadata": {},
   "outputs": [
    {
     "data": {
      "text/html": [
       "<div>\n",
       "<style scoped>\n",
       "    .dataframe tbody tr th:only-of-type {\n",
       "        vertical-align: middle;\n",
       "    }\n",
       "\n",
       "    .dataframe tbody tr th {\n",
       "        vertical-align: top;\n",
       "    }\n",
       "\n",
       "    .dataframe thead th {\n",
       "        text-align: right;\n",
       "    }\n",
       "</style>\n",
       "<table border=\"1\" class=\"dataframe\">\n",
       "  <thead>\n",
       "    <tr style=\"text-align: right;\">\n",
       "      <th></th>\n",
       "      <th>node1</th>\n",
       "      <th>node2</th>\n",
       "    </tr>\n",
       "  </thead>\n",
       "  <tbody>\n",
       "    <tr>\n",
       "      <th>0</th>\n",
       "      <td>James Kuffner</td>\n",
       "      <td>Steven M. LaValle</td>\n",
       "    </tr>\n",
       "    <tr>\n",
       "      <th>1</th>\n",
       "      <td>Anna Yershova</td>\n",
       "      <td>Steven M. LaValle</td>\n",
       "    </tr>\n",
       "    <tr>\n",
       "      <th>2</th>\n",
       "      <td>Jingjin Yu</td>\n",
       "      <td>Steven M. LaValle</td>\n",
       "    </tr>\n",
       "    <tr>\n",
       "      <th>3</th>\n",
       "      <td>Steven M. LaValle</td>\n",
       "      <td>seth hutchinson</td>\n",
       "    </tr>\n",
       "    <tr>\n",
       "      <th>4</th>\n",
       "      <td>Jason O'Kane</td>\n",
       "      <td>Steven M. LaValle</td>\n",
       "    </tr>\n",
       "    <tr>\n",
       "      <th>...</th>\n",
       "      <td>...</td>\n",
       "      <td>...</td>\n",
       "    </tr>\n",
       "    <tr>\n",
       "      <th>7454</th>\n",
       "      <td>Anastasios Bezerianos</td>\n",
       "      <td>Nitish Thakor</td>\n",
       "    </tr>\n",
       "    <tr>\n",
       "      <th>7455</th>\n",
       "      <td>Nitish Thakor</td>\n",
       "      <td>Xiaofeng Jia, MD, MS, PhD, FCCM, Professor</td>\n",
       "    </tr>\n",
       "    <tr>\n",
       "      <th>7456</th>\n",
       "      <td>Nitish Thakor</td>\n",
       "      <td>Shih-Cheng Yen</td>\n",
       "    </tr>\n",
       "    <tr>\n",
       "      <th>7457</th>\n",
       "      <td>Angelo H. ALL</td>\n",
       "      <td>Nitish Thakor</td>\n",
       "    </tr>\n",
       "    <tr>\n",
       "      <th>7458</th>\n",
       "      <td>Nitish Thakor</td>\n",
       "      <td>Yu SUN</td>\n",
       "    </tr>\n",
       "  </tbody>\n",
       "</table>\n",
       "<p>6260 rows × 2 columns</p>\n",
       "</div>"
      ],
      "text/plain": [
       "                      node1                                       node2\n",
       "0             James Kuffner                           Steven M. LaValle\n",
       "1             Anna Yershova                           Steven M. LaValle\n",
       "2                Jingjin Yu                           Steven M. LaValle\n",
       "3         Steven M. LaValle                             seth hutchinson\n",
       "4              Jason O'Kane                           Steven M. LaValle\n",
       "...                     ...                                         ...\n",
       "7454  Anastasios Bezerianos                               Nitish Thakor\n",
       "7455          Nitish Thakor  Xiaofeng Jia, MD, MS, PhD, FCCM, Professor\n",
       "7456          Nitish Thakor                              Shih-Cheng Yen\n",
       "7457          Angelo H. ALL                               Nitish Thakor\n",
       "7458          Nitish Thakor                                      Yu SUN\n",
       "\n",
       "[6260 rows x 2 columns]"
      ]
     },
     "execution_count": 8,
     "metadata": {},
     "output_type": "execute_result"
    }
   ],
   "source": [
    "all_edges = edges_s11.append(edges_df, ignore_index=True)\n",
    "all_edges = all_edges.apply(lambda x: sorted(x), axis=1, result_type='expand').drop_duplicates()\n",
    "# column names are lost after applying the `apply` function\n",
    "all_edges.columns = ['node1', 'node2']\n",
    "all_edges = all_edges[all_edges['node1'] != all_edges['node2']]\n",
    "all_edges"
   ]
  },
  {
   "cell_type": "markdown",
   "id": "88d8cca3",
   "metadata": {},
   "source": [
    "We save to a new csv."
   ]
  },
  {
   "cell_type": "code",
   "execution_count": 9,
   "id": "ea230001",
   "metadata": {},
   "outputs": [],
   "source": [
    "all_edges.to_csv('edges.csv', index=False)"
   ]
  }
 ],
 "metadata": {
  "kernelspec": {
   "display_name": "Python 3",
   "language": "python",
   "name": "python3"
  },
  "language_info": {
   "codemirror_mode": {
    "name": "ipython",
    "version": 3
   },
   "file_extension": ".py",
   "mimetype": "text/x-python",
   "name": "python",
   "nbconvert_exporter": "python",
   "pygments_lexer": "ipython3",
   "version": "3.7.10"
  }
 },
 "nbformat": 4,
 "nbformat_minor": 5
}
